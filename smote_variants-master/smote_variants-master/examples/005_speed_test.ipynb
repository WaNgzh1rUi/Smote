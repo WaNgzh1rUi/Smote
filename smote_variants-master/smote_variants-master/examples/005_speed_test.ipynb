{
 "cells": [
  {
   "cell_type": "markdown",
   "metadata": {},
   "source": [
    "# Speed test\n",
    "\n",
    "In this notebook, we compare the performance of the ```smote_variants``` package with that of the ```imblearn``` package through the three oversamplers implemented in common. Note that the implementations contain different logic to determine the number of samples to be generated. Generally, ```imblearn``` implementations are more flexible, ```smote_variants``` implementations are more simple to use."
   ]
  },
  {
   "cell_type": "code",
   "execution_count": 1,
   "metadata": {},
   "outputs": [
    {
     "name": "stderr",
     "output_type": "stream",
     "text": [
      "2022-08-16 16:05:32.494081: I tensorflow/core/util/util.cc:169] oneDNN custom operations are on. You may see slightly different numerical results due to floating-point round-off errors from different computation orders. To turn them off, set the environment variable `TF_ENABLE_ONEDNN_OPTS=0`.\n",
      "2022-08-16 16:05:32.666357: W tensorflow/stream_executor/platform/default/dso_loader.cc:64] Could not load dynamic library 'libcudart.so.11.0'; dlerror: libcudart.so.11.0: cannot open shared object file: No such file or directory\n",
      "2022-08-16 16:05:32.666386: I tensorflow/stream_executor/cuda/cudart_stub.cc:29] Ignore above cudart dlerror if you do not have a GPU set up on your machine.\n"
     ]
    }
   ],
   "source": [
    "import smote_variants as sv\n",
    "import common_datasets.binary_classification as bin_clas\n",
    "\n",
    "import matplotlib.pyplot as plt\n",
    "import time\n",
    "import numpy as np\n",
    "import pandas as pd\n",
    "\n",
    "import logging\n",
    "\n",
    "logger = logging.getLogger('smote_variants')\n",
    "logger.setLevel(logging.CRITICAL)"
   ]
  },
  {
   "cell_type": "code",
   "execution_count": 2,
   "metadata": {},
   "outputs": [],
   "source": [
    "def measure(sv, datasets):\n",
    "    \"\"\"\n",
    "    The function measuring the runtimes of oversamplers on a set of datasets.\n",
    "    \n",
    "    Args:\n",
    "        sv (list(smote_variants.Oversampling)): the list of oversampling objects from smote_variants\n",
    "        datasets (list(function)): dataset loading functions\n",
    "    Returns:\n",
    "        pd.DataFrame: mean oversampling runtimes for the various oversamplers over all datasets\n",
    "    \"\"\"\n",
    "    \n",
    "    results= {}\n",
    "    # iterating through all datasets\n",
    "    for d in datasets:\n",
    "        data= d()\n",
    "        print('processing: %s' % data['name'])\n",
    "        \n",
    "        X= data['data']\n",
    "        y= data['target']\n",
    "        for i, s in enumerate(sv):\n",
    "            # imblearn seems to fail on some edge cases\n",
    "            try:\n",
    "                # measuring oversampling runtime using smote_variants\n",
    "                t0= time.time()\n",
    "                X_samp, y_samp= sv[i]().sample(X, y)\n",
    "                res_sv= time.time() - t0\n",
    "                \n",
    "                if not s.__name__ in results:\n",
    "                    results[s.__name__]= []\n",
    "                \n",
    "                # appending the results\n",
    "                results[s.__name__].append(res_sv)\n",
    "            except Exception as exception:\n",
    "                print('failed', sv[i].__name__, str(exception))\n",
    "    \n",
    "    # preparing the final dataframe\n",
    "    for k in results:\n",
    "        results[k]= [np.mean(results[k])]\n",
    "    \n",
    "    return results\n"
   ]
  },
  {
   "cell_type": "code",
   "execution_count": 3,
   "metadata": {},
   "outputs": [
    {
     "name": "stdout",
     "output_type": "stream",
     "text": [
      "processing: cleveland-0_vs_4\n"
     ]
    },
    {
     "name": "stderr",
     "output_type": "stream",
     "text": [
      "2022-08-16 16:05:57.955971: W tensorflow/stream_executor/platform/default/dso_loader.cc:64] Could not load dynamic library 'libcuda.so.1'; dlerror: libcuda.so.1: cannot open shared object file: No such file or directory\n",
      "2022-08-16 16:05:57.956064: W tensorflow/stream_executor/cuda/cuda_driver.cc:269] failed call to cuInit: UNKNOWN ERROR (303)\n",
      "2022-08-16 16:05:57.956089: I tensorflow/stream_executor/cuda/cuda_diagnostics.cc:156] kernel driver does not appear to be running on this host (daa): /proc/driver/nvidia/version does not exist\n",
      "2022-08-16 16:05:57.956885: I tensorflow/core/platform/cpu_feature_guard.cc:193] This TensorFlow binary is optimized with oneAPI Deep Neural Network Library (oneDNN) to use the following CPU instructions in performance-critical operations:  AVX2 AVX512F AVX512_VNNI FMA\n",
      "To enable them in other operations, rebuild TensorFlow with the appropriate compiler flags.\n"
     ]
    },
    {
     "name": "stdout",
     "output_type": "stream",
     "text": [
      "5/5 [==============================] - 0s 1ms/step\n",
      "processing: glass-0-1-5_vs_2\n",
      "5/5 [==============================] - 0s 1ms/step\n",
      "processing: glass-0-1-6_vs_2\n",
      "5/5 [==============================] - 0s 1ms/step\n",
      "processing: glass-0-1-6_vs_5\n",
      "6/6 [==============================] - 0s 2ms/step\n",
      "processing: glass-0-4_vs_5\n",
      "3/3 [==============================] - 0s 2ms/step\n",
      "processing: glass-0-6_vs_5\n",
      "3/3 [==============================] - 0s 6ms/step\n",
      "processing: shuttle-c2-vs-c4\n",
      "4/4 [==============================] - 0s 3ms/step\n",
      "processing: winequality-white-9_vs_4\n",
      "5/5 [==============================] - 0s 1ms/step\n",
      "processing: iris0\n",
      "2/2 [==============================] - 0s 3ms/step\n",
      "processing: appendicitis\n",
      "2/2 [==============================] - 0s 3ms/step\n"
     ]
    }
   ],
   "source": [
    "# Executing the evaluation for the techniques implemented by both smote_variants and imblearn, using the\n",
    "# same parameters, involving 104 datasets\n",
    "\n",
    "sv_techniques= sv.get_all_oversamplers()\n",
    "\n",
    "results= measure(sv_techniques,\n",
    "                 bin_clas.get_filtered_data_loaders(n_bounds=(1, 200), \n",
    "                                                    n_attr_encoded_bounds=(1, 20)))"
   ]
  },
  {
   "cell_type": "code",
   "execution_count": 4,
   "metadata": {},
   "outputs": [
    {
     "name": "stdout",
     "output_type": "stream",
     "text": [
      "{'A_SUWO': 0.06874444484710693, 'ADASYN': 0.003873300552368164, 'ADG': 5.060082960128784, 'ADOMS': 0.0985719919204712, 'AHC': 0.001047801971435547, 'AMSCO': 19.409874176979066, 'AND_SMOTE': 0.00766148567199707, 'ANS': 0.0068471431732177734, 'ASMOBD': 0.03955373764038086, 'Assembled_SMOTE': 0.004727840423583984, 'Borderline_SMOTE1': 0.0040040254592895504, 'Borderline_SMOTE2': 0.0025308847427368162, 'CBSO': 0.007673573493957519, 'CCR': 0.0032512903213500976, 'CE_SMOTE': 0.1817408561706543, 'cluster_SMOTE': 0.02349236011505127, 'CURE_SMOTE': 0.0022810220718383787, 'DBSMOTE': 0.03819341659545898, 'DE_oversampling': 0.0767374038696289, 'DEAGO': 3.6618275880813598, 'distance_SMOTE': 0.003498554229736328, 'DSMOTE': 0.5715477705001831, 'DSRBF': 40.746605324745175, 'E_SMOTE': 0.19726550579071045, 'Edge_Det_SMOTE': 0.0034935712814331056, 'G_SMOTE': 0.007154273986816406, 'GASMOTE': 0.8189513683319092, 'Gaussian_SMOTE': 0.004134678840637207, 'polynom_fit_SMOTE_star': 0.0004878044128417969, 'polynom_fit_SMOTE_bus': 0.00037889480590820314, 'polynom_fit_SMOTE_poly': 0.002485060691833496, 'polynom_fit_SMOTE_mesh': 0.0018918991088867187, 'Gazzah': 0.002281856536865234, 'IPADE_ID': 2.2183698654174804, 'ISMOTE': 0.015770363807678222, 'ISOMAP_Hybrid': 0.11936454772949219, 'KernelADASYN': 0.17501089572906495, 'kmeans_SMOTE': 0.05595927238464356, 'Lee': 0.006138134002685547, 'LLE_SMOTE': 0.047904348373413085, 'LN_SMOTE': 0.007674169540405273, 'LVQ_SMOTE': 0.11023280620574952, 'MCT': 0.002189373970031738, 'MDO': 0.009600591659545899, 'MOT2LD': 0.3425107479095459, 'MSYN': 0.039665055274963376, 'MWMOTE': 0.03925745487213135, 'NDO_sampling': 0.0044364452362060545, 'NEATER': 0.04742579460144043, 'NoSMOTE': 0.00015900135040283203, 'NRAS': 0.005885791778564453, 'NRSBoundary_SMOTE': 0.057904744148254396, 'NT_SMOTE': 0.0015106916427612305, 'OUPS': 0.004267549514770508, 'PDFOS': 0.004595613479614258, 'ProWSyn': 0.03517396450042724, 'Random_SMOTE': 0.0014075994491577148, 'ROSE': 0.00033104419708251953, 'RWO_sampling': 0.0012566089630126954, 'Safe_Level_SMOTE': 0.0016789674758911134, 'SDSMOTE': 0.08923099040985108, 'Selected_SMOTE': 0.003140377998352051, 'SL_graph_SMOTE': 0.005402970314025879, 'SMMO': 0.0038316965103149412, 'SMOBD': 0.006377458572387695, 'SMOTE_Cosine': 0.0034481048583984374, 'SMOTE_D': 0.0034512758255004885, 'SMOTE_ENN': 0.013390588760375976, 'SMOTE_FRST_2T': 0.017459774017333986, 'SMOTE_IPF': 0.03428993225097656, 'SMOTE_OUT': 0.004074358940124511, 'SMOTE_PSO': 3.306168222427368, 'SMOTE_PSOBAT': 1.0037142515182496, 'SMOTE_RSB': 0.0032561779022216796, 'SMOTE_TomekLinks': 0.003857707977294922, 'SMOTE': 0.0029209613800048827, 'SN_SMOTE': 0.01112520694732666, 'SOI_CJ': 0.01851918697357178, 'SOMO': 0.01479787826538086, 'SPY': 0.0010745525360107422, 'SSO': 0.23747098445892334, 'Stefanowski': 0.006186723709106445, 'SUNDO': 0.015786004066467286, 'Supervised_SMOTE': 0.08147521018981933, 'SVM_balance': 0.053958773612976074, 'SYMPROD': 0.010783815383911132, 'TRIM_SMOTE': 0.009523105621337891, 'V_SYNTH': 0.023531556129455566, 'VIS_RST': 0.02099323272705078, 'MSMOTE': 0.0010436534881591796}\n"
     ]
    }
   ],
   "source": [
    "# Printing the results, the unit is 'seconds'\n",
    "\n",
    "print({key: item[0] for key, item in results.items()})"
   ]
  },
  {
   "cell_type": "code",
   "execution_count": 5,
   "metadata": {},
   "outputs": [],
   "source": [
    "sorted = dict(list(sorted(list(results.items()), key=lambda x: x[1][0])))"
   ]
  },
  {
   "cell_type": "code",
   "execution_count": 6,
   "metadata": {},
   "outputs": [
    {
     "name": "stdout",
     "output_type": "stream",
     "text": [
      "'NoSMOTE': 0.00015900135040283203,\n",
      "'ROSE': 0.00033104419708251953,\n",
      "'polynom_fit_SMOTE_bus': 0.00037889480590820314,\n",
      "'polynom_fit_SMOTE_star': 0.0004878044128417969,\n",
      "'MSMOTE': 0.0010436534881591796,\n",
      "'AHC': 0.001047801971435547,\n",
      "'SPY': 0.0010745525360107422,\n",
      "'RWO_sampling': 0.0012566089630126954,\n",
      "'Random_SMOTE': 0.0014075994491577148,\n",
      "'NT_SMOTE': 0.0015106916427612305,\n",
      "'Safe_Level_SMOTE': 0.0016789674758911134,\n",
      "'polynom_fit_SMOTE_mesh': 0.0018918991088867187,\n",
      "'MCT': 0.002189373970031738,\n",
      "'CURE_SMOTE': 0.0022810220718383787,\n",
      "'Gazzah': 0.002281856536865234,\n",
      "'polynom_fit_SMOTE_poly': 0.002485060691833496,\n",
      "'Borderline_SMOTE2': 0.0025308847427368162,\n",
      "'SMOTE': 0.0029209613800048827,\n",
      "'Selected_SMOTE': 0.003140377998352051,\n",
      "'CCR': 0.0032512903213500976,\n",
      "'SMOTE_RSB': 0.0032561779022216796,\n",
      "'SMOTE_Cosine': 0.0034481048583984374,\n",
      "'SMOTE_D': 0.0034512758255004885,\n",
      "'Edge_Det_SMOTE': 0.0034935712814331056,\n",
      "'distance_SMOTE': 0.003498554229736328,\n",
      "'SMMO': 0.0038316965103149412,\n",
      "'SMOTE_TomekLinks': 0.003857707977294922,\n",
      "'ADASYN': 0.003873300552368164,\n",
      "'Borderline_SMOTE1': 0.0040040254592895504,\n",
      "'SMOTE_OUT': 0.004074358940124511,\n",
      "'Gaussian_SMOTE': 0.004134678840637207,\n",
      "'OUPS': 0.004267549514770508,\n",
      "'NDO_sampling': 0.0044364452362060545,\n",
      "'PDFOS': 0.004595613479614258,\n",
      "'Assembled_SMOTE': 0.004727840423583984,\n",
      "'SL_graph_SMOTE': 0.005402970314025879,\n",
      "'NRAS': 0.005885791778564453,\n",
      "'Lee': 0.006138134002685547,\n",
      "'Stefanowski': 0.006186723709106445,\n",
      "'SMOBD': 0.006377458572387695,\n",
      "'ANS': 0.0068471431732177734,\n",
      "'G_SMOTE': 0.007154273986816406,\n",
      "'AND_SMOTE': 0.00766148567199707,\n",
      "'CBSO': 0.007673573493957519,\n",
      "'LN_SMOTE': 0.007674169540405273,\n",
      "'TRIM_SMOTE': 0.009523105621337891,\n",
      "'MDO': 0.009600591659545899,\n",
      "'SYMPROD': 0.010783815383911132,\n",
      "'SN_SMOTE': 0.01112520694732666,\n",
      "'SMOTE_ENN': 0.013390588760375976,\n",
      "'SOMO': 0.01479787826538086,\n",
      "'ISMOTE': 0.015770363807678222,\n",
      "'SUNDO': 0.015786004066467286,\n",
      "'SMOTE_FRST_2T': 0.017459774017333986,\n",
      "'SOI_CJ': 0.01851918697357178,\n",
      "'VIS_RST': 0.02099323272705078,\n",
      "'cluster_SMOTE': 0.02349236011505127,\n",
      "'V_SYNTH': 0.023531556129455566,\n",
      "'SMOTE_IPF': 0.03428993225097656,\n",
      "'ProWSyn': 0.03517396450042724,\n",
      "'DBSMOTE': 0.03819341659545898,\n",
      "'MWMOTE': 0.03925745487213135,\n",
      "'ASMOBD': 0.03955373764038086,\n",
      "'MSYN': 0.039665055274963376,\n",
      "'NEATER': 0.04742579460144043,\n",
      "'LLE_SMOTE': 0.047904348373413085,\n",
      "'SVM_balance': 0.053958773612976074,\n",
      "'kmeans_SMOTE': 0.05595927238464356,\n",
      "'NRSBoundary_SMOTE': 0.057904744148254396,\n",
      "'A_SUWO': 0.06874444484710693,\n",
      "'DE_oversampling': 0.0767374038696289,\n",
      "'Supervised_SMOTE': 0.08147521018981933,\n",
      "'SDSMOTE': 0.08923099040985108,\n",
      "'ADOMS': 0.0985719919204712,\n",
      "'LVQ_SMOTE': 0.11023280620574952,\n",
      "'ISOMAP_Hybrid': 0.11936454772949219,\n",
      "'KernelADASYN': 0.17501089572906495,\n",
      "'CE_SMOTE': 0.1817408561706543,\n",
      "'E_SMOTE': 0.19726550579071045,\n",
      "'SSO': 0.23747098445892334,\n",
      "'MOT2LD': 0.3425107479095459,\n",
      "'DSMOTE': 0.5715477705001831,\n",
      "'GASMOTE': 0.8189513683319092,\n",
      "'SMOTE_PSOBAT': 1.0037142515182496,\n",
      "'IPADE_ID': 2.2183698654174804,\n",
      "'SMOTE_PSO': 3.306168222427368,\n",
      "'DEAGO': 3.6618275880813598,\n",
      "'ADG': 5.060082960128784,\n",
      "'AMSCO': 19.409874176979066,\n",
      "'DSRBF': 40.746605324745175,\n"
     ]
    }
   ],
   "source": [
    "for key, item in sorted.items():\n",
    "    print(f\"'{key}': {item[0]},\")"
   ]
  },
  {
   "cell_type": "code",
   "execution_count": null,
   "metadata": {},
   "outputs": [],
   "source": []
  }
 ],
 "metadata": {
  "kernelspec": {
   "display_name": "Python 3.10.4 ('smote_variants')",
   "language": "python",
   "name": "python3"
  },
  "language_info": {
   "codemirror_mode": {
    "name": "ipython",
    "version": 3
   },
   "file_extension": ".py",
   "mimetype": "text/x-python",
   "name": "python",
   "nbconvert_exporter": "python",
   "pygments_lexer": "ipython3",
   "version": "3.10.4"
  },
  "vscode": {
   "interpreter": {
    "hash": "04ee80b1cee16018cf8dd56bf8f0a10a10cf53a2e8478a33e897f29ae53ad00d"
   }
  }
 },
 "nbformat": 4,
 "nbformat_minor": 2
}
