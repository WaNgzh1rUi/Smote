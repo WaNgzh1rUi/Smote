{
 "cells": [
  {
   "cell_type": "markdown",
   "metadata": {},
   "source": [
    "# Integration with sklearn pipelines\n",
    "\n",
    "In this notebook, provide some illustration for integration with sklearn pipelines."
   ]
  },
  {
   "cell_type": "code",
   "execution_count": 1,
   "metadata": {
    "scrolled": true
   },
   "outputs": [
    {
     "name": "stderr",
     "output_type": "stream",
     "text": [
      "2022-08-15 13:24:39.187491: I tensorflow/core/util/util.cc:169] oneDNN custom operations are on. You may see slightly different numerical results due to floating-point round-off errors from different computation orders. To turn them off, set the environment variable `TF_ENABLE_ONEDNN_OPTS=0`.\n",
      "2022-08-15 13:24:39.194945: W tensorflow/stream_executor/platform/default/dso_loader.cc:64] Could not load dynamic library 'libcudart.so.11.0'; dlerror: libcudart.so.11.0: cannot open shared object file: No such file or directory\n",
      "2022-08-15 13:24:39.194970: I tensorflow/stream_executor/cuda/cudart_stub.cc:29] Ignore above cudart dlerror if you do not have a GPU set up on your machine.\n"
     ]
    }
   ],
   "source": [
    "import keras\n",
    "import imblearn\n",
    "\n",
    "import numpy as np\n",
    "\n",
    "import smote_variants as sv\n",
    "import imblearn.datasets as imb_datasets\n",
    "\n",
    "from sklearn.model_selection import train_test_split, GridSearchCV\n",
    "from sklearn.pipeline import Pipeline\n",
    "from sklearn.preprocessing import StandardScaler\n",
    "from sklearn.neighbors import KNeighborsClassifier\n",
    "\n",
    "random_seed= 3"
   ]
  },
  {
   "cell_type": "markdown",
   "metadata": {},
   "source": [
    "## Preparing the data"
   ]
  },
  {
   "cell_type": "code",
   "execution_count": null,
   "metadata": {},
   "outputs": [],
   "source": [
    "np.random.seed(random_seed)"
   ]
  },
  {
   "cell_type": "code",
   "execution_count": null,
   "metadata": {},
   "outputs": [],
   "source": [
    "libras= imb_datasets.fetch_datasets()['libras_move']\n",
    "X, y= libras['data'], libras['target']"
   ]
  },
  {
   "cell_type": "code",
   "execution_count": null,
   "metadata": {},
   "outputs": [],
   "source": [
    "X_train, X_test, y_train, y_test= train_test_split(X, y, test_size= 0.33)"
   ]
  },
  {
   "cell_type": "markdown",
   "metadata": {},
   "source": [
    "## Fitting a pipeline"
   ]
  },
  {
   "cell_type": "code",
   "execution_count": null,
   "metadata": {},
   "outputs": [],
   "source": [
    "oversampler = ('smote_variants', 'MulticlassOversampling', \n",
    "                {'oversampler': 'distance_SMOTE', 'oversampler_params': {}})\n",
    "\n",
    "classifier = ('sklearn.neighbors', 'KNeighborsClassifier', {})\n",
    "\n",
    "#oversampler= sv.MulticlassOversampling('distance_SMOTE')\n",
    "#classifier= KNeighborsClassifier(n_neighbors= 5)"
   ]
  },
  {
   "cell_type": "code",
   "execution_count": null,
   "metadata": {},
   "outputs": [],
   "source": [
    "model= Pipeline([('scale', StandardScaler()), \n",
    "            ('clf', sv.classifiers.OversamplingClassifier(oversampler, classifier))])"
   ]
  },
  {
   "cell_type": "code",
   "execution_count": null,
   "metadata": {},
   "outputs": [
    {
     "name": "stderr",
     "output_type": "stream",
     "text": [
      "2022-08-15 11:07:39,755:INFO:MulticlassOversampling: Running multiclass oversampling with strategy eq_1_vs_many_successive\n",
      "2022-08-15 11:07:39,757:INFO:MulticlassOversampling: Sampling minority class with label: 1\n",
      "2022-08-15 11:07:39,760:INFO:distance_SMOTE: Running sampling via ('distance_SMOTE', \"{'proportion': 1.0, 'n_neighbors': 5, 'nn_params': {}, 'n_jobs': 1, 'ss_params': {'n_dim': 2, 'simplex_sampling': 'uniform', 'within_simplex_sampling': 'random', 'gaussian_component': {}}, 'random_state': None, 'class_name': 'distance_SMOTE'}\")\n",
      "2022-08-15 11:07:39,762:INFO:NearestNeighborsWithMetricTensor: NN fitting with metric minkowski\n",
      "2022-08-15 11:07:39,763:INFO:NearestNeighborsWithMetricTensor: kneighbors query minkowski\n",
      "2022-08-15 11:07:40,021:INFO:distance_SMOTE: simplex sampling with n_dim 2\n"
     ]
    },
    {
     "data": {
      "text/html": [
       "<style>#sk-container-id-1 {color: black;background-color: white;}#sk-container-id-1 pre{padding: 0;}#sk-container-id-1 div.sk-toggleable {background-color: white;}#sk-container-id-1 label.sk-toggleable__label {cursor: pointer;display: block;width: 100%;margin-bottom: 0;padding: 0.3em;box-sizing: border-box;text-align: center;}#sk-container-id-1 label.sk-toggleable__label-arrow:before {content: \"▸\";float: left;margin-right: 0.25em;color: #696969;}#sk-container-id-1 label.sk-toggleable__label-arrow:hover:before {color: black;}#sk-container-id-1 div.sk-estimator:hover label.sk-toggleable__label-arrow:before {color: black;}#sk-container-id-1 div.sk-toggleable__content {max-height: 0;max-width: 0;overflow: hidden;text-align: left;background-color: #f0f8ff;}#sk-container-id-1 div.sk-toggleable__content pre {margin: 0.2em;color: black;border-radius: 0.25em;background-color: #f0f8ff;}#sk-container-id-1 input.sk-toggleable__control:checked~div.sk-toggleable__content {max-height: 200px;max-width: 100%;overflow: auto;}#sk-container-id-1 input.sk-toggleable__control:checked~label.sk-toggleable__label-arrow:before {content: \"▾\";}#sk-container-id-1 div.sk-estimator input.sk-toggleable__control:checked~label.sk-toggleable__label {background-color: #d4ebff;}#sk-container-id-1 div.sk-label input.sk-toggleable__control:checked~label.sk-toggleable__label {background-color: #d4ebff;}#sk-container-id-1 input.sk-hidden--visually {border: 0;clip: rect(1px 1px 1px 1px);clip: rect(1px, 1px, 1px, 1px);height: 1px;margin: -1px;overflow: hidden;padding: 0;position: absolute;width: 1px;}#sk-container-id-1 div.sk-estimator {font-family: monospace;background-color: #f0f8ff;border: 1px dotted black;border-radius: 0.25em;box-sizing: border-box;margin-bottom: 0.5em;}#sk-container-id-1 div.sk-estimator:hover {background-color: #d4ebff;}#sk-container-id-1 div.sk-parallel-item::after {content: \"\";width: 100%;border-bottom: 1px solid gray;flex-grow: 1;}#sk-container-id-1 div.sk-label:hover label.sk-toggleable__label {background-color: #d4ebff;}#sk-container-id-1 div.sk-serial::before {content: \"\";position: absolute;border-left: 1px solid gray;box-sizing: border-box;top: 0;bottom: 0;left: 50%;z-index: 0;}#sk-container-id-1 div.sk-serial {display: flex;flex-direction: column;align-items: center;background-color: white;padding-right: 0.2em;padding-left: 0.2em;position: relative;}#sk-container-id-1 div.sk-item {position: relative;z-index: 1;}#sk-container-id-1 div.sk-parallel {display: flex;align-items: stretch;justify-content: center;background-color: white;position: relative;}#sk-container-id-1 div.sk-item::before, #sk-container-id-1 div.sk-parallel-item::before {content: \"\";position: absolute;border-left: 1px solid gray;box-sizing: border-box;top: 0;bottom: 0;left: 50%;z-index: -1;}#sk-container-id-1 div.sk-parallel-item {display: flex;flex-direction: column;z-index: 1;position: relative;background-color: white;}#sk-container-id-1 div.sk-parallel-item:first-child::after {align-self: flex-end;width: 50%;}#sk-container-id-1 div.sk-parallel-item:last-child::after {align-self: flex-start;width: 50%;}#sk-container-id-1 div.sk-parallel-item:only-child::after {width: 0;}#sk-container-id-1 div.sk-dashed-wrapped {border: 1px dashed gray;margin: 0 0.4em 0.5em 0.4em;box-sizing: border-box;padding-bottom: 0.4em;background-color: white;}#sk-container-id-1 div.sk-label label {font-family: monospace;font-weight: bold;display: inline-block;line-height: 1.2em;}#sk-container-id-1 div.sk-label-container {text-align: center;}#sk-container-id-1 div.sk-container {/* jupyter's `normalize.less` sets `[hidden] { display: none; }` but bootstrap.min.css set `[hidden] { display: none !important; }` so we also need the `!important` here to be able to override the default hidden behavior on the sphinx rendered scikit-learn.org. See: https://github.com/scikit-learn/scikit-learn/issues/21755 */display: inline-block !important;position: relative;}#sk-container-id-1 div.sk-text-repr-fallback {display: none;}</style><div id=\"sk-container-id-1\" class=\"sk-top-container\"><div class=\"sk-text-repr-fallback\"><pre>Pipeline(steps=[(&#x27;scale&#x27;, StandardScaler()),\n",
       "                (&#x27;clf&#x27;,\n",
       "                 OversamplingClassifier(classifier=(&#x27;sklearn.neighbors&#x27;,\n",
       "                                                    &#x27;KNeighborsClassifier&#x27;,\n",
       "                                                    {}),\n",
       "                                        oversampler=(&#x27;smote_variants&#x27;,\n",
       "                                                     &#x27;MulticlassOversampling&#x27;,\n",
       "                                                     {&#x27;oversampler&#x27;: &#x27;distance_SMOTE&#x27;,\n",
       "                                                      &#x27;oversampler_params&#x27;: {}})))])</pre><b>In a Jupyter environment, please rerun this cell to show the HTML representation or trust the notebook. <br />On GitHub, the HTML representation is unable to render, please try loading this page with nbviewer.org.</b></div><div class=\"sk-container\" hidden><div class=\"sk-item sk-dashed-wrapped\"><div class=\"sk-label-container\"><div class=\"sk-label sk-toggleable\"><input class=\"sk-toggleable__control sk-hidden--visually\" id=\"sk-estimator-id-1\" type=\"checkbox\" ><label for=\"sk-estimator-id-1\" class=\"sk-toggleable__label sk-toggleable__label-arrow\">Pipeline</label><div class=\"sk-toggleable__content\"><pre>Pipeline(steps=[(&#x27;scale&#x27;, StandardScaler()),\n",
       "                (&#x27;clf&#x27;,\n",
       "                 OversamplingClassifier(classifier=(&#x27;sklearn.neighbors&#x27;,\n",
       "                                                    &#x27;KNeighborsClassifier&#x27;,\n",
       "                                                    {}),\n",
       "                                        oversampler=(&#x27;smote_variants&#x27;,\n",
       "                                                     &#x27;MulticlassOversampling&#x27;,\n",
       "                                                     {&#x27;oversampler&#x27;: &#x27;distance_SMOTE&#x27;,\n",
       "                                                      &#x27;oversampler_params&#x27;: {}})))])</pre></div></div></div><div class=\"sk-serial\"><div class=\"sk-item\"><div class=\"sk-estimator sk-toggleable\"><input class=\"sk-toggleable__control sk-hidden--visually\" id=\"sk-estimator-id-2\" type=\"checkbox\" ><label for=\"sk-estimator-id-2\" class=\"sk-toggleable__label sk-toggleable__label-arrow\">StandardScaler</label><div class=\"sk-toggleable__content\"><pre>StandardScaler()</pre></div></div></div><div class=\"sk-item\"><div class=\"sk-estimator sk-toggleable\"><input class=\"sk-toggleable__control sk-hidden--visually\" id=\"sk-estimator-id-3\" type=\"checkbox\" ><label for=\"sk-estimator-id-3\" class=\"sk-toggleable__label sk-toggleable__label-arrow\">OversamplingClassifier</label><div class=\"sk-toggleable__content\"><pre>OversamplingClassifier(classifier=(&#x27;sklearn.neighbors&#x27;, &#x27;KNeighborsClassifier&#x27;,\n",
       "                                   {}),\n",
       "                       oversampler=(&#x27;smote_variants&#x27;, &#x27;MulticlassOversampling&#x27;,\n",
       "                                    {&#x27;oversampler&#x27;: &#x27;distance_SMOTE&#x27;,\n",
       "                                     &#x27;oversampler_params&#x27;: {}}))</pre></div></div></div></div></div></div></div>"
      ],
      "text/plain": [
       "Pipeline(steps=[('scale', StandardScaler()),\n",
       "                ('clf',\n",
       "                 OversamplingClassifier(classifier=('sklearn.neighbors',\n",
       "                                                    'KNeighborsClassifier',\n",
       "                                                    {}),\n",
       "                                        oversampler=('smote_variants',\n",
       "                                                     'MulticlassOversampling',\n",
       "                                                     {'oversampler': 'distance_SMOTE',\n",
       "                                                      'oversampler_params': {}})))])"
      ]
     },
     "execution_count": 7,
     "metadata": {},
     "output_type": "execute_result"
    }
   ],
   "source": [
    "model.fit(X, y)"
   ]
  },
  {
   "cell_type": "markdown",
   "metadata": {},
   "source": [
    "## Grid search"
   ]
  },
  {
   "cell_type": "code",
   "execution_count": null,
   "metadata": {},
   "outputs": [],
   "source": [
    "param_grid= {'clf__oversampler':[('smote_variants', 'distance_SMOTE', {'proportion': 0.5}),\n",
    "                                 ('smote_variants', 'distance_SMOTE', {'proportion': 1.0}),\n",
    "                                 ('smote_variants', 'distance_SMOTE', {'proportion': 1.5})]}"
   ]
  },
  {
   "cell_type": "code",
   "execution_count": null,
   "metadata": {},
   "outputs": [],
   "source": [
    "grid= GridSearchCV(model, param_grid= param_grid, cv= 3, n_jobs= 1, verbose= 2, scoring= 'accuracy')"
   ]
  },
  {
   "cell_type": "code",
   "execution_count": null,
   "metadata": {},
   "outputs": [
    {
     "name": "stderr",
     "output_type": "stream",
     "text": [
      "2022-08-15 11:07:40,813:INFO:distance_SMOTE: Running sampling via ('distance_SMOTE', \"{'proportion': 0.5, 'n_neighbors': 5, 'nn_params': {}, 'n_jobs': 1, 'ss_params': {'n_dim': 2, 'simplex_sampling': 'uniform', 'within_simplex_sampling': 'random', 'gaussian_component': {}}, 'random_state': None, 'class_name': 'distance_SMOTE'}\")\n",
      "2022-08-15 11:07:40,815:INFO:NearestNeighborsWithMetricTensor: NN fitting with metric minkowski\n",
      "2022-08-15 11:07:40,816:INFO:NearestNeighborsWithMetricTensor: kneighbors query minkowski\n",
      "2022-08-15 11:07:40,969:INFO:distance_SMOTE: simplex sampling with n_dim 2\n"
     ]
    },
    {
     "name": "stdout",
     "output_type": "stream",
     "text": [
      "Fitting 3 folds for each of 3 candidates, totalling 9 fits\n"
     ]
    },
    {
     "name": "stderr",
     "output_type": "stream",
     "text": [
      "2022-08-15 11:07:41,240:INFO:distance_SMOTE: Running sampling via ('distance_SMOTE', \"{'proportion': 0.5, 'n_neighbors': 5, 'nn_params': {}, 'n_jobs': 1, 'ss_params': {'n_dim': 2, 'simplex_sampling': 'uniform', 'within_simplex_sampling': 'random', 'gaussian_component': {}}, 'random_state': None, 'class_name': 'distance_SMOTE'}\")\n",
      "2022-08-15 11:07:41,242:INFO:NearestNeighborsWithMetricTensor: NN fitting with metric minkowski\n",
      "2022-08-15 11:07:41,245:INFO:NearestNeighborsWithMetricTensor: kneighbors query minkowski\n",
      "2022-08-15 11:07:41,369:INFO:distance_SMOTE: simplex sampling with n_dim 2\n"
     ]
    },
    {
     "name": "stdout",
     "output_type": "stream",
     "text": [
      "[CV] END clf__oversampler=('smote_variants', 'distance_SMOTE', {'proportion': 0.5}); total time=   0.4s\n"
     ]
    },
    {
     "name": "stderr",
     "output_type": "stream",
     "text": [
      "2022-08-15 11:07:41,637:INFO:distance_SMOTE: Running sampling via ('distance_SMOTE', \"{'proportion': 0.5, 'n_neighbors': 5, 'nn_params': {}, 'n_jobs': 1, 'ss_params': {'n_dim': 2, 'simplex_sampling': 'uniform', 'within_simplex_sampling': 'random', 'gaussian_component': {}}, 'random_state': None, 'class_name': 'distance_SMOTE'}\")\n",
      "2022-08-15 11:07:41,639:INFO:NearestNeighborsWithMetricTensor: NN fitting with metric minkowski\n",
      "2022-08-15 11:07:41,649:INFO:NearestNeighborsWithMetricTensor: kneighbors query minkowski\n",
      "2022-08-15 11:07:41,805:INFO:distance_SMOTE: simplex sampling with n_dim 2\n"
     ]
    },
    {
     "name": "stdout",
     "output_type": "stream",
     "text": [
      "[CV] END clf__oversampler=('smote_variants', 'distance_SMOTE', {'proportion': 0.5}); total time=   0.4s\n"
     ]
    },
    {
     "name": "stderr",
     "output_type": "stream",
     "text": [
      "2022-08-15 11:07:42,080:INFO:distance_SMOTE: Running sampling via ('distance_SMOTE', \"{'proportion': 1.0, 'n_neighbors': 5, 'nn_params': {}, 'n_jobs': 1, 'ss_params': {'n_dim': 2, 'simplex_sampling': 'uniform', 'within_simplex_sampling': 'random', 'gaussian_component': {}}, 'random_state': None, 'class_name': 'distance_SMOTE'}\")\n",
      "2022-08-15 11:07:42,081:INFO:NearestNeighborsWithMetricTensor: NN fitting with metric minkowski\n",
      "2022-08-15 11:07:42,082:INFO:NearestNeighborsWithMetricTensor: kneighbors query minkowski\n",
      "2022-08-15 11:07:42,229:INFO:distance_SMOTE: simplex sampling with n_dim 2\n"
     ]
    },
    {
     "name": "stdout",
     "output_type": "stream",
     "text": [
      "[CV] END clf__oversampler=('smote_variants', 'distance_SMOTE', {'proportion': 0.5}); total time=   0.4s\n"
     ]
    },
    {
     "name": "stderr",
     "output_type": "stream",
     "text": [
      "2022-08-15 11:07:42,476:INFO:distance_SMOTE: Running sampling via ('distance_SMOTE', \"{'proportion': 1.0, 'n_neighbors': 5, 'nn_params': {}, 'n_jobs': 1, 'ss_params': {'n_dim': 2, 'simplex_sampling': 'uniform', 'within_simplex_sampling': 'random', 'gaussian_component': {}}, 'random_state': None, 'class_name': 'distance_SMOTE'}\")\n",
      "2022-08-15 11:07:42,478:INFO:NearestNeighborsWithMetricTensor: NN fitting with metric minkowski\n",
      "2022-08-15 11:07:42,479:INFO:NearestNeighborsWithMetricTensor: kneighbors query minkowski\n",
      "2022-08-15 11:07:42,619:INFO:distance_SMOTE: simplex sampling with n_dim 2\n"
     ]
    },
    {
     "name": "stdout",
     "output_type": "stream",
     "text": [
      "[CV] END clf__oversampler=('smote_variants', 'distance_SMOTE', {'proportion': 1.0}); total time=   0.4s\n"
     ]
    },
    {
     "name": "stderr",
     "output_type": "stream",
     "text": [
      "2022-08-15 11:07:42,798:INFO:distance_SMOTE: Running sampling via ('distance_SMOTE', \"{'proportion': 1.0, 'n_neighbors': 5, 'nn_params': {}, 'n_jobs': 1, 'ss_params': {'n_dim': 2, 'simplex_sampling': 'uniform', 'within_simplex_sampling': 'random', 'gaussian_component': {}}, 'random_state': None, 'class_name': 'distance_SMOTE'}\")\n",
      "2022-08-15 11:07:42,800:INFO:NearestNeighborsWithMetricTensor: NN fitting with metric minkowski\n",
      "2022-08-15 11:07:42,801:INFO:NearestNeighborsWithMetricTensor: kneighbors query minkowski\n",
      "2022-08-15 11:07:42,899:INFO:distance_SMOTE: simplex sampling with n_dim 2\n"
     ]
    },
    {
     "name": "stdout",
     "output_type": "stream",
     "text": [
      "[CV] END clf__oversampler=('smote_variants', 'distance_SMOTE', {'proportion': 1.0}); total time=   0.3s\n"
     ]
    },
    {
     "name": "stderr",
     "output_type": "stream",
     "text": [
      "2022-08-15 11:07:43,122:INFO:distance_SMOTE: Running sampling via ('distance_SMOTE', \"{'proportion': 1.5, 'n_neighbors': 5, 'nn_params': {}, 'n_jobs': 1, 'ss_params': {'n_dim': 2, 'simplex_sampling': 'uniform', 'within_simplex_sampling': 'random', 'gaussian_component': {}}, 'random_state': None, 'class_name': 'distance_SMOTE'}\")\n",
      "2022-08-15 11:07:43,124:INFO:NearestNeighborsWithMetricTensor: NN fitting with metric minkowski\n",
      "2022-08-15 11:07:43,125:INFO:NearestNeighborsWithMetricTensor: kneighbors query minkowski\n",
      "2022-08-15 11:07:43,218:INFO:distance_SMOTE: simplex sampling with n_dim 2\n"
     ]
    },
    {
     "name": "stdout",
     "output_type": "stream",
     "text": [
      "[CV] END clf__oversampler=('smote_variants', 'distance_SMOTE', {'proportion': 1.0}); total time=   0.3s\n"
     ]
    },
    {
     "name": "stderr",
     "output_type": "stream",
     "text": [
      "2022-08-15 11:07:43,438:INFO:distance_SMOTE: Running sampling via ('distance_SMOTE', \"{'proportion': 1.5, 'n_neighbors': 5, 'nn_params': {}, 'n_jobs': 1, 'ss_params': {'n_dim': 2, 'simplex_sampling': 'uniform', 'within_simplex_sampling': 'random', 'gaussian_component': {}}, 'random_state': None, 'class_name': 'distance_SMOTE'}\")\n",
      "2022-08-15 11:07:43,440:INFO:NearestNeighborsWithMetricTensor: NN fitting with metric minkowski\n",
      "2022-08-15 11:07:43,441:INFO:NearestNeighborsWithMetricTensor: kneighbors query minkowski\n",
      "2022-08-15 11:07:43,532:INFO:distance_SMOTE: simplex sampling with n_dim 2\n"
     ]
    },
    {
     "name": "stdout",
     "output_type": "stream",
     "text": [
      "[CV] END clf__oversampler=('smote_variants', 'distance_SMOTE', {'proportion': 1.5}); total time=   0.3s\n"
     ]
    },
    {
     "name": "stderr",
     "output_type": "stream",
     "text": [
      "2022-08-15 11:07:43,659:INFO:distance_SMOTE: Running sampling via ('distance_SMOTE', \"{'proportion': 1.5, 'n_neighbors': 5, 'nn_params': {}, 'n_jobs': 1, 'ss_params': {'n_dim': 2, 'simplex_sampling': 'uniform', 'within_simplex_sampling': 'random', 'gaussian_component': {}}, 'random_state': None, 'class_name': 'distance_SMOTE'}\")\n",
      "2022-08-15 11:07:43,663:INFO:NearestNeighborsWithMetricTensor: NN fitting with metric minkowski\n",
      "2022-08-15 11:07:43,665:INFO:NearestNeighborsWithMetricTensor: kneighbors query minkowski\n",
      "2022-08-15 11:07:43,753:INFO:distance_SMOTE: simplex sampling with n_dim 2\n",
      "2022-08-15 11:07:43,848:INFO:distance_SMOTE: Running sampling via ('distance_SMOTE', \"{'proportion': 1.5, 'n_neighbors': 5, 'nn_params': {}, 'n_jobs': 1, 'ss_params': {'n_dim': 2, 'simplex_sampling': 'uniform', 'within_simplex_sampling': 'random', 'gaussian_component': {}}, 'random_state': None, 'class_name': 'distance_SMOTE'}\")\n",
      "2022-08-15 11:07:43,850:INFO:NearestNeighborsWithMetricTensor: NN fitting with metric minkowski\n",
      "2022-08-15 11:07:43,851:INFO:NearestNeighborsWithMetricTensor: kneighbors query minkowski\n"
     ]
    },
    {
     "name": "stdout",
     "output_type": "stream",
     "text": [
      "[CV] END clf__oversampler=('smote_variants', 'distance_SMOTE', {'proportion': 1.5}); total time=   0.2s\n",
      "[CV] END clf__oversampler=('smote_variants', 'distance_SMOTE', {'proportion': 1.5}); total time=   0.2s\n"
     ]
    },
    {
     "name": "stderr",
     "output_type": "stream",
     "text": [
      "2022-08-15 11:07:43,967:INFO:distance_SMOTE: simplex sampling with n_dim 2\n"
     ]
    },
    {
     "data": {
      "text/html": [
       "<style>#sk-container-id-2 {color: black;background-color: white;}#sk-container-id-2 pre{padding: 0;}#sk-container-id-2 div.sk-toggleable {background-color: white;}#sk-container-id-2 label.sk-toggleable__label {cursor: pointer;display: block;width: 100%;margin-bottom: 0;padding: 0.3em;box-sizing: border-box;text-align: center;}#sk-container-id-2 label.sk-toggleable__label-arrow:before {content: \"▸\";float: left;margin-right: 0.25em;color: #696969;}#sk-container-id-2 label.sk-toggleable__label-arrow:hover:before {color: black;}#sk-container-id-2 div.sk-estimator:hover label.sk-toggleable__label-arrow:before {color: black;}#sk-container-id-2 div.sk-toggleable__content {max-height: 0;max-width: 0;overflow: hidden;text-align: left;background-color: #f0f8ff;}#sk-container-id-2 div.sk-toggleable__content pre {margin: 0.2em;color: black;border-radius: 0.25em;background-color: #f0f8ff;}#sk-container-id-2 input.sk-toggleable__control:checked~div.sk-toggleable__content {max-height: 200px;max-width: 100%;overflow: auto;}#sk-container-id-2 input.sk-toggleable__control:checked~label.sk-toggleable__label-arrow:before {content: \"▾\";}#sk-container-id-2 div.sk-estimator input.sk-toggleable__control:checked~label.sk-toggleable__label {background-color: #d4ebff;}#sk-container-id-2 div.sk-label input.sk-toggleable__control:checked~label.sk-toggleable__label {background-color: #d4ebff;}#sk-container-id-2 input.sk-hidden--visually {border: 0;clip: rect(1px 1px 1px 1px);clip: rect(1px, 1px, 1px, 1px);height: 1px;margin: -1px;overflow: hidden;padding: 0;position: absolute;width: 1px;}#sk-container-id-2 div.sk-estimator {font-family: monospace;background-color: #f0f8ff;border: 1px dotted black;border-radius: 0.25em;box-sizing: border-box;margin-bottom: 0.5em;}#sk-container-id-2 div.sk-estimator:hover {background-color: #d4ebff;}#sk-container-id-2 div.sk-parallel-item::after {content: \"\";width: 100%;border-bottom: 1px solid gray;flex-grow: 1;}#sk-container-id-2 div.sk-label:hover label.sk-toggleable__label {background-color: #d4ebff;}#sk-container-id-2 div.sk-serial::before {content: \"\";position: absolute;border-left: 1px solid gray;box-sizing: border-box;top: 0;bottom: 0;left: 50%;z-index: 0;}#sk-container-id-2 div.sk-serial {display: flex;flex-direction: column;align-items: center;background-color: white;padding-right: 0.2em;padding-left: 0.2em;position: relative;}#sk-container-id-2 div.sk-item {position: relative;z-index: 1;}#sk-container-id-2 div.sk-parallel {display: flex;align-items: stretch;justify-content: center;background-color: white;position: relative;}#sk-container-id-2 div.sk-item::before, #sk-container-id-2 div.sk-parallel-item::before {content: \"\";position: absolute;border-left: 1px solid gray;box-sizing: border-box;top: 0;bottom: 0;left: 50%;z-index: -1;}#sk-container-id-2 div.sk-parallel-item {display: flex;flex-direction: column;z-index: 1;position: relative;background-color: white;}#sk-container-id-2 div.sk-parallel-item:first-child::after {align-self: flex-end;width: 50%;}#sk-container-id-2 div.sk-parallel-item:last-child::after {align-self: flex-start;width: 50%;}#sk-container-id-2 div.sk-parallel-item:only-child::after {width: 0;}#sk-container-id-2 div.sk-dashed-wrapped {border: 1px dashed gray;margin: 0 0.4em 0.5em 0.4em;box-sizing: border-box;padding-bottom: 0.4em;background-color: white;}#sk-container-id-2 div.sk-label label {font-family: monospace;font-weight: bold;display: inline-block;line-height: 1.2em;}#sk-container-id-2 div.sk-label-container {text-align: center;}#sk-container-id-2 div.sk-container {/* jupyter's `normalize.less` sets `[hidden] { display: none; }` but bootstrap.min.css set `[hidden] { display: none !important; }` so we also need the `!important` here to be able to override the default hidden behavior on the sphinx rendered scikit-learn.org. See: https://github.com/scikit-learn/scikit-learn/issues/21755 */display: inline-block !important;position: relative;}#sk-container-id-2 div.sk-text-repr-fallback {display: none;}</style><div id=\"sk-container-id-2\" class=\"sk-top-container\"><div class=\"sk-text-repr-fallback\"><pre>GridSearchCV(cv=3,\n",
       "             estimator=Pipeline(steps=[(&#x27;scale&#x27;, StandardScaler()),\n",
       "                                       (&#x27;clf&#x27;,\n",
       "                                        OversamplingClassifier(classifier=(&#x27;sklearn.neighbors&#x27;,\n",
       "                                                                           &#x27;KNeighborsClassifier&#x27;,\n",
       "                                                                           {}),\n",
       "                                                               oversampler=(&#x27;smote_variants&#x27;,\n",
       "                                                                            &#x27;MulticlassOversampling&#x27;,\n",
       "                                                                            {&#x27;oversampler&#x27;: &#x27;distance_SMOTE&#x27;,\n",
       "                                                                             &#x27;oversampler_params&#x27;: {}})))]),\n",
       "             n_jobs=1,\n",
       "             param_grid={&#x27;clf__oversampler&#x27;: [(&#x27;smote_variants&#x27;,\n",
       "                                               &#x27;distance_SMOTE&#x27;,\n",
       "                                               {&#x27;proportion&#x27;: 0.5}),\n",
       "                                              (&#x27;smote_variants&#x27;,\n",
       "                                               &#x27;distance_SMOTE&#x27;,\n",
       "                                               {&#x27;proportion&#x27;: 1.0}),\n",
       "                                              (&#x27;smote_variants&#x27;,\n",
       "                                               &#x27;distance_SMOTE&#x27;,\n",
       "                                               {&#x27;proportion&#x27;: 1.5})]},\n",
       "             scoring=&#x27;accuracy&#x27;, verbose=2)</pre><b>In a Jupyter environment, please rerun this cell to show the HTML representation or trust the notebook. <br />On GitHub, the HTML representation is unable to render, please try loading this page with nbviewer.org.</b></div><div class=\"sk-container\" hidden><div class=\"sk-item sk-dashed-wrapped\"><div class=\"sk-label-container\"><div class=\"sk-label sk-toggleable\"><input class=\"sk-toggleable__control sk-hidden--visually\" id=\"sk-estimator-id-4\" type=\"checkbox\" ><label for=\"sk-estimator-id-4\" class=\"sk-toggleable__label sk-toggleable__label-arrow\">GridSearchCV</label><div class=\"sk-toggleable__content\"><pre>GridSearchCV(cv=3,\n",
       "             estimator=Pipeline(steps=[(&#x27;scale&#x27;, StandardScaler()),\n",
       "                                       (&#x27;clf&#x27;,\n",
       "                                        OversamplingClassifier(classifier=(&#x27;sklearn.neighbors&#x27;,\n",
       "                                                                           &#x27;KNeighborsClassifier&#x27;,\n",
       "                                                                           {}),\n",
       "                                                               oversampler=(&#x27;smote_variants&#x27;,\n",
       "                                                                            &#x27;MulticlassOversampling&#x27;,\n",
       "                                                                            {&#x27;oversampler&#x27;: &#x27;distance_SMOTE&#x27;,\n",
       "                                                                             &#x27;oversampler_params&#x27;: {}})))]),\n",
       "             n_jobs=1,\n",
       "             param_grid={&#x27;clf__oversampler&#x27;: [(&#x27;smote_variants&#x27;,\n",
       "                                               &#x27;distance_SMOTE&#x27;,\n",
       "                                               {&#x27;proportion&#x27;: 0.5}),\n",
       "                                              (&#x27;smote_variants&#x27;,\n",
       "                                               &#x27;distance_SMOTE&#x27;,\n",
       "                                               {&#x27;proportion&#x27;: 1.0}),\n",
       "                                              (&#x27;smote_variants&#x27;,\n",
       "                                               &#x27;distance_SMOTE&#x27;,\n",
       "                                               {&#x27;proportion&#x27;: 1.5})]},\n",
       "             scoring=&#x27;accuracy&#x27;, verbose=2)</pre></div></div></div><div class=\"sk-parallel\"><div class=\"sk-parallel-item\"><div class=\"sk-item\"><div class=\"sk-label-container\"><div class=\"sk-label sk-toggleable\"><input class=\"sk-toggleable__control sk-hidden--visually\" id=\"sk-estimator-id-5\" type=\"checkbox\" ><label for=\"sk-estimator-id-5\" class=\"sk-toggleable__label sk-toggleable__label-arrow\">estimator: Pipeline</label><div class=\"sk-toggleable__content\"><pre>Pipeline(steps=[(&#x27;scale&#x27;, StandardScaler()),\n",
       "                (&#x27;clf&#x27;,\n",
       "                 OversamplingClassifier(classifier=(&#x27;sklearn.neighbors&#x27;,\n",
       "                                                    &#x27;KNeighborsClassifier&#x27;,\n",
       "                                                    {}),\n",
       "                                        oversampler=(&#x27;smote_variants&#x27;,\n",
       "                                                     &#x27;MulticlassOversampling&#x27;,\n",
       "                                                     {&#x27;oversampler&#x27;: &#x27;distance_SMOTE&#x27;,\n",
       "                                                      &#x27;oversampler_params&#x27;: {}})))])</pre></div></div></div><div class=\"sk-serial\"><div class=\"sk-item\"><div class=\"sk-serial\"><div class=\"sk-item\"><div class=\"sk-estimator sk-toggleable\"><input class=\"sk-toggleable__control sk-hidden--visually\" id=\"sk-estimator-id-6\" type=\"checkbox\" ><label for=\"sk-estimator-id-6\" class=\"sk-toggleable__label sk-toggleable__label-arrow\">StandardScaler</label><div class=\"sk-toggleable__content\"><pre>StandardScaler()</pre></div></div></div><div class=\"sk-item\"><div class=\"sk-estimator sk-toggleable\"><input class=\"sk-toggleable__control sk-hidden--visually\" id=\"sk-estimator-id-7\" type=\"checkbox\" ><label for=\"sk-estimator-id-7\" class=\"sk-toggleable__label sk-toggleable__label-arrow\">OversamplingClassifier</label><div class=\"sk-toggleable__content\"><pre>OversamplingClassifier(classifier=(&#x27;sklearn.neighbors&#x27;, &#x27;KNeighborsClassifier&#x27;,\n",
       "                                   {}),\n",
       "                       oversampler=(&#x27;smote_variants&#x27;, &#x27;MulticlassOversampling&#x27;,\n",
       "                                    {&#x27;oversampler&#x27;: &#x27;distance_SMOTE&#x27;,\n",
       "                                     &#x27;oversampler_params&#x27;: {}}))</pre></div></div></div></div></div></div></div></div></div></div></div></div>"
      ],
      "text/plain": [
       "GridSearchCV(cv=3,\n",
       "             estimator=Pipeline(steps=[('scale', StandardScaler()),\n",
       "                                       ('clf',\n",
       "                                        OversamplingClassifier(classifier=('sklearn.neighbors',\n",
       "                                                                           'KNeighborsClassifier',\n",
       "                                                                           {}),\n",
       "                                                               oversampler=('smote_variants',\n",
       "                                                                            'MulticlassOversampling',\n",
       "                                                                            {'oversampler': 'distance_SMOTE',\n",
       "                                                                             'oversampler_params': {}})))]),\n",
       "             n_jobs=1,\n",
       "             param_grid={'clf__oversampler': [('smote_variants',\n",
       "                                               'distance_SMOTE',\n",
       "                                               {'proportion': 0.5}),\n",
       "                                              ('smote_variants',\n",
       "                                               'distance_SMOTE',\n",
       "                                               {'proportion': 1.0}),\n",
       "                                              ('smote_variants',\n",
       "                                               'distance_SMOTE',\n",
       "                                               {'proportion': 1.5})]},\n",
       "             scoring='accuracy', verbose=2)"
      ]
     },
     "execution_count": 10,
     "metadata": {},
     "output_type": "execute_result"
    }
   ],
   "source": [
    "grid.fit(X, y)"
   ]
  },
  {
   "cell_type": "code",
   "execution_count": null,
   "metadata": {},
   "outputs": [
    {
     "name": "stdout",
     "output_type": "stream",
     "text": [
      "0.9138888888888889\n",
      "{'mean_fit_time': array([0.16049767, 0.13478096, 0.10484409]), 'std_fit_time': array([0.02110984, 0.02172018, 0.00081145]), 'mean_score_time': array([0.26054605, 0.21101316, 0.13537391]), 'std_score_time': array([0.00443091, 0.02703684, 0.05381506]), 'param_clf__oversampler': masked_array(data=[('smote_variants', 'distance_SMOTE', {'proportion': 0.5}),\n",
      "                   ('smote_variants', 'distance_SMOTE', {'proportion': 1.0}),\n",
      "                   ('smote_variants', 'distance_SMOTE', {'proportion': 1.5})],\n",
      "             mask=[False, False, False],\n",
      "       fill_value='?',\n",
      "            dtype=object), 'params': [{'clf__oversampler': ('smote_variants', 'distance_SMOTE', {'proportion': 0.5})}, {'clf__oversampler': ('smote_variants', 'distance_SMOTE', {'proportion': 1.0})}, {'clf__oversampler': ('smote_variants', 'distance_SMOTE', {'proportion': 1.5})}], 'split0_test_score': array([0.81666667, 0.81666667, 0.81666667]), 'split1_test_score': array([0.94166667, 0.94166667, 0.95833333]), 'split2_test_score': array([0.96666667, 0.96666667, 0.96666667]), 'mean_test_score': array([0.90833333, 0.90833333, 0.91388889]), 'std_test_score': array([0.06561673, 0.06561673, 0.06883062]), 'rank_test_score': array([2, 2, 1], dtype=int32)}\n"
     ]
    }
   ],
   "source": [
    "print(grid.best_score_)\n",
    "print(grid.cv_results_)"
   ]
  }
 ],
 "metadata": {
  "kernelspec": {
   "display_name": "Python 3.10.4 ('smote_variants')",
   "language": "python",
   "name": "python3"
  },
  "language_info": {
   "codemirror_mode": {
    "name": "ipython",
    "version": 3
   },
   "file_extension": ".py",
   "mimetype": "text/x-python",
   "name": "python",
   "nbconvert_exporter": "python",
   "pygments_lexer": "ipython3",
   "version": "3.10.4"
  },
  "vscode": {
   "interpreter": {
    "hash": "04ee80b1cee16018cf8dd56bf8f0a10a10cf53a2e8478a33e897f29ae53ad00d"
   }
  }
 },
 "nbformat": 4,
 "nbformat_minor": 2
}
