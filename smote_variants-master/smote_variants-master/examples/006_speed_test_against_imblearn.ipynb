{
 "cells": [
  {
   "cell_type": "markdown",
   "metadata": {},
   "source": [
    "# Speed test against imblearn\n",
    "\n",
    "In this notebook, we compare the performance of the ```smote_variants``` package with that of the ```imblearn``` package through the three oversamplers implemented in common. Note that the implementations contain different logic to determine the number of samples to be generated. Generally, ```imblearn``` implementations are more flexible, ```smote_variants``` implementations are more simple to use."
   ]
  },
  {
   "cell_type": "code",
   "execution_count": 1,
   "metadata": {},
   "outputs": [
    {
     "name": "stderr",
     "output_type": "stream",
     "text": [
      "2022-08-20 11:42:30.634527: I tensorflow/core/util/util.cc:169] oneDNN custom operations are on. You may see slightly different numerical results due to floating-point round-off errors from different computation orders. To turn them off, set the environment variable `TF_ENABLE_ONEDNN_OPTS=0`.\n",
      "2022-08-20 11:42:30.641263: W tensorflow/stream_executor/platform/default/dso_loader.cc:64] Could not load dynamic library 'libcudart.so.11.0'; dlerror: libcudart.so.11.0: cannot open shared object file: No such file or directory\n",
      "2022-08-20 11:42:30.641286: I tensorflow/stream_executor/cuda/cudart_stub.cc:29] Ignore above cudart dlerror if you do not have a GPU set up on your machine.\n"
     ]
    }
   ],
   "source": [
    "import smote_variants as sv\n",
    "import common_datasets.binary_classification as bin_clas\n",
    "\n",
    "from imblearn.over_sampling import SMOTE, ADASYN, BorderlineSMOTE, SVMSMOTE\n",
    "\n",
    "import matplotlib.pyplot as plt\n",
    "import time\n",
    "import numpy as np\n",
    "import pandas as pd\n",
    "\n",
    "import logging\n",
    "\n",
    "logger = logging.getLogger('smote_variants')\n",
    "logger.setLevel(logging.CRITICAL)"
   ]
  },
  {
   "cell_type": "code",
   "execution_count": 2,
   "metadata": {},
   "outputs": [],
   "source": [
    "import common_datasets.binary_classification as bin_clas"
   ]
  },
  {
   "cell_type": "code",
   "execution_count": 3,
   "metadata": {},
   "outputs": [],
   "source": [
    "datasets = bin_clas.get_filtered_data_loaders(n_bounds=(1, 1000), \n",
    "                                                n_col_bounds=(1, 50))"
   ]
  },
  {
   "cell_type": "code",
   "execution_count": 4,
   "metadata": {},
   "outputs": [],
   "source": [
    "def measure(sv, imb, datasets):\n",
    "    \"\"\"\n",
    "    The function measuring the runtimes of oversamplers on a set of datasets.\n",
    "    \n",
    "    Args:\n",
    "        sv (list(smote_variants.Oversampling)): the list of oversampling objects from smote_variants\n",
    "        imb (list(imblearn.Oversampling)): the list of oversampling objects from imblearn, imb[i] is the\n",
    "                                            implementation corresponding to sv[i]\n",
    "        datasets (list(function)): dataset loading functions\n",
    "    Returns:\n",
    "        pd.DataFrame: mean oversampling runtimes for the various oversamplers over all datasets\n",
    "    \"\"\"\n",
    "    \n",
    "    results= {}\n",
    "    # iterating through all datasets\n",
    "    for d in datasets:\n",
    "        data= d()\n",
    "        print('processing: %s' % data['name'])\n",
    "        \n",
    "        X= data['data']\n",
    "        y= data['target']\n",
    "        for i, s in enumerate(sv):\n",
    "            # imblearn seems to fail on some edge cases\n",
    "            try:\n",
    "                # measuring oversampling runtime using smote_variants\n",
    "                t0= time.time()\n",
    "                X_samp, y_samp= sv[i].sample(X, y)\n",
    "                res_sv= time.time() - t0\n",
    "                \n",
    "                # measuring oversampling runtime using imblearn\n",
    "                t0= time.time()\n",
    "                X_samp, y_samp= imb[i].fit_resample(X, y)\n",
    "                res_imb= time.time() - t0\n",
    "                \n",
    "                if not s.__class__.__name__ in results:\n",
    "                    results[s.__class__.__name__]= ([], [])\n",
    "                \n",
    "                # appending the results\n",
    "                results[s.__class__.__name__][0].append(res_sv)\n",
    "                results[s.__class__.__name__][1].append(res_imb)\n",
    "            except:\n",
    "                pass\n",
    "    \n",
    "    # preparing the final dataframe\n",
    "    for k in results:\n",
    "        results[k]= [np.mean(results[k][0]), np.mean(results[k][1])]\n",
    "    \n",
    "    results= pd.DataFrame(results).T\n",
    "    results.columns= ['smote_variants', 'imblearn']\n",
    "    \n",
    "    return results\n"
   ]
  },
  {
   "cell_type": "code",
   "execution_count": 5,
   "metadata": {},
   "outputs": [
    {
     "name": "stdout",
     "output_type": "stream",
     "text": [
      "processing: abalone19\n",
      "processing: abalone9_18\n",
      "processing: abalone-17_vs_7-8-9-10\n",
      "processing: abalone-19_vs_10-11-12-13\n",
      "processing: abalone-20_vs_8_9_10\n",
      "processing: abalone-22_vs_8\n",
      "processing: abalone-3_vs_11\n",
      "processing: ADA\n",
      "processing: appendicitis\n",
      "processing: australian\n",
      "processing: bupa\n",
      "processing: car_good\n",
      "processing: car-vgood\n",
      "processing: cleveland-0_vs_4\n",
      "processing: CM1\n",
      "processing: crx\n"
     ]
    }
   ],
   "source": [
    "# Executing the evaluation for the techniques implemented by both smote_variants and imblearn, using the\n",
    "# same parameters, involving 104 datasets\n",
    "\n",
    "sv_techniques= [sv.SMOTE(), sv.Borderline_SMOTE2(k_neighbors=10), sv.ADASYN()]\n",
    "imb_techniques= [SMOTE(), BorderlineSMOTE(), ADASYN()]\n",
    "\n",
    "results= measure(sv_techniques,\n",
    "                 imb_techniques,\n",
    "                 bin_clas.get_data_loaders())"
   ]
  },
  {
   "cell_type": "code",
   "execution_count": null,
   "metadata": {},
   "outputs": [
    {
     "name": "stdout",
     "output_type": "stream",
     "text": [
      "                   smote_variants  imblearn\n",
      "SMOTE                    0.012090  0.007889\n",
      "Borderline_SMOTE2        0.023553  0.014605\n",
      "ADASYN                   0.016606  0.014517\n"
     ]
    }
   ],
   "source": [
    "# Printing the results, the unit is 'seconds'\n",
    "\n",
    "print(results)"
   ]
  }
 ],
 "metadata": {
  "kernelspec": {
   "display_name": "Python 3.10.4 ('smote_variants')",
   "language": "python",
   "name": "python3"
  },
  "language_info": {
   "codemirror_mode": {
    "name": "ipython",
    "version": 3
   },
   "file_extension": ".py",
   "mimetype": "text/x-python",
   "name": "python",
   "nbconvert_exporter": "python",
   "pygments_lexer": "ipython3",
   "version": "3.10.4"
  },
  "vscode": {
   "interpreter": {
    "hash": "04ee80b1cee16018cf8dd56bf8f0a10a10cf53a2e8478a33e897f29ae53ad00d"
   }
  }
 },
 "nbformat": 4,
 "nbformat_minor": 2
}
