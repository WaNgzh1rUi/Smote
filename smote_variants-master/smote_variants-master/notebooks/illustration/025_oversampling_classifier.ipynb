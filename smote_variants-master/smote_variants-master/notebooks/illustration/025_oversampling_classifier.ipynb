{
 "cells": [
  {
   "cell_type": "code",
   "execution_count": 1,
   "metadata": {},
   "outputs": [],
   "source": [
    "from sklearn.pipeline import Pipeline\n",
    "from sklearn.preprocessing import StandardScaler\n",
    "from sklearn.model_selection import (cross_validate, StratifiedKFold)\n",
    "from sklearn.datasets import load_iris\n",
    "\n",
    "import smote_variants as sv"
   ]
  },
  {
   "cell_type": "code",
   "execution_count": 2,
   "metadata": {},
   "outputs": [],
   "source": [
    "dataset = load_iris()\n",
    "X = dataset['data']\n",
    "y = dataset['target']\n",
    "\n",
    "y[y > 1] = 1"
   ]
  },
  {
   "cell_type": "code",
   "execution_count": 3,
   "metadata": {},
   "outputs": [
    {
     "name": "stderr",
     "output_type": "stream",
     "text": [
      "2023-03-12 13:54:18,365:INFO:ADASYN: Running sampling via ('ADASYN', \"{'n_neighbors': 5, 'd_th': 0.9, 'beta': 1.0, 'nn_params': {}, 'n_jobs': 1, 'proportion': 1.0, 'ss_params': {'n_dim': 2, 'simplex_sampling': 'random', 'within_simplex_sampling': 'random', 'gaussian_component': {}}, 'random_state': None, 'class_name': 'ADASYN'}\")\n",
      "2023-03-12 13:54:18,366:INFO:NearestNeighborsWithMetricTensor: NN fitting with metric minkowski\n",
      "2023-03-12 13:54:18,368:INFO:NearestNeighborsWithMetricTensor: kneighbors query minkowski\n",
      "2023-03-12 13:54:18,371:INFO:NearestNeighborsWithMetricTensor: NN fitting with metric minkowski\n",
      "2023-03-12 13:54:18,372:INFO:NearestNeighborsWithMetricTensor: kneighbors query minkowski\n",
      "2023-03-12 13:54:18,374:INFO:ADASYN: simplex sampling with n_dim 2\n",
      "2023-03-12 13:54:18,380:INFO:ADASYN: Running sampling via ('ADASYN', \"{'n_neighbors': 5, 'd_th': 0.9, 'beta': 1.0, 'nn_params': {}, 'n_jobs': 1, 'proportion': 1.0, 'ss_params': {'n_dim': 2, 'simplex_sampling': 'random', 'within_simplex_sampling': 'random', 'gaussian_component': {}}, 'random_state': None, 'class_name': 'ADASYN'}\")\n",
      "2023-03-12 13:54:18,382:INFO:NearestNeighborsWithMetricTensor: NN fitting with metric minkowski\n",
      "2023-03-12 13:54:18,384:INFO:NearestNeighborsWithMetricTensor: kneighbors query minkowski\n",
      "2023-03-12 13:54:18,386:INFO:NearestNeighborsWithMetricTensor: NN fitting with metric minkowski\n",
      "2023-03-12 13:54:18,388:INFO:NearestNeighborsWithMetricTensor: kneighbors query minkowski\n",
      "2023-03-12 13:54:18,391:INFO:ADASYN: simplex sampling with n_dim 2\n",
      "2023-03-12 13:54:18,397:INFO:ADASYN: Running sampling via ('ADASYN', \"{'n_neighbors': 5, 'd_th': 0.9, 'beta': 1.0, 'nn_params': {}, 'n_jobs': 1, 'proportion': 1.0, 'ss_params': {'n_dim': 2, 'simplex_sampling': 'random', 'within_simplex_sampling': 'random', 'gaussian_component': {}}, 'random_state': None, 'class_name': 'ADASYN'}\")\n",
      "2023-03-12 13:54:18,398:INFO:NearestNeighborsWithMetricTensor: NN fitting with metric minkowski\n",
      "2023-03-12 13:54:18,400:INFO:NearestNeighborsWithMetricTensor: kneighbors query minkowski\n",
      "2023-03-12 13:54:18,402:INFO:NearestNeighborsWithMetricTensor: NN fitting with metric minkowski\n",
      "2023-03-12 13:54:18,404:INFO:NearestNeighborsWithMetricTensor: kneighbors query minkowski\n",
      "2023-03-12 13:54:18,406:INFO:ADASYN: simplex sampling with n_dim 2\n",
      "2023-03-12 13:54:18,414:INFO:ADASYN: Running sampling via ('ADASYN', \"{'n_neighbors': 5, 'd_th': 0.9, 'beta': 1.0, 'nn_params': {}, 'n_jobs': 1, 'proportion': 1.0, 'ss_params': {'n_dim': 2, 'simplex_sampling': 'random', 'within_simplex_sampling': 'random', 'gaussian_component': {}}, 'random_state': None, 'class_name': 'ADASYN'}\")\n",
      "2023-03-12 13:54:18,415:INFO:NearestNeighborsWithMetricTensor: NN fitting with metric minkowski\n",
      "2023-03-12 13:54:18,416:INFO:NearestNeighborsWithMetricTensor: kneighbors query minkowski\n",
      "2023-03-12 13:54:18,417:INFO:NearestNeighborsWithMetricTensor: NN fitting with metric minkowski\n",
      "2023-03-12 13:54:18,418:INFO:NearestNeighborsWithMetricTensor: kneighbors query minkowski\n",
      "2023-03-12 13:54:18,419:INFO:ADASYN: simplex sampling with n_dim 2\n",
      "2023-03-12 13:54:18,425:INFO:ADASYN: Running sampling via ('ADASYN', \"{'n_neighbors': 5, 'd_th': 0.9, 'beta': 1.0, 'nn_params': {}, 'n_jobs': 1, 'proportion': 1.0, 'ss_params': {'n_dim': 2, 'simplex_sampling': 'random', 'within_simplex_sampling': 'random', 'gaussian_component': {}}, 'random_state': None, 'class_name': 'ADASYN'}\")\n",
      "2023-03-12 13:54:18,426:INFO:NearestNeighborsWithMetricTensor: NN fitting with metric minkowski\n",
      "2023-03-12 13:54:18,427:INFO:NearestNeighborsWithMetricTensor: kneighbors query minkowski\n",
      "2023-03-12 13:54:18,428:INFO:NearestNeighborsWithMetricTensor: NN fitting with metric minkowski\n",
      "2023-03-12 13:54:18,430:INFO:NearestNeighborsWithMetricTensor: kneighbors query minkowski\n",
      "2023-03-12 13:54:18,431:INFO:ADASYN: simplex sampling with n_dim 2\n",
      "2023-03-12 13:54:18,436:INFO:ADASYN: Running sampling via ('ADASYN', \"{'n_neighbors': 5, 'd_th': 0.9, 'beta': 1.0, 'nn_params': {}, 'n_jobs': 1, 'proportion': 1.0, 'ss_params': {'n_dim': 2, 'simplex_sampling': 'random', 'within_simplex_sampling': 'random', 'gaussian_component': {}}, 'random_state': None, 'class_name': 'ADASYN'}\")\n",
      "2023-03-12 13:54:18,438:INFO:NearestNeighborsWithMetricTensor: NN fitting with metric minkowski\n",
      "2023-03-12 13:54:18,439:INFO:NearestNeighborsWithMetricTensor: kneighbors query minkowski\n",
      "2023-03-12 13:54:18,441:INFO:NearestNeighborsWithMetricTensor: NN fitting with metric minkowski\n",
      "2023-03-12 13:54:18,442:INFO:NearestNeighborsWithMetricTensor: kneighbors query minkowski\n",
      "2023-03-12 13:54:18,443:INFO:ADASYN: simplex sampling with n_dim 2\n",
      "2023-03-12 13:54:18,449:INFO:ADASYN: Running sampling via ('ADASYN', \"{'n_neighbors': 5, 'd_th': 0.9, 'beta': 1.0, 'nn_params': {}, 'n_jobs': 1, 'proportion': 1.0, 'ss_params': {'n_dim': 2, 'simplex_sampling': 'random', 'within_simplex_sampling': 'random', 'gaussian_component': {}}, 'random_state': None, 'class_name': 'ADASYN'}\")\n",
      "2023-03-12 13:54:18,449:INFO:NearestNeighborsWithMetricTensor: NN fitting with metric minkowski\n",
      "2023-03-12 13:54:18,451:INFO:NearestNeighborsWithMetricTensor: kneighbors query minkowski\n",
      "2023-03-12 13:54:18,453:INFO:NearestNeighborsWithMetricTensor: NN fitting with metric minkowski\n",
      "2023-03-12 13:54:18,455:INFO:NearestNeighborsWithMetricTensor: kneighbors query minkowski\n",
      "2023-03-12 13:54:18,456:INFO:ADASYN: simplex sampling with n_dim 2\n",
      "2023-03-12 13:54:18,462:INFO:ADASYN: Running sampling via ('ADASYN', \"{'n_neighbors': 5, 'd_th': 0.9, 'beta': 1.0, 'nn_params': {}, 'n_jobs': 1, 'proportion': 1.0, 'ss_params': {'n_dim': 2, 'simplex_sampling': 'random', 'within_simplex_sampling': 'random', 'gaussian_component': {}}, 'random_state': None, 'class_name': 'ADASYN'}\")\n",
      "2023-03-12 13:54:18,463:INFO:NearestNeighborsWithMetricTensor: NN fitting with metric minkowski\n",
      "2023-03-12 13:54:18,464:INFO:NearestNeighborsWithMetricTensor: kneighbors query minkowski\n",
      "2023-03-12 13:54:18,466:INFO:NearestNeighborsWithMetricTensor: NN fitting with metric minkowski\n",
      "2023-03-12 13:54:18,467:INFO:NearestNeighborsWithMetricTensor: kneighbors query minkowski\n",
      "2023-03-12 13:54:18,470:INFO:ADASYN: simplex sampling with n_dim 2\n",
      "2023-03-12 13:54:18,476:INFO:ADASYN: Running sampling via ('ADASYN', \"{'n_neighbors': 5, 'd_th': 0.9, 'beta': 1.0, 'nn_params': {}, 'n_jobs': 1, 'proportion': 1.0, 'ss_params': {'n_dim': 2, 'simplex_sampling': 'random', 'within_simplex_sampling': 'random', 'gaussian_component': {}}, 'random_state': None, 'class_name': 'ADASYN'}\")\n",
      "2023-03-12 13:54:18,478:INFO:NearestNeighborsWithMetricTensor: NN fitting with metric minkowski\n",
      "2023-03-12 13:54:18,479:INFO:NearestNeighborsWithMetricTensor: kneighbors query minkowski\n",
      "2023-03-12 13:54:18,481:WARNING:ADASYN: not enough samples close to majority ones for oversampling\n",
      "2023-03-12 13:54:18,486:INFO:ADASYN: Running sampling via ('ADASYN', \"{'n_neighbors': 5, 'd_th': 0.9, 'beta': 1.0, 'nn_params': {}, 'n_jobs': 1, 'proportion': 1.0, 'ss_params': {'n_dim': 2, 'simplex_sampling': 'random', 'within_simplex_sampling': 'random', 'gaussian_component': {}}, 'random_state': None, 'class_name': 'ADASYN'}\")\n",
      "2023-03-12 13:54:18,488:INFO:NearestNeighborsWithMetricTensor: NN fitting with metric minkowski\n",
      "2023-03-12 13:54:18,490:INFO:NearestNeighborsWithMetricTensor: kneighbors query minkowski\n",
      "2023-03-12 13:54:18,492:INFO:NearestNeighborsWithMetricTensor: NN fitting with metric minkowski\n",
      "2023-03-12 13:54:18,494:INFO:NearestNeighborsWithMetricTensor: kneighbors query minkowski\n",
      "2023-03-12 13:54:18,496:INFO:ADASYN: simplex sampling with n_dim 2\n"
     ]
    }
   ],
   "source": [
    "oversampler = ('smote_variants', 'ADASYN', {'proportion': 1.0})\n",
    "\n",
    "classifier = ('sklearn.neighbors', 'KNeighborsClassifier', {})\n",
    "\n",
    "model= Pipeline([('scale', StandardScaler()),\n",
    "('clf', sv.classifiers.OversamplingClassifier(oversampler, classifier))])\n",
    "scoring = ['accuracy','precision', 'recall','f1','roc_auc']\n",
    "scores = cross_validate(model,X,y,cv=StratifiedKFold(n_splits=10),scoring='roc_auc',error_score='raise')"
   ]
  },
  {
   "cell_type": "code",
   "execution_count": 4,
   "metadata": {},
   "outputs": [
    {
     "data": {
      "text/plain": [
       "{'fit_time': array([0.01276374, 0.01405454, 0.01218271, 0.00963736, 0.00901914,\n",
       "        0.01005745, 0.01154613, 0.01139712, 0.00743628, 0.0128777 ]),\n",
       " 'score_time': array([0.00294256, 0.00186348, 0.00363946, 0.00152564, 0.00185919,\n",
       "        0.0017271 , 0.00162768, 0.00171208, 0.00241542, 0.00301123]),\n",
       " 'test_score': array([1., 1., 1., 1., 1., 1., 1., 1., 1., 1.])}"
      ]
     },
     "execution_count": 4,
     "metadata": {},
     "output_type": "execute_result"
    }
   ],
   "source": [
    "scores"
   ]
  },
  {
   "cell_type": "code",
   "execution_count": null,
   "metadata": {},
   "outputs": [],
   "source": []
  }
 ],
 "metadata": {
  "kernelspec": {
   "display_name": "smote_debug",
   "language": "python",
   "name": "python3"
  },
  "language_info": {
   "codemirror_mode": {
    "name": "ipython",
    "version": 3
   },
   "file_extension": ".py",
   "mimetype": "text/x-python",
   "name": "python",
   "nbconvert_exporter": "python",
   "pygments_lexer": "ipython3",
   "version": "3.10.0"
  },
  "orig_nbformat": 4
 },
 "nbformat": 4,
 "nbformat_minor": 2
}
