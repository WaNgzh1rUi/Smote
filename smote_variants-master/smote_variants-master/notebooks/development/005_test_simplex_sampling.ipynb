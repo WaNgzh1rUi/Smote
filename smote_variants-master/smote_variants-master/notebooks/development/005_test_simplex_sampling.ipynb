{
 "cells": [
  {
   "cell_type": "code",
   "execution_count": 1,
   "metadata": {},
   "outputs": [],
   "source": [
    "from sklearn.neighbors import NearestNeighbors\n",
    "from smote_variants import SimplexSamplingMixin\n",
    "\n",
    "import numpy as np\n",
    "import matplotlib.pyplot as plt"
   ]
  },
  {
   "cell_type": "code",
   "execution_count": 2,
   "metadata": {},
   "outputs": [],
   "source": [
    "X = np.array([[0.0, 1.0],\n",
    "                [1.0, 0.0],\n",
    "                [2.0, 1.0],\n",
    "                [3.0, 0.0],\n",
    "                [2.0, 4.0],\n",
    "                [5.0, 3.0],\n",
    "                [1.0, 2.5]])\n",
    "\n",
    "\n",
    "\n",
    "vertex_weights = np.array([1.0, 1.0, 0.5, 1.0, 1.0, 0.5, 0.5])\n",
    "vertex_mask = vertex_weights == 1.0\n",
    "\n",
    "X_min = X[vertex_mask]\n",
    "X_maj = X[~vertex_mask]"
   ]
  },
  {
   "cell_type": "code",
   "execution_count": 3,
   "metadata": {},
   "outputs": [
    {
     "data": {
      "text/plain": [
       "<matplotlib.collections.PathCollection at 0x7fae384f6da0>"
      ]
     },
     "execution_count": 3,
     "metadata": {},
     "output_type": "execute_result"
    },
    {
     "data": {
      "image/png": "[encoded data removed]",
      "text/plain": [
       "<Figure size 432x288 with 1 Axes>"
      ]
     },
     "metadata": {
      "needs_background": "light"
     },
     "output_type": "display_data"
    }
   ],
   "source": [
    "plt.scatter(X[:,0], X[:,1])"
   ]
  },
  {
   "cell_type": "code",
   "execution_count": 4,
   "metadata": {},
   "outputs": [],
   "source": [
    "ssm = SimplexSamplingMixin(n_dim=2,\n",
    "                        simplex_sampling='uniform',\n",
    "                        within_simplex_sampling='deterministic')"
   ]
  },
  {
   "cell_type": "code",
   "execution_count": 6,
   "metadata": {},
   "outputs": [
    {
     "name": "stdout",
     "output_type": "stream",
     "text": [
      "[[0 1]] [1.]\n"
     ]
    },
    {
     "data": {
      "text/plain": [
       "array([[1.33333333, 2.33333333, 3.33333333, 4.33333333],\n",
       "       [1.66666667, 2.66666667, 3.66666667, 4.66666667]])"
      ]
     },
     "execution_count": 6,
     "metadata": {},
     "output_type": "execute_result"
    }
   ],
   "source": [
    "X = np.array([[1, 2, 3, 4],\n",
    "                [2, 3, 4, 5],\n",
    "                [3, 4, 5, 6]], dtype=float)\n",
    "\n",
    "simplices = np.array([[0, 1],\n",
    "                        [0, 1]])\n",
    "\n",
    "ssm.deterministic_samples_from_simplices(X, simplices)"
   ]
  },
  {
   "cell_type": "code",
   "execution_count": 6,
   "metadata": {},
   "outputs": [
    {
     "name": "stdout",
     "output_type": "stream",
     "text": [
      "[[2 1]] [1.]\n",
      "[[3 6]] [0.5]\n"
     ]
    },
    {
     "data": {
      "image/png": "[encoded data removed]",
      "text/plain": [
       "<Figure size 432x288 with 1 Axes>"
      ]
     },
     "metadata": {
      "needs_background": "light"
     },
     "output_type": "display_data"
    }
   ],
   "source": [
    "indices = NearestNeighbors(n_neighbors=3).fit(X).kneighbors(X_min, return_distance=False)\n",
    "\n",
    "X_samp = ssm.sample_simplex(X=X_min, indices=indices, n_to_sample=5,\n",
    "                        X_vertices=X,\n",
    "                        vertex_weights=vertex_weights)\n",
    "\n",
    "\n",
    "plt.scatter(X_min[:,0], X_min[:,1])\n",
    "plt.scatter(X_maj[:,0], X_maj[:,1])\n",
    "plt.scatter(X_samp[:,0], X_samp[:,1])\n",
    "plt.show()"
   ]
  },
  {
   "cell_type": "code",
   "execution_count": null,
   "metadata": {},
   "outputs": [],
   "source": []
  },
  {
   "cell_type": "code",
   "execution_count": null,
   "metadata": {},
   "outputs": [],
   "source": []
  }
 ],
 "metadata": {
  "kernelspec": {
   "display_name": "Python 3.10.4 ('smote_variants')",
   "language": "python",
   "name": "python3"
  },
  "language_info": {
   "codemirror_mode": {
    "name": "ipython",
    "version": 3
   },
   "file_extension": ".py",
   "mimetype": "text/x-python",
   "name": "python",
   "nbconvert_exporter": "python",
   "pygments_lexer": "ipython3",
   "version": "3.10.4"
  },
  "orig_nbformat": 4,
  "vscode": {
   "interpreter": {
    "hash": "04ee80b1cee16018cf8dd56bf8f0a10a10cf53a2e8478a33e897f29ae53ad00d"
   }
  }
 },
 "nbformat": 4,
 "nbformat_minor": 2
}
