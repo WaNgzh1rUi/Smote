{
 "cells": [
  {
   "cell_type": "code",
   "execution_count": 1,
   "metadata": {},
   "outputs": [],
   "source": [
    "import time\n",
    "import multiprocessing\n",
    "import functools\n",
    "\n",
    "from joblib import Parallel, delayed\n",
    "\n",
    "\n",
    "def with_timeout(timeout):\n",
    "    def decorator(decorated):\n",
    "        @functools.wraps(decorated)\n",
    "        def inner(*args, **kwargs):\n",
    "            pool = multiprocessing.pool.ThreadPool(1)\n",
    "            async_result = pool.apply_async(decorated, args, kwargs)\n",
    "            try:\n",
    "                return async_result.get(timeout)\n",
    "            except multiprocessing.TimeoutError:\n",
    "                return\n",
    "        return inner\n",
    "    return decorator\n",
    "\n",
    "\n",
    "@with_timeout(0.5)\n",
    "def func(to_return, sleep_time):\n",
    "    time.sleep(sleep_time)\n",
    "    return to_return"
   ]
  },
  {
   "cell_type": "code",
   "execution_count": 3,
   "metadata": {},
   "outputs": [],
   "source": [
    "func(1, 1.0)"
   ]
  },
  {
   "cell_type": "code",
   "execution_count": null,
   "metadata": {},
   "outputs": [],
   "source": []
  }
 ],
 "metadata": {
  "kernelspec": {
   "display_name": "Python 3.10.4 ('smote_variants')",
   "language": "python",
   "name": "python3"
  },
  "language_info": {
   "codemirror_mode": {
    "name": "ipython",
    "version": 3
   },
   "file_extension": ".py",
   "mimetype": "text/x-python",
   "name": "python",
   "nbconvert_exporter": "python",
   "pygments_lexer": "ipython3",
   "version": "3.10.4"
  },
  "orig_nbformat": 4,
  "vscode": {
   "interpreter": {
    "hash": "04ee80b1cee16018cf8dd56bf8f0a10a10cf53a2e8478a33e897f29ae53ad00d"
   }
  }
 },
 "nbformat": 4,
 "nbformat_minor": 2
}
