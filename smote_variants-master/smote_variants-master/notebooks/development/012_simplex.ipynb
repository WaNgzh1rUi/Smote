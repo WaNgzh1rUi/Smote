{
 "cells": [
  {
   "cell_type": "code",
   "execution_count": 1,
   "metadata": {},
   "outputs": [
    {
     "name": "stderr",
     "output_type": "stream",
     "text": [
      "2022-07-30 22:15:30.222871: I tensorflow/core/util/util.cc:169] oneDNN custom operations are on. You may see slightly different numerical results due to floating-point round-off errors from different computation orders. To turn them off, set the environment variable `TF_ENABLE_ONEDNN_OPTS=0`.\n",
      "2022-07-30 22:15:30.227649: W tensorflow/stream_executor/platform/default/dso_loader.cc:64] Could not load dynamic library 'libcudart.so.11.0'; dlerror: libcudart.so.11.0: cannot open shared object file: No such file or directory\n",
      "2022-07-30 22:15:30.227695: I tensorflow/stream_executor/cuda/cudart_stub.cc:29] Ignore above cudart dlerror if you do not have a GPU set up on your machine.\n"
     ]
    }
   ],
   "source": [
    "import numpy as np\n",
    "\n",
    "import pytest\n",
    "\n",
    "from smote_variants import (array_array_index,\n",
    "                            base_idx_neighbor_idx_simplices,\n",
    "                            all_neighbor_simplices_real_idx,\n",
    "                            reweight_simplex_vertices,\n",
    "                            cartesian_product, vector_choice,\n",
    "                            simplex_volume, simplex_volumes,\n",
    "                            SimplexSamplingMixin,\n",
    "                            random_samples_from_simplices)\n"
   ]
  },
  {
   "cell_type": "code",
   "execution_count": 2,
   "metadata": {},
   "outputs": [],
   "source": [
    "X = np.array([[0, 1], [1, 0], [0, 0]])\n",
    "X_vertices = np.array([[0, 1], [1, 0], [1, 1]])\n",
    "simplices = np.array([[0, 1, 2]]*10)\n",
    "vertex_weights_0 = np.array([1.0, 1.0, 0.0])"
   ]
  },
  {
   "cell_type": "code",
   "execution_count": 3,
   "metadata": {},
   "outputs": [
    {
     "data": {
      "text/plain": [
       "True"
      ]
     },
     "execution_count": 3,
     "metadata": {},
     "output_type": "execute_result"
    }
   ],
   "source": [
    "sample = random_samples_from_simplices(X, simplices)\n",
    "np.all(np.dot(sample, np.array([1.0, 1.0])) - 1 < 0)"
   ]
  },
  {
   "cell_type": "code",
   "execution_count": 4,
   "metadata": {},
   "outputs": [
    {
     "data": {
      "text/plain": [
       "True"
      ]
     },
     "execution_count": 4,
     "metadata": {},
     "output_type": "execute_result"
    }
   ],
   "source": [
    "sample = random_samples_from_simplices(X, simplices, X_vertices=X)\n",
    "np.all(np.dot(sample, np.array([1.0, 1.0])) - 1 < 0)"
   ]
  },
  {
   "cell_type": "code",
   "execution_count": 5,
   "metadata": {},
   "outputs": [
    {
     "data": {
      "text/plain": [
       "True"
      ]
     },
     "execution_count": 5,
     "metadata": {},
     "output_type": "execute_result"
    }
   ],
   "source": [
    "sample = random_samples_from_simplices(X, simplices, X_vertices=X_vertices)\n",
    "np.all(np.dot(sample, np.array([1.0, 1.0])) - 1 > 0)"
   ]
  },
  {
   "cell_type": "code",
   "execution_count": 6,
   "metadata": {},
   "outputs": [],
   "source": [
    "sample = random_samples_from_simplices(X, simplices, vertex_weights=vertex_weights_0)\n",
    "np.testing.assert_almost_equal(np.dot(sample, np.array([1.0, 1.0])) - 1, 0)"
   ]
  },
  {
   "cell_type": "code",
   "execution_count": 7,
   "metadata": {},
   "outputs": [],
   "source": [
    "sample = random_samples_from_simplices(X, simplices, X_vertices = X_vertices, vertex_weights=vertex_weights_0)\n",
    "np.testing.assert_almost_equal(np.dot(sample, np.array([1.0, 1.0])) - 1, 0)"
   ]
  },
  {
   "cell_type": "code",
   "execution_count": null,
   "metadata": {},
   "outputs": [],
   "source": []
  },
  {
   "cell_type": "code",
   "execution_count": null,
   "metadata": {},
   "outputs": [],
   "source": []
  },
  {
   "cell_type": "code",
   "execution_count": 8,
   "metadata": {},
   "outputs": [
    {
     "data": {
      "text/plain": [
       "array([2.22044605e-16, 0.00000000e+00, 0.00000000e+00, 0.00000000e+00,\n",
       "       2.22044605e-16, 0.00000000e+00, 0.00000000e+00, 0.00000000e+00,\n",
       "       0.00000000e+00, 0.00000000e+00])"
      ]
     },
     "execution_count": 8,
     "metadata": {},
     "output_type": "execute_result"
    }
   ],
   "source": [
    "np.dot(sample, np.array([1.0, 1.0])) - 1"
   ]
  },
  {
   "cell_type": "code",
   "execution_count": null,
   "metadata": {},
   "outputs": [],
   "source": []
  },
  {
   "cell_type": "code",
   "execution_count": 9,
   "metadata": {},
   "outputs": [],
   "source": [
    "sample = random_samples_from_simplices(X, simplices)"
   ]
  },
  {
   "cell_type": "code",
   "execution_count": null,
   "metadata": {},
   "outputs": [],
   "source": []
  },
  {
   "cell_type": "code",
   "execution_count": 10,
   "metadata": {},
   "outputs": [
    {
     "data": {
      "text/plain": [
       "array([[0.67008034, 0.17083696],\n",
       "       [0.24193552, 0.45503586],\n",
       "       [0.32787891, 0.48440649],\n",
       "       [0.08018775, 0.18643431],\n",
       "       [0.10699822, 0.29827136],\n",
       "       [0.42079889, 0.27842957],\n",
       "       [0.32060835, 0.34767421],\n",
       "       [0.35404587, 0.33058247],\n",
       "       [0.22619646, 0.5139539 ],\n",
       "       [0.45452972, 0.45628295]])"
      ]
     },
     "execution_count": 10,
     "metadata": {},
     "output_type": "execute_result"
    }
   ],
   "source": [
    "sample"
   ]
  },
  {
   "cell_type": "code",
   "execution_count": null,
   "metadata": {},
   "outputs": [],
   "source": []
  },
  {
   "cell_type": "code",
   "execution_count": 11,
   "metadata": {},
   "outputs": [],
   "source": [
    "X_ssm = np.array([[0.0, 1.0], [1.0, 0.0], [0.0, 2.0], [0.01, 2.00], [0.01, 2.01]])\n",
    "indices_ssm = np.array([[0, 2, 1], [1, 0, 2], [2, 0, 1], [3, 4, 4], [4, 3, 3]])\n",
    "small_volume_edge_weight = 0.4 # (4 edges, but the small volume appears twice)\n",
    "n_to_sample_ssm = 1000\n"
   ]
  },
  {
   "cell_type": "code",
   "execution_count": 12,
   "metadata": {},
   "outputs": [],
   "source": [
    "ssm = SimplexSamplingMixin(simplex_sampling='volume',\n",
    "                                within_simplex_sampling='deterministic',\n",
    "                                n_dim=2,\n",
    "                                random_state=5)\n",
    "\n",
    "assert len(ssm.get_params()) > 0\n",
    "\n",
    "samples = ssm.sample_simplex(X=X_ssm,\n",
    "                                indices=indices_ssm,\n",
    "                                n_to_sample=n_to_sample_ssm,\n",
    "                                base_weights=np.array([0, 0, 0, 0.5, 0.5]),\n",
    "                                vertex_weights=np.array([1.0, 1.0, 1.0, 1.0, 0.5]))\n",
    "\n",
    "assert len(samples) == n_to_sample_ssm\n",
    "assert np.all(np.logical_and(samples[:, 1] <= 2.005,\n",
    "                                samples[:, 1] >= 2.0))\n",
    "\n",
    "samples = ssm.sample_simplex(X=X_ssm,\n",
    "                                indices=indices_ssm,\n",
    "                                n_to_sample=n_to_sample_ssm,\n",
    "                                base_weights=np.array([0, 0, 0, 1.0, 0]),\n",
    "                                vertex_weights=np.array([1.0, 1.0, 1.0, 1.0, 0.5]),\n",
    "                                X_vertices=X_ssm.copy())\n",
    "\n",
    "assert len(samples) == n_to_sample_ssm\n",
    "assert np.all(np.logical_and(samples[:, 1] <= 2.005,\n",
    "                                samples[:, 1] >= 2.0))"
   ]
  },
  {
   "cell_type": "code",
   "execution_count": 13,
   "metadata": {},
   "outputs": [],
   "source": [
    "small_volume_edge_weight = 0.4"
   ]
  },
  {
   "cell_type": "code",
   "execution_count": 14,
   "metadata": {},
   "outputs": [
    {
     "data": {
      "text/plain": [
       "392"
      ]
     },
     "execution_count": 14,
     "metadata": {},
     "output_type": "execute_result"
    }
   ],
   "source": [
    "ssm = SimplexSamplingMixin(simplex_sampling='uniform',\n",
    "                                within_simplex_sampling='deterministic',\n",
    "                                n_dim=2,\n",
    "                                random_state=5)\n",
    "\n",
    "samples = ssm.sample_simplex(X=X_ssm,\n",
    "                                indices=indices_ssm,\n",
    "                                n_to_sample=n_to_sample_ssm)\n",
    "\n",
    "np.sum(samples[:, 0] == 0.01)"
   ]
  },
  {
   "cell_type": "code",
   "execution_count": 18,
   "metadata": {},
   "outputs": [],
   "source": [
    "ssm = SimplexSamplingMixin(simplex_sampling='uniform',\n",
    "                                within_simplex_sampling='random',\n",
    "                                n_dim=1,\n",
    "                                random_state=5)"
   ]
  },
  {
   "cell_type": "code",
   "execution_count": 19,
   "metadata": {},
   "outputs": [
    {
     "data": {
      "text/plain": [
       "array([[0],\n",
       "       [1],\n",
       "       [2],\n",
       "       [3],\n",
       "       [4]])"
      ]
     },
     "execution_count": 19,
     "metadata": {},
     "output_type": "execute_result"
    }
   ],
   "source": [
    "all_neighbor_simplices_real_idx(n_dim=1, indices=indices_ssm)"
   ]
  },
  {
   "cell_type": "code",
   "execution_count": 20,
   "metadata": {},
   "outputs": [],
   "source": [
    "samples = ssm.sample_simplex(X=X_ssm, indices=indices_ssm, n_to_sample=n_to_sample_ssm)"
   ]
  },
  {
   "cell_type": "code",
   "execution_count": 23,
   "metadata": {},
   "outputs": [
    {
     "data": {
      "text/plain": [
       "array([[0.  , 1.  ],\n",
       "       [0.  , 2.  ],\n",
       "       [0.01, 2.  ],\n",
       "       [0.01, 2.01],\n",
       "       [1.  , 0.  ]])"
      ]
     },
     "execution_count": 23,
     "metadata": {},
     "output_type": "execute_result"
    }
   ],
   "source": [
    "np.unique(samples, axis=0)"
   ]
  },
  {
   "cell_type": "code",
   "execution_count": 15,
   "metadata": {},
   "outputs": [
    {
     "data": {
      "text/plain": [
       "257"
      ]
     },
     "execution_count": 15,
     "metadata": {},
     "output_type": "execute_result"
    }
   ],
   "source": [
    "ssm = SimplexSamplingMixin(simplex_sampling='uniform',\n",
    "                                within_simplex_sampling='random',\n",
    "                                n_dim=2,\n",
    "                                random_state=5)\n",
    "\n",
    "samples = ssm.sample_simplex(X=X_ssm,\n",
    "                                indices=indices_ssm,\n",
    "                                n_to_sample=n_to_sample_ssm)\n",
    "\n",
    "np.sum(samples[:, 0] == 0.01)"
   ]
  },
  {
   "cell_type": "code",
   "execution_count": 16,
   "metadata": {},
   "outputs": [],
   "source": [
    "ssm = SimplexSamplingMixin(simplex_sampling='uniform',\n",
    "                                within_simplex_sampling='random',\n",
    "                                n_dim=2,\n",
    "                                random_state=5)"
   ]
  },
  {
   "cell_type": "code",
   "execution_count": 17,
   "metadata": {},
   "outputs": [],
   "source": [
    "simp0 = ssm.simplices(X_ssm, n_to_sample_ssm, indices=indices_ssm)"
   ]
  },
  {
   "cell_type": "code",
   "execution_count": 18,
   "metadata": {},
   "outputs": [],
   "source": [
    "ssm = SimplexSamplingMixin(simplex_sampling='uniform',\n",
    "                                within_simplex_sampling='deterministic',\n",
    "                                n_dim=2,\n",
    "                                random_state=5)"
   ]
  },
  {
   "cell_type": "code",
   "execution_count": 19,
   "metadata": {},
   "outputs": [],
   "source": [
    "simp1 = ssm.simplices(X_ssm, n_to_sample_ssm, indices=indices_ssm)"
   ]
  },
  {
   "cell_type": "code",
   "execution_count": 20,
   "metadata": {},
   "outputs": [],
   "source": [
    "np.testing.assert_array_equal(simp0, simp1)"
   ]
  },
  {
   "cell_type": "code",
   "execution_count": null,
   "metadata": {},
   "outputs": [],
   "source": []
  }
 ],
 "metadata": {
  "kernelspec": {
   "display_name": "Python 3.10.4 ('smote_variants')",
   "language": "python",
   "name": "python3"
  },
  "language_info": {
   "codemirror_mode": {
    "name": "ipython",
    "version": 3
   },
   "file_extension": ".py",
   "mimetype": "text/x-python",
   "name": "python",
   "nbconvert_exporter": "python",
   "pygments_lexer": "ipython3",
   "version": "3.10.4"
  },
  "orig_nbformat": 4,
  "vscode": {
   "interpreter": {
    "hash": "04ee80b1cee16018cf8dd56bf8f0a10a10cf53a2e8478a33e897f29ae53ad00d"
   }
  }
 },
 "nbformat": 4,
 "nbformat_minor": 2
}
