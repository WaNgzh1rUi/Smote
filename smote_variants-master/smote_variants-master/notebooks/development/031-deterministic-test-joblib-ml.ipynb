{
 "cells": [
  {
   "cell_type": "code",
   "execution_count": 1,
   "metadata": {},
   "outputs": [],
   "source": [
    "import datetime\n",
    "\n",
    "from joblib import Parallel, delayed\n",
    "\n",
    "import numpy as np\n",
    "import pandas as pd\n",
    "\n",
    "from sklearn.tree import DecisionTreeClassifier\n",
    "from sklearn.ensemble import RandomForestClassifier\n",
    "from sklearn.svm import SVC\n",
    "from sklearn.neighbors import KNeighborsClassifier\n",
    "from sklearn.model_selection import RepeatedStratifiedKFold\n",
    "from sklearn.preprocessing import StandardScaler\n",
    "from sklearn.metrics import roc_auc_score\n",
    "\n",
    "from smote_variants.oversampling import SMOTE\n",
    "from common_datasets.binary_classification import get_filtered_data_loaders"
   ]
  },
  {
   "cell_type": "code",
   "execution_count": 2,
   "metadata": {},
   "outputs": [],
   "source": [
    "import logging\n",
    "logger = logging.getLogger('smote_variants')\n",
    "logger.setLevel(logging.ERROR)"
   ]
  },
  {
   "cell_type": "code",
   "execution_count": 3,
   "metadata": {},
   "outputs": [],
   "source": [
    "classifiers = {\n",
    "DecisionTreeClassifier: [{'max_depth': md, 'random_state': 5} for md in range(4, 10, 2)],\n",
    "RandomForestClassifier: [{'max_depth': md, 'random_state': 5} for md in range(4, 10, 2)],\n",
    "KNeighborsClassifier: [{'n_neighbors': nn} for nn in range(1, 10, 2)],\n",
    "SVC: [{'C': c, 'probability': True, 'random_state': 5} for c in [0.001, 0.01, 0.1]]\\\n",
    "            + [{'C': c, 'probability': True, 'kernel': 'poly', 'degree': 2, 'random_state': 5} for c in [0.001, 0.01, 0.1]]\\\n",
    "            + [{'C': c, 'probability': True, 'kernel': 'poly', 'degree': 3, 'random_state': 5} for c in [0.001, 0.01, 0.1]]\\\n",
    "}"
   ]
  },
  {
   "cell_type": "code",
   "execution_count": 4,
   "metadata": {},
   "outputs": [],
   "source": [
    "datasets = get_filtered_data_loaders(n_col_bounds=(2, 40),\n",
    "                                        n_bounds=(10, 500),\n",
    "                                        n_minority_bounds=(10, 500),\n",
    "                                        n_from_phenotypes=1,\n",
    "                                        n_smallest=20)"
   ]
  },
  {
   "cell_type": "code",
   "execution_count": 5,
   "metadata": {},
   "outputs": [],
   "source": [
    "smote_params = [\n",
    "    #{'n_neighbors': 3, 'proportion': 0.5, 'random_state': 5, 'nn_params': {'metric': 'precomputed', 'metric_learning_method': 'id'}},\n",
    "    #{'n_neighbors': 5, 'proportion': 0.5, 'random_state': 5, 'nn_params': {'metric': 'precomputed', 'metric_learning_method': 'id'}},\n",
    "    #{'n_neighbors': 7, 'proportion': 0.5, 'random_state': 5, 'nn_params': {'metric': 'precomputed', 'metric_learning_method': 'id'}},\n",
    "    #{'n_neighbors': 3, 'proportion': 1.0, 'random_state': 5, 'nn_params': {'metric': 'precomputed', 'metric_learning_method': 'id'}},\n",
    "    {'n_neighbors': 5, 'proportion': 1.0, 'random_state': 5, 'nn_params': {'metric': 'precomputed', 'metric_learning_method': 'id'}},\n",
    "    #{'n_neighbors': 7, 'proportion': 1.0, 'random_state': 5, 'nn_params': {'metric': 'precomputed', 'metric_learning_method': 'id'}},\n",
    "    #{'n_neighbors': 3, 'proportion': 1.5, 'random_state': 5, 'nn_params': {'metric': 'precomputed', 'metric_learning_method': 'id'}},\n",
    "    #{'n_neighbors': 5, 'proportion': 1.5, 'random_state': 5, 'nn_params': {'metric': 'precomputed', 'metric_learning_method': 'id'}},\n",
    "    #{'n_neighbors': 7, 'proportion': 1.5, 'random_state': 5, 'nn_params': {'metric': 'precomputed', 'metric_learning_method': 'id'}},\n",
    "    #{'n_neighbors': 3, 'proportion': 0.5, 'random_state': 5, 'nn_params': {'metric': 'precomputed', 'metric_learning_method': 'n_unique_inv'}},\n",
    "    #{'n_neighbors': 5, 'proportion': 0.5, 'random_state': 5, 'nn_params': {'metric': 'precomputed', 'metric_learning_method': 'n_unique_inv'}},\n",
    "    #{'n_neighbors': 7, 'proportion': 0.5, 'random_state': 5, 'nn_params': {'metric': 'precomputed', 'metric_learning_method': 'n_unique_inv'}},\n",
    "    #{'n_neighbors': 3, 'proportion': 1.0, 'random_state': 5, 'nn_params': {'metric': 'precomputed', 'metric_learning_method': 'n_unique_inv'}},\n",
    "    {'n_neighbors': 5, 'proportion': 1.0, 'random_state': 5, 'nn_params': {'metric': 'precomputed', 'metric_learning_method': 'MI_weighted'}},\n",
    "    #{'n_neighbors': 7, 'proportion': 1.0, 'random_state': 5, 'nn_params': {'metric': 'precomputed', 'metric_learning_method': 'n_unique_inv'}},\n",
    "    #{'n_neighbors': 3, 'proportion': 1.5, 'random_state': 5, 'nn_params': {'metric': 'precomputed', 'metric_learning_method': 'n_unique_inv'}},\n",
    "    #{'n_neighbors': 5, 'proportion': 1.5, 'random_state': 5, 'nn_params': {'metric': 'precomputed', 'metric_learning_method': 'n_unique_inv'}},\n",
    "    #{'n_neighbors': 7, 'proportion': 1.5, 'random_state': 5, 'nn_params': {'metric': 'precomputed', 'metric_learning_method': 'n_unique_inv'}},\n",
    "]"
   ]
  },
  {
   "cell_type": "code",
   "execution_count": 6,
   "metadata": {},
   "outputs": [],
   "source": [
    "for data_loader in datasets:\n",
    "        results = []"
   ]
  },
  {
   "cell_type": "code",
   "execution_count": 7,
   "metadata": {},
   "outputs": [],
   "source": [
    "def job_generator(data_loader):\n",
    "\n",
    "    dataset = data_loader()\n",
    "    print(datetime.datetime.now(), dataset['name'])\n",
    "\n",
    "    X = dataset['data']\n",
    "    y = dataset['target']\n",
    "\n",
    "    validator = RepeatedStratifiedKFold(n_splits=5, n_repeats=200, random_state=5)\n",
    "\n",
    "    for fidx, (train, test) in enumerate(validator.split(X, y, y)):\n",
    "        X_train = X[train]\n",
    "        X_test = X[test]\n",
    "        y_train = y[train]\n",
    "        y_test = y[test]\n",
    "\n",
    "        ss = StandardScaler()\n",
    "        ss.fit(X_train)\n",
    "        X_train = ss.transform(X_train)\n",
    "        X_test = ss.transform(X_test)\n",
    "\n",
    "        for sparam in smote_params:\n",
    "            oversampling = SMOTE(**sparam)\n",
    "            X_samp, y_samp = oversampling.sample(X_train, y_train)\n",
    "\n",
    "            for classifier, cparams in classifiers.items():\n",
    "                for param in cparams:\n",
    "                    job = {\n",
    "                        'X_samp': X_samp,\n",
    "                        'y_samp': y_samp,\n",
    "                        'X_test': X_test,\n",
    "                        'y_test': y_test,\n",
    "                        'classifier': classifier,\n",
    "                        'param': param\n",
    "                    }\n",
    "                    description = {\n",
    "                        'name': dataset['name'],\n",
    "                        'fold': fidx,\n",
    "                        'sparam': sparam,\n",
    "                        'classifier': classifier.__name__,\n",
    "                        'cparam': param\n",
    "                    }\n",
    "                    yield job, description"
   ]
  },
  {
   "cell_type": "code",
   "execution_count": 8,
   "metadata": {},
   "outputs": [],
   "source": [
    "def do_job(job, description):\n",
    "    classifier_obj = job['classifier'](**job['param'])\n",
    "    classifier_obj.fit(job['X_samp'], job['y_samp'])\n",
    "    y_pred = classifier_obj.predict_proba(job['X_test'])\n",
    "    auc = roc_auc_score(job['y_test'], y_pred[:, 1])\n",
    "    return description | {'auc': auc}"
   ]
  },
  {
   "cell_type": "code",
   "execution_count": 9,
   "metadata": {},
   "outputs": [
    {
     "name": "stdout",
     "output_type": "stream",
     "text": [
      "2023-12-16 11:14:50.048117 appendicitis\n"
     ]
    },
    {
     "name": "stdout",
     "output_type": "stream",
     "text": [
      "2023-12-16 11:21:45.349117 bupa\n",
      "2023-12-16 11:31:09.550091 cleveland-0_vs_4\n",
      "2023-12-16 11:42:26.786704 CM1\n"
     ]
    }
   ],
   "source": [
    "for data_loader in datasets:\n",
    "    dataset = data_loader()\n",
    "\n",
    "    if dataset['name'] in ['iris0', 'dermatology-6']:\n",
    "        continue\n",
    "\n",
    "    results = Parallel(n_jobs=3)(delayed(do_job)(*x) for x in job_generator(data_loader))\n",
    "    results = pd.DataFrame.from_dict(results)\n",
    "    results.to_csv(f\"{dataset['name']}-ml.csv\")"
   ]
  },
  {
   "cell_type": "code",
   "execution_count": null,
   "metadata": {},
   "outputs": [],
   "source": [
    "results.to_csv(f\"{dataset['name']}.csv\")"
   ]
  },
  {
   "cell_type": "code",
   "execution_count": null,
   "metadata": {},
   "outputs": [],
   "source": []
  },
  {
   "cell_type": "code",
   "execution_count": null,
   "metadata": {},
   "outputs": [
    {
     "name": "stdout",
     "output_type": "stream",
     "text": [
      "2023-12-14 21:42:48.609799 appendicitis\n"
     ]
    },
    {
     "data": {
      "text/plain": [
       "{'name': 'appendicitis',\n",
       " 'fold': 0,\n",
       " 'sparam': {'n_neighbors': 3,\n",
       "  'proportion': 0.5,\n",
       "  'random_state': 5,\n",
       "  'ss_params': {'within_simplex_sampling': 'random'}},\n",
       " 'classifier': 'DecisionTreeClassifier',\n",
       " 'cparam': {'max_depth': 2, 'random_state': 5},\n",
       " 'auc': 0.5823529411764707}"
      ]
     },
     "execution_count": 16,
     "metadata": {},
     "output_type": "execute_result"
    }
   ],
   "source": [
    "do_job(*next(job_generator(datasets[0])))"
   ]
  },
  {
   "cell_type": "code",
   "execution_count": null,
   "metadata": {},
   "outputs": [
    {
     "data": {
      "text/html": [
       "<div>\n",
       "<style scoped>\n",
       "    .dataframe tbody tr th:only-of-type {\n",
       "        vertical-align: middle;\n",
       "    }\n",
       "\n",
       "    .dataframe tbody tr th {\n",
       "        vertical-align: top;\n",
       "    }\n",
       "\n",
       "    .dataframe thead th {\n",
       "        text-align: right;\n",
       "    }\n",
       "</style>\n",
       "<table border=\"1\" class=\"dataframe\">\n",
       "  <thead>\n",
       "    <tr style=\"text-align: right;\">\n",
       "      <th></th>\n",
       "      <th>name</th>\n",
       "      <th>fold</th>\n",
       "      <th>sparam</th>\n",
       "      <th>classifier</th>\n",
       "      <th>cparam</th>\n",
       "      <th>auc</th>\n",
       "    </tr>\n",
       "  </thead>\n",
       "  <tbody>\n",
       "    <tr>\n",
       "      <th>0</th>\n",
       "      <td>appendicitis</td>\n",
       "      <td>0</td>\n",
       "      <td>{'n_neighbors': 3, 'proportion': 0.5, 'random_...</td>\n",
       "      <td>DecisionTreeClassifier</td>\n",
       "      <td>[{'max_depth': 2, 'random_state': 5}, {'max_de...</td>\n",
       "      <td>0.582353</td>\n",
       "    </tr>\n",
       "    <tr>\n",
       "      <th>1</th>\n",
       "      <td>appendicitis</td>\n",
       "      <td>0</td>\n",
       "      <td>{'n_neighbors': 3, 'proportion': 0.5, 'random_...</td>\n",
       "      <td>DecisionTreeClassifier</td>\n",
       "      <td>[{'max_depth': 2, 'random_state': 5}, {'max_de...</td>\n",
       "      <td>0.723529</td>\n",
       "    </tr>\n",
       "    <tr>\n",
       "      <th>2</th>\n",
       "      <td>appendicitis</td>\n",
       "      <td>0</td>\n",
       "      <td>{'n_neighbors': 3, 'proportion': 0.5, 'random_...</td>\n",
       "      <td>DecisionTreeClassifier</td>\n",
       "      <td>[{'max_depth': 2, 'random_state': 5}, {'max_de...</td>\n",
       "      <td>0.764706</td>\n",
       "    </tr>\n",
       "    <tr>\n",
       "      <th>3</th>\n",
       "      <td>appendicitis</td>\n",
       "      <td>0</td>\n",
       "      <td>{'n_neighbors': 3, 'proportion': 0.5, 'random_...</td>\n",
       "      <td>DecisionTreeClassifier</td>\n",
       "      <td>[{'max_depth': 2, 'random_state': 5}, {'max_de...</td>\n",
       "      <td>0.782353</td>\n",
       "    </tr>\n",
       "    <tr>\n",
       "      <th>4</th>\n",
       "      <td>appendicitis</td>\n",
       "      <td>0</td>\n",
       "      <td>{'n_neighbors': 3, 'proportion': 0.5, 'random_...</td>\n",
       "      <td>RandomForestClassifier</td>\n",
       "      <td>[{'max_depth': 2, 'random_state': 5}, {'max_de...</td>\n",
       "      <td>0.976471</td>\n",
       "    </tr>\n",
       "    <tr>\n",
       "      <th>...</th>\n",
       "      <td>...</td>\n",
       "      <td>...</td>\n",
       "      <td>...</td>\n",
       "      <td>...</td>\n",
       "      <td>...</td>\n",
       "      <td>...</td>\n",
       "    </tr>\n",
       "    <tr>\n",
       "      <th>441</th>\n",
       "      <td>appendicitis</td>\n",
       "      <td>1</td>\n",
       "      <td>{'n_neighbors': 7, 'proportion': 0.5, 'random_...</td>\n",
       "      <td>DecisionTreeClassifier</td>\n",
       "      <td>[{'max_depth': 2, 'random_state': 5}, {'max_de...</td>\n",
       "      <td>0.647059</td>\n",
       "    </tr>\n",
       "    <tr>\n",
       "      <th>442</th>\n",
       "      <td>appendicitis</td>\n",
       "      <td>1</td>\n",
       "      <td>{'n_neighbors': 7, 'proportion': 0.5, 'random_...</td>\n",
       "      <td>DecisionTreeClassifier</td>\n",
       "      <td>[{'max_depth': 2, 'random_state': 5}, {'max_de...</td>\n",
       "      <td>0.661765</td>\n",
       "    </tr>\n",
       "    <tr>\n",
       "      <th>443</th>\n",
       "      <td>appendicitis</td>\n",
       "      <td>1</td>\n",
       "      <td>{'n_neighbors': 7, 'proportion': 0.5, 'random_...</td>\n",
       "      <td>DecisionTreeClassifier</td>\n",
       "      <td>[{'max_depth': 2, 'random_state': 5}, {'max_de...</td>\n",
       "      <td>0.661765</td>\n",
       "    </tr>\n",
       "    <tr>\n",
       "      <th>444</th>\n",
       "      <td>appendicitis</td>\n",
       "      <td>1</td>\n",
       "      <td>{'n_neighbors': 7, 'proportion': 0.5, 'random_...</td>\n",
       "      <td>RandomForestClassifier</td>\n",
       "      <td>[{'max_depth': 2, 'random_state': 5}, {'max_de...</td>\n",
       "      <td>0.647059</td>\n",
       "    </tr>\n",
       "    <tr>\n",
       "      <th>445</th>\n",
       "      <td>appendicitis</td>\n",
       "      <td>1</td>\n",
       "      <td>{'n_neighbors': 7, 'proportion': 0.5, 'random_...</td>\n",
       "      <td>RandomForestClassifier</td>\n",
       "      <td>[{'max_depth': 2, 'random_state': 5}, {'max_de...</td>\n",
       "      <td>0.676471</td>\n",
       "    </tr>\n",
       "  </tbody>\n",
       "</table>\n",
       "<p>446 rows × 6 columns</p>\n",
       "</div>"
      ],
      "text/plain": [
       "             name  fold                                             sparam  \\\n",
       "0    appendicitis     0  {'n_neighbors': 3, 'proportion': 0.5, 'random_...   \n",
       "1    appendicitis     0  {'n_neighbors': 3, 'proportion': 0.5, 'random_...   \n",
       "2    appendicitis     0  {'n_neighbors': 3, 'proportion': 0.5, 'random_...   \n",
       "3    appendicitis     0  {'n_neighbors': 3, 'proportion': 0.5, 'random_...   \n",
       "4    appendicitis     0  {'n_neighbors': 3, 'proportion': 0.5, 'random_...   \n",
       "..            ...   ...                                                ...   \n",
       "441  appendicitis     1  {'n_neighbors': 7, 'proportion': 0.5, 'random_...   \n",
       "442  appendicitis     1  {'n_neighbors': 7, 'proportion': 0.5, 'random_...   \n",
       "443  appendicitis     1  {'n_neighbors': 7, 'proportion': 0.5, 'random_...   \n",
       "444  appendicitis     1  {'n_neighbors': 7, 'proportion': 0.5, 'random_...   \n",
       "445  appendicitis     1  {'n_neighbors': 7, 'proportion': 0.5, 'random_...   \n",
       "\n",
       "                 classifier  \\\n",
       "0    DecisionTreeClassifier   \n",
       "1    DecisionTreeClassifier   \n",
       "2    DecisionTreeClassifier   \n",
       "3    DecisionTreeClassifier   \n",
       "4    RandomForestClassifier   \n",
       "..                      ...   \n",
       "441  DecisionTreeClassifier   \n",
       "442  DecisionTreeClassifier   \n",
       "443  DecisionTreeClassifier   \n",
       "444  RandomForestClassifier   \n",
       "445  RandomForestClassifier   \n",
       "\n",
       "                                                cparam       auc  \n",
       "0    [{'max_depth': 2, 'random_state': 5}, {'max_de...  0.582353  \n",
       "1    [{'max_depth': 2, 'random_state': 5}, {'max_de...  0.723529  \n",
       "2    [{'max_depth': 2, 'random_state': 5}, {'max_de...  0.764706  \n",
       "3    [{'max_depth': 2, 'random_state': 5}, {'max_de...  0.782353  \n",
       "4    [{'max_depth': 2, 'random_state': 5}, {'max_de...  0.976471  \n",
       "..                                                 ...       ...  \n",
       "441  [{'max_depth': 2, 'random_state': 5}, {'max_de...  0.647059  \n",
       "442  [{'max_depth': 2, 'random_state': 5}, {'max_de...  0.661765  \n",
       "443  [{'max_depth': 2, 'random_state': 5}, {'max_de...  0.661765  \n",
       "444  [{'max_depth': 2, 'random_state': 5}, {'max_de...  0.647059  \n",
       "445  [{'max_depth': 2, 'random_state': 5}, {'max_de...  0.676471  \n",
       "\n",
       "[446 rows x 6 columns]"
      ]
     },
     "execution_count": 10,
     "metadata": {},
     "output_type": "execute_result"
    }
   ],
   "source": [
    "tmp = pd.DataFrame.from_dict(results)"
   ]
  },
  {
   "cell_type": "code",
   "execution_count": null,
   "metadata": {},
   "outputs": [],
   "source": []
  }
 ],
 "metadata": {
  "kernelspec": {
   "display_name": "smote-variants",
   "language": "python",
   "name": "python3"
  },
  "language_info": {
   "codemirror_mode": {
    "name": "ipython",
    "version": 3
   },
   "file_extension": ".py",
   "mimetype": "text/x-python",
   "name": "python",
   "nbconvert_exporter": "python",
   "pygments_lexer": "ipython3",
   "version": "3.10.13"
  }
 },
 "nbformat": 4,
 "nbformat_minor": 2
}
