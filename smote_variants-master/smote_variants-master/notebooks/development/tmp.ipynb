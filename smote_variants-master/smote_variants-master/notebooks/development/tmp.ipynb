{
 "cells": [
  {
   "cell_type": "code",
   "execution_count": 26,
   "metadata": {},
   "outputs": [],
   "source": [
    "from mlscorecheck.aggregated import fold_partitioning_generator"
   ]
  },
  {
   "cell_type": "code",
   "execution_count": 27,
   "metadata": {},
   "outputs": [
    {
     "name": "stdout",
     "output_type": "stream",
     "text": [
      "2 50\n",
      "3 1633\n",
      "4 3581\n",
      "5 14090\n",
      "6 483176\n",
      "7 2040776\n",
      "8 139143\n",
      "9 4342190\n",
      "10 246448\n",
      "11 7138953\n"
     ]
    },
    {
     "ename": "KeyboardInterrupt",
     "evalue": "",
     "output_type": "error",
     "traceback": [
      "\u001b[0;31m---------------------------------------------------------------------------\u001b[0m",
      "\u001b[0;31mKeyboardInterrupt\u001b[0m                         Traceback (most recent call last)",
      "Cell \u001b[0;32mIn[27], line 4\u001b[0m\n\u001b[1;32m      2\u001b[0m count \u001b[38;5;241m=\u001b[39m \u001b[38;5;241m0\u001b[39m\n\u001b[1;32m      3\u001b[0m \u001b[38;5;28;01mfor\u001b[39;00m _ \u001b[38;5;129;01min\u001b[39;00m fold_partitioning_generator(p\u001b[38;5;241m=\u001b[39m\u001b[38;5;241m100\u001b[39m, n\u001b[38;5;241m=\u001b[39m\u001b[38;5;241m100\u001b[39m, k\u001b[38;5;241m=\u001b[39mk):\n\u001b[0;32m----> 4\u001b[0m     count \u001b[38;5;241m+\u001b[39m\u001b[38;5;241m=\u001b[39m \u001b[38;5;241m1\u001b[39m\n\u001b[1;32m      5\u001b[0m \u001b[38;5;28mprint\u001b[39m(k, count)\n",
      "\u001b[0;31mKeyboardInterrupt\u001b[0m: "
     ]
    }
   ],
   "source": [
    "for k in range(2, 100):\n",
    "    count = 0\n",
    "    for _ in fold_partitioning_generator(p=100, n=100, k=k):\n",
    "        count += 1\n",
    "    print(k, count)"
   ]
  },
  {
   "cell_type": "code",
   "execution_count": 44,
   "metadata": {},
   "outputs": [],
   "source": [
    "import numpy as np\n",
    "def factorial(n):\n",
    "    res = 1.0\n",
    "    for idx in range(1, n+1):\n",
    "        res*= idx\n",
    "    return res\n",
    "\n",
    "def partitions(n, k):\n",
    "    return factorial(n)/(factorial(k)**(n/k)*factorial(int(n/k)))"
   ]
  },
  {
   "cell_type": "code",
   "execution_count": 58,
   "metadata": {},
   "outputs": [
    {
     "name": "stdout",
     "output_type": "stream",
     "text": [
      "2 3.5621427058240887e+162\n",
      "3 3.626801540867747e+197\n",
      "4 2.572363629860447e+206\n",
      "5 1.2282742117030945e+205\n",
      "6 1.5826523735488407e+202\n",
      "7 1.1103610594874628e+198\n",
      "8 2.7433529171014324e+193\n",
      "9 1.9492961457735544e+188\n",
      "10 7.063610910334588e+181\n",
      "11 7.2886230189539895e+177\n",
      "12 3.2146769992502e+172\n",
      "13 1.5115610004254664e+168\n",
      "14 4.0785530300903386e+163\n",
      "15 2.2321627264014143e+158\n",
      "16 2.4791858123335247e+154\n",
      "17 1.394364796130934e+151\n",
      "18 5.098077439183687e+146\n",
      "19 2.4740386235690717e+143\n",
      "20 2.3728024522013827e+139\n",
      "21 3.451392153010874e+135\n",
      "22 5.140441315924067e+132\n",
      "23 1.550064934282854e+129\n",
      "24 6.442561010058904e+125\n",
      "25 3.601142943963805e+122\n",
      "26 3.178184745685334e+120\n",
      "27 3.016011757262844e+117\n",
      "28 3.628951497682093e+114\n",
      "29 5.449810242010832e+111\n",
      "30 1.0070550335094754e+109\n",
      "31 1.1302251970828393e+107\n",
      "32 3.045675448556612e+104\n",
      "33 9.748430425758596e+101\n",
      "34 3.6700428573340127e+99\n",
      "35 1.610642116094514e+97\n",
      "36 8.172210536057132e+94\n",
      "37 4.757683690007036e+92\n",
      "38 1.2623592927902406e+91\n",
      "39 9.479061849256144e+88\n",
      "40 8.00924709229139e+86\n",
      "41 7.572458670181864e+84\n",
      "42 7.969747815064958e+82\n",
      "43 9.292051051329801e+80\n",
      "44 1.1947431387602131e+79\n",
      "45 1.6869322862438707e+77\n",
      "46 2.6053246405122032e+75\n",
      "47 4.3848537730394063e+73\n",
      "48 8.014265931916633e+71\n",
      "49 1.585493661024941e+70\n"
     ]
    }
   ],
   "source": [
    "p = 150\n",
    "n = 50\n",
    "\n",
    "for k in range(2, min(p, n)):\n",
    "\n",
    "    print(k, partitions(n, k)*partitions(p,k))"
   ]
  },
  {
   "cell_type": "code",
   "execution_count": null,
   "metadata": {},
   "outputs": [],
   "source": []
  }
 ],
 "metadata": {
  "kernelspec": {
   "display_name": "smote-variants",
   "language": "python",
   "name": "python3"
  },
  "language_info": {
   "codemirror_mode": {
    "name": "ipython",
    "version": 3
   },
   "file_extension": ".py",
   "mimetype": "text/x-python",
   "name": "python",
   "nbconvert_exporter": "python",
   "pygments_lexer": "ipython3",
   "version": "3.10.13"
  }
 },
 "nbformat": 4,
 "nbformat_minor": 2
}
