{
 "cells": [
  {
   "cell_type": "code",
   "execution_count": 1,
   "metadata": {},
   "outputs": [],
   "source": [
    "import numpy as np\n",
    "import pandas as pd\n",
    "from scipy.stats import wilcoxon\n",
    "\n",
    "from sklearn.ensemble import RandomForestClassifier\n",
    "from sklearn.metrics import roc_auc_score\n",
    "from sklearn.model_selection import RepeatedStratifiedKFold\n",
    "from sklearn.preprocessing import StandardScaler\n",
    "from sklearn.decomposition import PCA\n",
    "from sklearn.tree import DecisionTreeClassifier\n",
    "from conditioning_bias import OperatorRandomForestClassifier, OperatorDecisionTreeClassifier\n",
    "\n",
    "from smote_variants.oversampling import SMOTE\n",
    "\n",
    "import common_datasets.binary_classification as binclas"
   ]
  },
  {
   "cell_type": "code",
   "execution_count": 2,
   "metadata": {},
   "outputs": [],
   "source": [
    "import matplotlib.pyplot as plt"
   ]
  },
  {
   "cell_type": "code",
   "execution_count": 3,
   "metadata": {},
   "outputs": [],
   "source": [
    "dataset = binclas.load_haberman()\n",
    "X = dataset['data']\n",
    "y = dataset['target']"
   ]
  },
  {
   "cell_type": "code",
   "execution_count": 4,
   "metadata": {},
   "outputs": [],
   "source": [
    "X = StandardScaler().fit_transform(X)"
   ]
  },
  {
   "cell_type": "code",
   "execution_count": 5,
   "metadata": {},
   "outputs": [
    {
     "data": {
      "text/plain": [
       "<matplotlib.collections.PathCollection at 0x7f462b4ea800>"
      ]
     },
     "execution_count": 5,
     "metadata": {},
     "output_type": "execute_result"
    },
    {
     "data": {
      "image/png": "[encoded data removed]",
      "text/plain": [
       "<Figure size 640x480 with 1 Axes>"
      ]
     },
     "metadata": {},
     "output_type": "display_data"
    }
   ],
   "source": [
    "plt.scatter(X[y==0, 0], X[y==0, 1])\n",
    "plt.scatter(X[y==1, 0], X[y==1, 1])"
   ]
  },
  {
   "cell_type": "code",
   "execution_count": 6,
   "metadata": {},
   "outputs": [],
   "source": [
    "from sklearn.neighbors import NearestNeighbors"
   ]
  },
  {
   "cell_type": "code",
   "execution_count": 7,
   "metadata": {},
   "outputs": [],
   "source": [
    "X_min = X[y == 1]\n",
    "X_min = StandardScaler().fit_transform(X_min)\n",
    "indices = NearestNeighbors(n_neighbors=5).fit(X_min).kneighbors(X_min, return_distance=False)"
   ]
  },
  {
   "cell_type": "code",
   "execution_count": 8,
   "metadata": {},
   "outputs": [],
   "source": [
    "def joint_neighborhood_ratios(X, y):\n",
    "\n",
    "    X_min = X[y == 1]\n",
    "    X_min = StandardScaler().fit_transform(X_min)\n",
    "    indices = NearestNeighbors(n_neighbors=5).fit(X_min).kneighbors(X_min, return_distance=False)\n",
    "    count = 0\n",
    "    count_none = 0\n",
    "    for idx, inds in enumerate(indices):\n",
    "        flag = False\n",
    "        for ind in inds[1:]:\n",
    "            if idx in indices[ind]:\n",
    "                count += 1\n",
    "                flag = True\n",
    "        if not flag:\n",
    "            count_none += 1\n",
    "    return count/len(X_min), count_none/len(X_min)"
   ]
  },
  {
   "cell_type": "code",
   "execution_count": 9,
   "metadata": {},
   "outputs": [],
   "source": [
    "def comparison(X, y):\n",
    "    X = StandardScaler().fit_transform(X)\n",
    "    X_min = X[y == 1]\n",
    "    X_maj = X[y == 0]\n",
    "\n",
    "    indices = NearestNeighbors(n_neighbors=5).fit(X_min).kneighbors(X_min, return_distance=False)\n",
    "    all_points = (X_min[:, None] + X_min[indices[:, 1:]]) / 2\n",
    "    all_points = all_points.reshape((all_points.shape[0]*all_points.shape[1], all_points.shape[2]))\n",
    "\n",
    "    indices = NearestNeighbors(n_neighbors=5).fit(X).kneighbors(all_points, return_distance=False)\n",
    "    return np.bincount(y[indices.ravel()])\n"
   ]
  },
  {
   "cell_type": "code",
   "execution_count": 10,
   "metadata": {},
   "outputs": [
    {
     "data": {
      "text/plain": [
       "array([776, 844])"
      ]
     },
     "execution_count": 10,
     "metadata": {},
     "output_type": "execute_result"
    }
   ],
   "source": [
    "comparison(X[:, :], y)"
   ]
  },
  {
   "cell_type": "code",
   "execution_count": null,
   "metadata": {},
   "outputs": [],
   "source": []
  },
  {
   "cell_type": "code",
   "execution_count": 11,
   "metadata": {},
   "outputs": [],
   "source": [
    "import logging\n",
    "logger = logging.getLogger('smote_variants')\n",
    "logger.setLevel(logging.ERROR)"
   ]
  },
  {
   "cell_type": "code",
   "execution_count": 12,
   "metadata": {},
   "outputs": [],
   "source": [
    "class RandomForestClassifierImproved:\n",
    "    def __init__(self, smote, min_samples_leaf=5, random_state=None, bootstrap=True, n_estimators=200):\n",
    "        self.smote = smote\n",
    "        self.min_samples_leaf = min_samples_leaf\n",
    "        self.random_state = random_state\n",
    "\n",
    "    def fit(self, X, y, sample_weight=None):\n",
    "        self.estimators = []\n",
    "        self.masks = []\n",
    "        for idx in range(1000):\n",
    "            estimator = OperatorDecisionTreeClassifier(max_features='sqrt', min_weight_fraction_leaf=2/len(X), mode='avg')\n",
    "            bootstrap = np.random.randint(0, X.shape[0], X.shape[0])\n",
    "            X_train = X[bootstrap]\n",
    "            y_train = y[bootstrap]\n",
    "\n",
    "            \"\"\"X0 = X_train[y_train == 0]\n",
    "            X1 = np.unique(X_train[y_train == 1], axis=0)\n",
    "            #X1 = X[y == 1]\n",
    "\n",
    "            #bootstrap = np.random.choice(np.arange(X1.shape[0]), X1.shape[0], replace=True)\n",
    "            #X1 = X1[bootstrap]\n",
    "\n",
    "            X_train = np.vstack([X0, X1])\n",
    "            y_train = np.hstack([np.repeat(0, X0.shape[0]), np.repeat(1, X1.shape[0])])\"\"\"\n",
    "\n",
    "            smote = SMOTE(\n",
    "                random_state=5,\n",
    "                n_neighbors=1,\n",
    "                #proportion=2.0,\n",
    "                #proportion=1.0 + (np.random.random_sample()-1)*0.5,\n",
    "                ss_params={'gaussian_component': {'sigma': 0.0, 'fraction': 1.0}, 'n_dim': 2},\n",
    "                nn_params={'metric_learning_method': 'n_unique_inv', 'metric': 'precomputed', 'random_state': 5}\n",
    "            )\n",
    "            #X_train = X_train + np.random.random_sample(X_train.shape)\n",
    "\n",
    "            X_train, y_train = smote.sample(X_train, y_train)\n",
    "            \"\"\"X0 = X_train[y_train == 0]\n",
    "            X1 = X_train[y_train == 1]\n",
    "            X_train = np.vstack([X0, X1, X1])\n",
    "            y_train = np.hstack([np.repeat(0, X0.shape[0]), np.repeat(1, X1.shape[0]*2)])\"\"\"\n",
    "            sample_weight = np.hstack([np.repeat(1.0, X.shape[0]), np.repeat(0.5, X_train.shape[0] - X.shape[0])])\n",
    "            estimator.fit(X_train, y_train, sample_weight=sample_weight)\n",
    "            self.estimators.append(estimator)\n",
    "        return self\n",
    "\n",
    "    def predict_proba(self, X):\n",
    "        return np.mean([estimator.predict_proba(X) for estimator in self.estimators], axis=0)"
   ]
  },
  {
   "cell_type": "code",
   "execution_count": 13,
   "metadata": {},
   "outputs": [
    {
     "name": "stdout",
     "output_type": "stream",
     "text": [
      "306 283\n",
      "[[ 2. 38. 59.]\n",
      " [ 4. 39. 63.]\n",
      " [ 1. 49. 62.]]\n",
      "[31, 49, 12]\n",
      "[[ 0. 45. 66.]\n",
      " [ 1. 63. 60.]\n",
      " [ 8. 69. 67.]\n",
      " [ 5. 61. 62.]\n",
      " [ 4. 53. 58.]]\n",
      "[225  81]\n",
      "(2.8395061728395063, 0.09876543209876543)\n",
      "[772 848]\n"
     ]
    },
    {
     "name": "stdout",
     "output_type": "stream",
     "text": [
      "0.603921568627451 0.6261437908496732 0.5986928104575164 0.6366013071895424 0.6431372549019607\n",
      "0.7048499702911467 0.6802473262032085 0.7060606060606062 0.6983437314319668 0.6980912061794414\n",
      "0.7140153283535637 0.6938920012449424 0.7196992685963274 0.714513305322129 0.7132878151260504\n",
      "0.7095601412608056 0.6882827324478178 0.7127358739194604 0.7096787370862323 0.7104298439806029\n",
      "0.7152807667782561 0.6921907380838515 0.718140243902439 0.7166596923322175 0.7168121313566077\n",
      "0.7145577021658337 0.6937107522747661 0.7161163975394079 0.7154820261437908 0.7155180699730873\n",
      "0.7156635058394943 0.6917838583520841 0.7169358727097397 0.7166552823315118 0.7171568627450982\n",
      "0.7167403111479335 0.6933558869557213 0.7181556660222777 0.7167011875172605 0.7172713568995674\n",
      "0.7176147825385298 0.6952004155571694 0.7183490680222706 0.718486242233519 0.7190576333414024\n",
      "0.7159538174244058 0.6963720103425987 0.7170500251382607 0.7179047259929612 0.7188595309918838\n",
      "0.7169400763605773 0.6975158545266289 0.718616935222934 0.7197368633922214 0.7209190772018379\n",
      "0.7176750279691456 0.6972615998351293 0.7192898781134074 0.7188335394217749 0.7200505652711533\n",
      "0.7181578485388647 0.6974392994112245 0.7200254550856154 0.7189937476367958 0.7202823691460055\n",
      "0.7182694706381281 0.6967959512049094 0.7200749638277703 0.718701666417203 0.7203041585590979\n",
      "0.7178423260557178 0.6960790108005377 0.7195139758030873 0.7177704769851204 0.7193691188059147\n",
      "0.7194279422585812 0.6972403475739082 0.7211566138596719 0.7191076375362507 0.7207600203436783\n",
      "0.7183610400682012 0.6962301587301588 0.7205182072829132 0.7178206065034709 0.7194951893800999\n"
     ]
    },
    {
     "ename": "KeyboardInterrupt",
     "evalue": "",
     "output_type": "error",
     "traceback": [
      "\u001b[0;31m---------------------------------------------------------------------------\u001b[0m",
      "\u001b[0;31mKeyboardInterrupt\u001b[0m                         Traceback (most recent call last)",
      "Cell \u001b[0;32mIn[13], line 91\u001b[0m\n\u001b[1;32m     88\u001b[0m res0\u001b[38;5;241m.\u001b[39mappend(roc_auc_score(y_test, pred))\n\u001b[1;32m     90\u001b[0m classifier \u001b[38;5;241m=\u001b[39m RandomForestClassifierImproved(\u001b[38;5;241m*\u001b[39m\u001b[38;5;241m*\u001b[39m(rfs_params \u001b[38;5;241m|\u001b[39m {\u001b[38;5;124m'\u001b[39m\u001b[38;5;124mmin_samples_leaf\u001b[39m\u001b[38;5;124m'\u001b[39m: msl}), smote\u001b[38;5;241m=\u001b[39msmote3)\n\u001b[0;32m---> 91\u001b[0m \u001b[43mclassifier\u001b[49m\u001b[38;5;241;43m.\u001b[39;49m\u001b[43mfit\u001b[49m\u001b[43m(\u001b[49m\u001b[43mX_train\u001b[49m\u001b[43m,\u001b[49m\u001b[43m \u001b[49m\u001b[43my_train\u001b[49m\u001b[43m)\u001b[49m\n\u001b[1;32m     92\u001b[0m pred \u001b[38;5;241m=\u001b[39m classifier\u001b[38;5;241m.\u001b[39mpredict_proba(X_test)[:, \u001b[38;5;241m1\u001b[39m]\n\u001b[1;32m     93\u001b[0m res1\u001b[38;5;241m.\u001b[39mappend(roc_auc_score(y_test, pred))\n",
      "Cell \u001b[0;32mIn[12], line 36\u001b[0m, in \u001b[0;36mRandomForestClassifierImproved.fit\u001b[0;34m(self, X, y, sample_weight)\u001b[0m\n\u001b[1;32m     26\u001b[0m smote \u001b[38;5;241m=\u001b[39m SMOTE(\n\u001b[1;32m     27\u001b[0m     random_state\u001b[38;5;241m=\u001b[39m\u001b[38;5;241m5\u001b[39m,\n\u001b[1;32m     28\u001b[0m     n_neighbors\u001b[38;5;241m=\u001b[39m\u001b[38;5;241m1\u001b[39m,\n\u001b[0;32m   (...)\u001b[0m\n\u001b[1;32m     32\u001b[0m     nn_params\u001b[38;5;241m=\u001b[39m{\u001b[38;5;124m'\u001b[39m\u001b[38;5;124mmetric_learning_method\u001b[39m\u001b[38;5;124m'\u001b[39m: \u001b[38;5;124m'\u001b[39m\u001b[38;5;124mn_unique_inv\u001b[39m\u001b[38;5;124m'\u001b[39m, \u001b[38;5;124m'\u001b[39m\u001b[38;5;124mmetric\u001b[39m\u001b[38;5;124m'\u001b[39m: \u001b[38;5;124m'\u001b[39m\u001b[38;5;124mprecomputed\u001b[39m\u001b[38;5;124m'\u001b[39m, \u001b[38;5;124m'\u001b[39m\u001b[38;5;124mrandom_state\u001b[39m\u001b[38;5;124m'\u001b[39m: \u001b[38;5;241m5\u001b[39m}\n\u001b[1;32m     33\u001b[0m )\n\u001b[1;32m     34\u001b[0m \u001b[38;5;66;03m#X_train = X_train + np.random.random_sample(X_train.shape)\u001b[39;00m\n\u001b[0;32m---> 36\u001b[0m X_train, y_train \u001b[38;5;241m=\u001b[39m \u001b[43msmote\u001b[49m\u001b[38;5;241;43m.\u001b[39;49m\u001b[43msample\u001b[49m\u001b[43m(\u001b[49m\u001b[43mX_train\u001b[49m\u001b[43m,\u001b[49m\u001b[43m \u001b[49m\u001b[43my_train\u001b[49m\u001b[43m)\u001b[49m\n\u001b[1;32m     37\u001b[0m \u001b[38;5;250m\u001b[39m\u001b[38;5;124;03m\"\"\"X0 = X_train[y_train == 0]\u001b[39;00m\n\u001b[1;32m     38\u001b[0m \u001b[38;5;124;03mX1 = X_train[y_train == 1]\u001b[39;00m\n\u001b[1;32m     39\u001b[0m \u001b[38;5;124;03mX_train = np.vstack([X0, X1, X1])\u001b[39;00m\n\u001b[1;32m     40\u001b[0m \u001b[38;5;124;03my_train = np.hstack([np.repeat(0, X0.shape[0]), np.repeat(1, X1.shape[0]*2)])\"\"\"\u001b[39;00m\n\u001b[1;32m     41\u001b[0m sample_weight \u001b[38;5;241m=\u001b[39m np\u001b[38;5;241m.\u001b[39mhstack([np\u001b[38;5;241m.\u001b[39mrepeat(\u001b[38;5;241m1.0\u001b[39m, X\u001b[38;5;241m.\u001b[39mshape[\u001b[38;5;241m0\u001b[39m]), np\u001b[38;5;241m.\u001b[39mrepeat(\u001b[38;5;241m0.5\u001b[39m, X_train\u001b[38;5;241m.\u001b[39mshape[\u001b[38;5;241m0\u001b[39m] \u001b[38;5;241m-\u001b[39m X\u001b[38;5;241m.\u001b[39mshape[\u001b[38;5;241m0\u001b[39m])])\n",
      "File \u001b[0;32m~/workspaces/smote_variants/smote_variants/base/_oversampling.py:234\u001b[0m, in \u001b[0;36mOverSamplingBase.sample\u001b[0;34m(self, X, y)\u001b[0m\n\u001b[1;32m    230\u001b[0m             _logger\u001b[38;5;241m.\u001b[39minfo(\u001b[38;5;124m\"\u001b[39m\u001b[38;5;132;01m%s\u001b[39;00m\u001b[38;5;124m: not enough dimensions \u001b[39m\u001b[38;5;132;01m%d\u001b[39;00m\u001b[38;5;124m\"\u001b[39m,\n\u001b[1;32m    231\u001b[0m                         \u001b[38;5;28mself\u001b[39m\u001b[38;5;241m.\u001b[39m\u001b[38;5;18m__class__\u001b[39m\u001b[38;5;241m.\u001b[39m\u001b[38;5;18m__name__\u001b[39m, X\u001b[38;5;241m.\u001b[39mshape[\u001b[38;5;241m1\u001b[39m])\n\u001b[1;32m    232\u001b[0m             \u001b[38;5;28;01mreturn\u001b[39;00m X\u001b[38;5;241m.\u001b[39mcopy(), y\u001b[38;5;241m.\u001b[39mcopy()\n\u001b[0;32m--> 234\u001b[0m \u001b[38;5;28;01mreturn\u001b[39;00m \u001b[38;5;28;43mself\u001b[39;49m\u001b[38;5;241;43m.\u001b[39;49m\u001b[43msampling_algorithm\u001b[49m\u001b[43m(\u001b[49m\u001b[43mX\u001b[49m\u001b[43m,\u001b[49m\u001b[43m \u001b[49m\u001b[43my\u001b[49m\u001b[43m)\u001b[49m\n",
      "File \u001b[0;32m~/workspaces/smote_variants/smote_variants/oversampling/_smote.py:122\u001b[0m, in \u001b[0;36mSMOTE.sampling_algorithm\u001b[0;34m(self, X, y)\u001b[0m\n\u001b[1;32m    118\u001b[0m nn_mt\u001b[38;5;241m=\u001b[39m NearestNeighborsWithMetricTensor(n_neighbors\u001b[38;5;241m=\u001b[39mn_neighbors,\n\u001b[1;32m    119\u001b[0m                                         n_jobs\u001b[38;5;241m=\u001b[39m\u001b[38;5;28mself\u001b[39m\u001b[38;5;241m.\u001b[39mn_jobs,\n\u001b[1;32m    120\u001b[0m                                         \u001b[38;5;241m*\u001b[39m\u001b[38;5;241m*\u001b[39mnn_params)\n\u001b[1;32m    121\u001b[0m nn_mt\u001b[38;5;241m.\u001b[39mfit(X_min)\n\u001b[0;32m--> 122\u001b[0m _, ind_min \u001b[38;5;241m=\u001b[39m \u001b[43mnn_mt\u001b[49m\u001b[38;5;241;43m.\u001b[39;49m\u001b[43mkneighbors\u001b[49m\u001b[43m(\u001b[49m\u001b[43mX_min\u001b[49m\u001b[43m,\u001b[49m\u001b[43m \u001b[49m\u001b[43mreturn_distance\u001b[49m\u001b[38;5;241;43m=\u001b[39;49m\u001b[38;5;28;43;01mTrue\u001b[39;49;00m\u001b[43m)\u001b[49m\n\u001b[1;32m    124\u001b[0m samples \u001b[38;5;241m=\u001b[39m \u001b[38;5;28mself\u001b[39m\u001b[38;5;241m.\u001b[39msample_simplex(X\u001b[38;5;241m=\u001b[39mX_min,\n\u001b[1;32m    125\u001b[0m                                 indices\u001b[38;5;241m=\u001b[39mind_min,\n\u001b[1;32m    126\u001b[0m                                 n_to_sample\u001b[38;5;241m=\u001b[39mn_to_sample)\n\u001b[1;32m    128\u001b[0m \u001b[38;5;28;01mreturn\u001b[39;00m (np\u001b[38;5;241m.\u001b[39mvstack([X, samples]),\n\u001b[1;32m    129\u001b[0m         np\u001b[38;5;241m.\u001b[39mhstack([y, np\u001b[38;5;241m.\u001b[39mhstack([\u001b[38;5;28mself\u001b[39m\u001b[38;5;241m.\u001b[39mmin_label]\u001b[38;5;241m*\u001b[39mn_to_sample)]))\n",
      "File \u001b[0;32m~/workspaces/smote_variants/smote_variants/base/_metrictensor.py:769\u001b[0m, in \u001b[0;36mNearestNeighborsWithMetricTensor.kneighbors\u001b[0;34m(self, X, n_neighbors, return_distance)\u001b[0m\n\u001b[1;32m    766\u001b[0m     \u001b[38;5;28;01mreturn\u001b[39;00m \u001b[38;5;28mself\u001b[39m\u001b[38;5;241m.\u001b[39mnearestn\u001b[38;5;241m.\u001b[39mkneighbors(X, n_neighbors, return_distance)\n\u001b[1;32m    768\u001b[0m n_neighbors \u001b[38;5;241m=\u001b[39m coalesce(n_neighbors, \u001b[38;5;28mself\u001b[39m\u001b[38;5;241m.\u001b[39mn_neighbors)\n\u001b[0;32m--> 769\u001b[0m \u001b[38;5;28;01mreturn\u001b[39;00m \u001b[43mn_neighbors_func\u001b[49m\u001b[43m(\u001b[49m\u001b[43mX\u001b[49m\u001b[43m,\u001b[49m\u001b[43m \u001b[49m\u001b[38;5;28;43mself\u001b[39;49m\u001b[38;5;241;43m.\u001b[39;49m\u001b[43mX_fitted\u001b[49m\u001b[43m,\u001b[49m\n\u001b[1;32m    770\u001b[0m \u001b[43m                    \u001b[49m\u001b[43mmetric_tensor\u001b[49m\u001b[38;5;241;43m=\u001b[39;49m\u001b[38;5;28;43mself\u001b[39;49m\u001b[38;5;241;43m.\u001b[39;49m\u001b[43mmetric_tensor\u001b[49m\u001b[43m,\u001b[49m\n\u001b[1;32m    771\u001b[0m \u001b[43m                    \u001b[49m\u001b[43mn_neighbors\u001b[49m\u001b[38;5;241;43m=\u001b[39;49m\u001b[43mn_neighbors\u001b[49m\u001b[43m,\u001b[49m\n\u001b[1;32m    772\u001b[0m \u001b[43m                    \u001b[49m\u001b[43mreturn_distance\u001b[49m\u001b[38;5;241;43m=\u001b[39;49m\u001b[43mreturn_distance\u001b[49m\u001b[43m)\u001b[49m\n",
      "File \u001b[0;32m~/workspaces/smote_variants/smote_variants/base/_metrictensor.py:485\u001b[0m, in \u001b[0;36mn_neighbors_func\u001b[0;34m(X_base, X_neighbors, n_neighbors, metric_tensor, return_distance)\u001b[0m\n\u001b[1;32m    479\u001b[0m X_neighbors\u001b[38;5;241m=\u001b[39m X_neighbors \u001b[38;5;28;01mif\u001b[39;00m X_neighbors \u001b[38;5;129;01mis\u001b[39;00m \u001b[38;5;129;01mnot\u001b[39;00m \u001b[38;5;28;01mNone\u001b[39;00m \u001b[38;5;28;01melse\u001b[39;00m X_base\n\u001b[1;32m    481\u001b[0m distm \u001b[38;5;241m=\u001b[39m pairwise_distances_mahalanobis(X_base,\n\u001b[1;32m    482\u001b[0m                                         Y\u001b[38;5;241m=\u001b[39mX_neighbors,\n\u001b[1;32m    483\u001b[0m                                         tensor\u001b[38;5;241m=\u001b[39mmetric_tensor)\n\u001b[0;32m--> 485\u001b[0m results_ind\u001b[38;5;241m=\u001b[39m \u001b[43mnp\u001b[49m\u001b[38;5;241;43m.\u001b[39;49m\u001b[43mapply_along_axis\u001b[49m\u001b[43m(\u001b[49m\u001b[43mnp\u001b[49m\u001b[38;5;241;43m.\u001b[39;49m\u001b[43margsort\u001b[49m\u001b[43m,\u001b[49m\n\u001b[1;32m    486\u001b[0m \u001b[43m                                    \u001b[49m\u001b[43maxis\u001b[49m\u001b[38;5;241;43m=\u001b[39;49m\u001b[38;5;241;43m1\u001b[39;49m\u001b[43m,\u001b[49m\n\u001b[1;32m    487\u001b[0m \u001b[43m                                    \u001b[49m\u001b[43marr\u001b[49m\u001b[38;5;241;43m=\u001b[39;49m\u001b[43mdistm\u001b[49m\u001b[43m)\u001b[49m[:,:(n_neighbors)]\n\u001b[1;32m    489\u001b[0m \u001b[38;5;28;01mif\u001b[39;00m \u001b[38;5;129;01mnot\u001b[39;00m return_distance:\n\u001b[1;32m    490\u001b[0m     \u001b[38;5;28;01mreturn\u001b[39;00m results_ind\n",
      "File \u001b[0;32m~/anaconda3/envs/smote-variants/lib/python3.10/site-packages/numpy/lib/shape_base.py:402\u001b[0m, in \u001b[0;36mapply_along_axis\u001b[0;34m(func1d, axis, arr, *args, **kwargs)\u001b[0m\n\u001b[1;32m    400\u001b[0m buff[ind0] \u001b[38;5;241m=\u001b[39m res\n\u001b[1;32m    401\u001b[0m \u001b[38;5;28;01mfor\u001b[39;00m ind \u001b[38;5;129;01min\u001b[39;00m inds:\n\u001b[0;32m--> 402\u001b[0m     buff[ind] \u001b[38;5;241m=\u001b[39m asanyarray(func1d(inarr_view[ind], \u001b[38;5;241m*\u001b[39margs, \u001b[38;5;241m*\u001b[39m\u001b[38;5;241m*\u001b[39mkwargs))\n\u001b[1;32m    404\u001b[0m \u001b[38;5;28;01mif\u001b[39;00m \u001b[38;5;129;01mnot\u001b[39;00m \u001b[38;5;28misinstance\u001b[39m(res, matrix):\n\u001b[1;32m    405\u001b[0m     \u001b[38;5;66;03m# wrap the array, to preserve subclasses\u001b[39;00m\n\u001b[1;32m    406\u001b[0m     buff \u001b[38;5;241m=\u001b[39m res\u001b[38;5;241m.\u001b[39m__array_wrap__(buff)\n",
      "\u001b[0;31mKeyboardInterrupt\u001b[0m: "
     ]
    }
   ],
   "source": [
    "dataset = binclas.load_yeast_1_vs_7()\n",
    "dataset = binclas.load_saheart()\n",
    "dataset = binclas.load_haberman()\n",
    "X = dataset['data']\n",
    "y = dataset['target']\n",
    "\n",
    "print(len(X), len(np.unique(X, axis=0)))\n",
    "print(X[:3])\n",
    "print([len(np.unique(X[:, idx])) for idx in range(X.shape[1])])\n",
    "print(X[y == 1][:5])\n",
    "print(np.bincount(y))\n",
    "print(joint_neighborhood_ratios(X, y))\n",
    "print(comparison(X, y))\n",
    "\n",
    "validator = RepeatedStratifiedKFold(n_splits=5, n_repeats=100, random_state=5)\n",
    "\n",
    "res0 = []\n",
    "res1 = []\n",
    "res2 = []\n",
    "res3 = []\n",
    "res4 = []\n",
    "\n",
    "#X = X + np.random.random_sample(size=X.shape) * 0.001\n",
    "\n",
    "for idx, (train, test) in enumerate(validator.split(X, y, y)):\n",
    "\n",
    "    X_train = X[train]\n",
    "    X_test = X[test]\n",
    "    y_train = y[train]\n",
    "    y_test = y[test]\n",
    "\n",
    "\n",
    "\n",
    "    \"\"\"pca = PCA(n_components=X_train.shape[1]).fit(X_train)\n",
    "    X_train = pca.transform(X_train)\n",
    "    X_test = pca.transform(X_test)\"\"\"\n",
    "\n",
    "    ss = StandardScaler()\n",
    "    X_train = ss.fit_transform(X_train)\n",
    "    X_test = ss.transform(X_test)\n",
    "\n",
    "    X1_mean = np.mean(X_train[y_train == 1], axis=0)\n",
    "    dists = np.sum((X_train[y_train==1] - X1_mean)**2, axis=1)\n",
    "    mask = dists < np.sort(dists)[-5]\n",
    "    X0 = X_train[y_train == 0]\n",
    "    X1 = X_train[y_train == 1][mask]\n",
    "    X_train = np.vstack([X0, X1])\n",
    "    y_train = np.hstack([np.repeat(0, X0.shape[0]), np.repeat(1, X1.shape[0])])\n",
    "\n",
    "    smote0 = SMOTE(random_state=5)\n",
    "    smote1 = SMOTE(\n",
    "        random_state=5,\n",
    "        n_neighbors=5,\n",
    "        #proportion=2.0,\n",
    "        ss_params={'gaussian_component': {'sigma': 0.0, 'fraction': 1.0}, 'n_dim': 2},\n",
    "        #nn_params={'metric_learning_method': 'MI_weighted', 'metric': 'precomputed', 'random_state': 5}\n",
    "    )\n",
    "    smote2 = SMOTE(\n",
    "        random_state=5,\n",
    "        #n_neighbors=1,\n",
    "        #proportion=2.0,\n",
    "        ss_params={'gaussian_component': {'sigma': 0.01, 'fraction': 1.0}, 'n_dim': 2},\n",
    "        #nn_params={'metric_learning_method': 'id', 'metric': 'precomputed', 'random_state': 5}\n",
    "    )\n",
    "    smote3 = SMOTE(\n",
    "        random_state=5,\n",
    "        #n_neighbors=1,\n",
    "        #proportion=2.0,\n",
    "        ss_params={'gaussian_component': {'sigma': 0.0, 'fraction': 1.0}, 'n_dim': 2},\n",
    "        #nn_params={'metric_learning_method': 'n_unique_inv', 'metric': 'precomputed', 'random_state': 5}\n",
    "    )\n",
    "\n",
    "    X_samp0, y_samp0 = smote0.sample(X_train, y_train)\n",
    "    X_samp1, y_samp1 = smote1.sample(X_train, y_train)\n",
    "    X_samp2, y_samp2 = smote2.sample(X_train, y_train)\n",
    "    X_samp3, y_samp3 = smote3.sample(X_train, y_train)\n",
    "\n",
    "    sample_weight=np.hstack([np.repeat(1.0, X_train.shape[0]), np.repeat(0.5, X_samp1.shape[0] - X_train.shape[0])])\n",
    "\n",
    "    msl = 13\n",
    "\n",
    "    rf_params = {'min_samples_leaf': 13, 'random_state': 5, 'bootstrap': True, 'n_estimators': 1000}\n",
    "    rfs_params = {'min_samples_leaf': msl, 'random_state': 6, 'bootstrap': True, 'n_estimators': 1000}\n",
    "\n",
    "    classifier = OperatorRandomForestClassifier(**(rfs_params | {'bootstrap': True, 'min_weight_fraction_leaf': 2.0/len(X_samp0)}), mode='avg_half')\n",
    "    classifier.fit(X_samp0, y_samp0)\n",
    "    pred = classifier.predict_proba(X_test)[:, 1]\n",
    "    res0.append(roc_auc_score(y_test, pred))\n",
    "\n",
    "    classifier = RandomForestClassifierImproved(**(rfs_params | {'min_samples_leaf': msl}), smote=smote3)\n",
    "    classifier.fit(X_train, y_train)\n",
    "    pred = classifier.predict_proba(X_test)[:, 1]\n",
    "    res1.append(roc_auc_score(y_test, pred))\n",
    "\n",
    "    classifier = OperatorRandomForestClassifier(**rfs_params, mode='avg_half')\n",
    "    classifier.fit(X_samp2, y_samp2)\n",
    "    pred = classifier.predict_proba(X_test)[:, 1]\n",
    "    res2.append(roc_auc_score(y_test, pred))\n",
    "\n",
    "    \"\"\"classifier = RandomForestClassifier(**rfs_params)\n",
    "    classifier.fit(X_samp3, y_samp3, sample_weight=sample_weight)\n",
    "    pred = classifier.predict_proba(X_test)[:, 1]\n",
    "    res3.append(roc_auc_score(y_test, pred))\"\"\"\n",
    "\n",
    "\n",
    "    classifier = OperatorRandomForestClassifier(**rfs_params#, class_weight={0: 1.0, 1: np.sum(1 - y_train)/np.sum(y_train)}\n",
    "                                        ,mode='avg_half')\n",
    "    classifier.fit(X_train, y_train)\n",
    "    pred = classifier.predict_proba(X_test)[:, 1]\n",
    "    res3.append(roc_auc_score(y_test, pred))\n",
    "\n",
    "\n",
    "    classifier = OperatorRandomForestClassifier(**(rf_params | {'bootstrap': True}), mode='avg_half')\n",
    "    classifier.fit(X_train, y_train)\n",
    "    pred = classifier.predict_proba(X_test)[:, 1]\n",
    "    res4.append(roc_auc_score(y_test, pred))\n",
    "\n",
    "    if idx % 10 == 0:\n",
    "        print(np.mean(res0), np.mean(res1), np.mean(res2), np.mean(res3), np.mean(res4))\n",
    "    #break\n"
   ]
  },
  {
   "cell_type": "code",
   "execution_count": null,
   "metadata": {},
   "outputs": [
    {
     "data": {
      "text/plain": [
       "(0.9252715517241379,\n",
       " 0.9300951794510908,\n",
       " 0.9287995249824067,\n",
       " 0.9308575826882477,\n",
       " 0.9308951442646023)"
      ]
     },
     "execution_count": 5,
     "metadata": {},
     "output_type": "execute_result"
    }
   ],
   "source": [
    "np.mean(res0), np.mean(res1), np.mean(res2), np.mean(res3), np.mean(res4)"
   ]
  },
  {
   "cell_type": "code",
   "execution_count": null,
   "metadata": {},
   "outputs": [
    {
     "data": {
      "text/plain": [
       "(0.9285714285714286,\n",
       " 0.935960591133005,\n",
       " 0.9334975369458128,\n",
       " 0.93481703026038,\n",
       " 0.9359605911330049)"
      ]
     },
     "execution_count": 6,
     "metadata": {},
     "output_type": "execute_result"
    }
   ],
   "source": [
    "np.median(res0), np.median(res1), np.median(res2), np.median(res3), np.median(res4)"
   ]
  },
  {
   "cell_type": "code",
   "execution_count": null,
   "metadata": {},
   "outputs": [],
   "source": []
  }
 ],
 "metadata": {
  "kernelspec": {
   "display_name": "smote-variants",
   "language": "python",
   "name": "python3"
  },
  "language_info": {
   "codemirror_mode": {
    "name": "ipython",
    "version": 3
   },
   "file_extension": ".py",
   "mimetype": "text/x-python",
   "name": "python",
   "nbconvert_exporter": "python",
   "pygments_lexer": "ipython3",
   "version": "3.10.13"
  }
 },
 "nbformat": 4,
 "nbformat_minor": 2
}
