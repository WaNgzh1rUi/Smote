{
 "cells": [
  {
   "cell_type": "code",
   "execution_count": 95,
   "metadata": {},
   "outputs": [],
   "source": [
    "import numpy as np\n",
    "from scipy.special import expit\n",
    "from smote_variants import MetricTensor\n",
    "\n",
    "class FullRankTransformer:\n",
    "    \"\"\"\n",
    "    Transforms data into a lower dimensional full rank covariance \n",
    "    representation\n",
    "    \"\"\"\n",
    "    def __init__(self, eps=0.002):\n",
    "        \"\"\"\n",
    "        Constructor of the object.\n",
    "\n",
    "        Args:\n",
    "            eps (float): the tolerance\n",
    "        \"\"\"\n",
    "        self.eps = eps\n",
    "        self.mean = None\n",
    "        self.transformation = None\n",
    "        self.n_dim = None\n",
    "    \n",
    "    def fit(self, X):\n",
    "        \"\"\"\n",
    "        Fits the transformer to the data\n",
    "\n",
    "        Args:\n",
    "            X (np.array): all vectors to fit on\n",
    "        \n",
    "        Returns:\n",
    "            self: the fitted object\n",
    "        \"\"\"\n",
    "        cov = np.cov(X, rowvar=False)\n",
    "        eigw, eigv = np.linalg.eig(cov)\n",
    "    \n",
    "        eigv_f = eigv[:, eigw > self.eps]\n",
    "        eigw_f = eigw[eigw > self.eps]\n",
    "\n",
    "        self.mean = np.mean(X, axis=0)\n",
    "        self.transformation = eigv_f\n",
    "        self.n_dim = eigv_f.shape[1]\n",
    "\n",
    "        return self\n",
    "    \n",
    "    def transform(self, X):\n",
    "        \"\"\"\n",
    "        Transforms the data \n",
    "\n",
    "        Args:\n",
    "            X (np.array): the data to transform\n",
    "        \n",
    "        Returns:\n",
    "            np.array: the transformed data\n",
    "        \"\"\"\n",
    "        return np.dot(X - self.mean, self.transformation)\n",
    "    \n",
    "    def inverse_transform(self, X):\n",
    "        \"\"\"\n",
    "        Inverse transformation\n",
    "\n",
    "        Args:\n",
    "            X (np.array): the data to inverse transform\n",
    "        \n",
    "        Returns:\n",
    "            np.array: the inverse transformed data\n",
    "        \"\"\"\n",
    "        return np.dot(X, self.transformation.T) + self.mean\n",
    "\n",
    "    def fit_transform(self, X):\n",
    "        \"\"\"\n",
    "        Fits and transforms the data.\n",
    "\n",
    "        Args:\n",
    "            X (np.array): the data to fit and transform\n",
    "        \n",
    "        Returns:\n",
    "            np.array: the transformed data\n",
    "        \"\"\"\n",
    "        return self.fit(X).transform(X)\n"
   ]
  },
  {
   "cell_type": "code",
   "execution_count": null,
   "metadata": {},
   "outputs": [],
   "source": [
    "class PDFOSKDE:\n",
    "    def __init__(self, metric_learning=None, random_state=None):\n",
    "        \"\"\"\n",
    "        Constructor of the PDFOS KDE estimation\n",
    "\n",
    "        Args:\n",
    "            metric_learning (str/None): metric learning method\n",
    "            random_state (int/None/np.random.RandomState): random state\n",
    "                                                            initializer\n",
    "        \"\"\"\n",
    "        self.random_state=random_state\n",
    "        self.transformer = FullRankTransformer(eps=0.02)\n",
    "        self.metric_learning = metric_learning\n",
    "        self.S = None\n",
    "        self.X_base = None\n",
    "    \n",
    "    def eq_5_0(self,\n",
    "                sigma,\n",
    "                m # pylint: disable=invalid-name\n",
    "                ):\n",
    "        \"\"\"\n",
    "        Eq (5) in the paper\n",
    "\n",
    "        Args:\n",
    "            sigma (float): the sigma value\n",
    "            m (int): the dimensionality\n",
    "\n",
    "        Returns:\n",
    "            float: the value of the equation\n",
    "        \"\"\"\n",
    "        return sigma**(-m)/((2.0*np.pi)**(m/2))\n",
    "\n",
    "    def eq_8_vectorized(self,\n",
    "                        X,\n",
    "                        sigma,\n",
    "                        S_inv # pylint: disable=invalid-name\n",
    "                        ):\n",
    "        \"\"\"\n",
    "        Eq (8) in the paper\n",
    "\n",
    "        Args:\n",
    "            X (np.array): all training vectors\n",
    "            sigma (float): the sigma value\n",
    "            S_inv (np.array): the inverse covariance matrix\n",
    "\n",
    "        Returns:\n",
    "            np.array: the result of the equation for all pairs of vectors\n",
    "        \"\"\"\n",
    "        m = X.shape[1] # pylint: disable=invalid-name\n",
    "\n",
    "        tmp= (X[:,None] - X)\n",
    "        tmp = np.einsum('ijk,kl,lji -> ij', tmp, S_inv, tmp.T)\n",
    "\n",
    "        numerator_9 = (np.sqrt(2)*sigma)**(-m)*expit(-(1/(4*sigma**2))*tmp)\n",
    "        numerator_5 = sigma**(-m)*expit(-(1/(2*sigma**2))*tmp)\n",
    "        denominator = ((2*np.pi)**(m/2))\n",
    "        eq_9 = numerator_9 / denominator\n",
    "        eq_5 = numerator_5 / denominator\n",
    "\n",
    "        return eq_9 - 2 * eq_5\n",
    "\n",
    "    def M(self, # pylint: disable=invalid-name\n",
    "            sigma,\n",
    "            X,\n",
    "            S_inv # pylint: disable=invalid-name\n",
    "            ):\n",
    "        \"\"\"\n",
    "        Eq (7) in the paper\n",
    "\n",
    "        Args:\n",
    "            X (np.array): all training vectors\n",
    "            sigma (float): the sigma value\n",
    "            S_inv (np.array): the inverse covariance matrix\n",
    "\n",
    "        Returns:\n",
    "            float: the value of the equation\n",
    "        \"\"\"\n",
    "        m = X.shape[1] # pylint: disable=invalid-name\n",
    "        total = np.sum(self.eq_8_vectorized(X, sigma, S_inv))\n",
    "\n",
    "        term_a = total/len(X)**2\n",
    "        term_b = 2.0 * self.eq_5_0(sigma, m)/len(X)\n",
    "        return term_a + term_b\n",
    "\n",
    "    def find_best_sigma(self,\n",
    "                        X,\n",
    "                        n_optimize,\n",
    "                        S_inv # pylint: disable=invalid-name\n",
    "                        ):\n",
    "        \"\"\"\n",
    "        Find the best sigma parameter.\n",
    "\n",
    "        Args:\n",
    "            X (np.array): all training vectors\n",
    "            n_optimize (int): the number of vectors used for\n",
    "                                the estimation\n",
    "            S_inv (np.array): the inverse covariance matrix\n",
    "\n",
    "        Returns:\n",
    "            float: the best sigma value\n",
    "        \"\"\"\n",
    "        # finding the best sigma parameter\n",
    "        best_sigma = 0\n",
    "        error = np.inf\n",
    "        # the dataset is reduced to make the optimization more efficient\n",
    "        domain = range(len(X))\n",
    "        n_to_choose = min([len(X), n_optimize])\n",
    "        X_reduced = X[self.random_state.choice(domain, # pylint: disable=invalid-name\n",
    "                                               n_to_choose,\n",
    "                                               replace=False)]\n",
    "\n",
    "        # we suppose that the data is normalized, thus, this search space\n",
    "        # should be meaningful\n",
    "        for sigma in np.logspace(-5, 2, num=20):\n",
    "            err = self.M(sigma, X_reduced, S_inv)\n",
    "            if err < error:\n",
    "                error = err\n",
    "                best_sigma = sigma\n",
    "        #_logger.info(\"%s: best sigma found %f\",\n",
    "        #                self.__class__.__name__, best_sigma)\n",
    "\n",
    "        return best_sigma\n",
    "\n",
    "    def fit(self, X, n_optimize=100, X_ml=None, y_ml=None):\n",
    "        \"\"\"\n",
    "        Fitting the kernel density estimator\n",
    "\n",
    "        Args:\n",
    "            X (np.array): the training vectors\n",
    "            n_optimize (int): the number of random samples used\n",
    "                                for optimization\n",
    "            X_ml (np.array/None): potential training vectors for\n",
    "                                    metric learning\n",
    "            y_ml (np.array/None): potential target labels for metric\n",
    "                                    learning\n",
    "        \n",
    "        Returns:\n",
    "            obj: the fitted object\n",
    "        \"\"\"\n",
    "        self.transformer.fit(X)\n",
    "        X_trans = self.transformer.transform(X)\n",
    "        S = np.cov(X_trans, rowvar=False)\n",
    "\n",
    "        if self.metric_learning is None:\n",
    "            S_inv = np.linalg.inv(S) # pylint: disable=invalid-name\n",
    "            det = np.linalg.det(S)\n",
    "        else:\n",
    "            metrict = MetricTensor(metric_learning_method=self.metric_learning)\n",
    "            S_inv = metrict.tensor(self.transformer.transform(X_ml), y_ml) # pylint: disable=invalid-name\n",
    "        \n",
    "        best_sigma = self.find_best_sigma(X_trans, n_optimize, S_inv)\n",
    "\n",
    "        self.S = best_sigma * S_inv\n",
    "        self.X_base = X_trans\n",
    "\n",
    "        return self\n",
    "    \n",
    "    def sample(self, n_to_sample):\n",
    "        \"\"\"\n",
    "        Draw a random sample from the fitted KDE\n",
    "\n",
    "        Args:\n",
    "            n_to_sample (int): the number of samples to generate\n",
    "        \n",
    "        Returns:\n",
    "            np.array: the generated samples\n",
    "        \"\"\"\n",
    "        base_indices = np.random.choice(self.X_base.shape[0], n_to_sample)\n",
    "        unique_indices, unique_counts = np.unique(base_indices, return_counts=True)\n",
    "        samples = []\n",
    "        for idx, base_idx in enumerate(unique_indices):\n",
    "            samples.append(np.random.multivariate_normal(self.X_base[base_idx],\n",
    "                                                        self.S,\n",
    "                                                        size=unique_counts[idx]))\n",
    "        samples = np.vstack(samples)\n",
    "        return self.transformer.inverse_transform(samples)\n",
    "        \n",
    "\n"
   ]
  },
  {
   "cell_type": "code",
   "execution_count": 39,
   "metadata": {},
   "outputs": [],
   "source": [
    "eps = 0.05"
   ]
  },
  {
   "cell_type": "code",
   "execution_count": 22,
   "metadata": {},
   "outputs": [],
   "source": [
    "X = np.random.rand(10, 3)"
   ]
  },
  {
   "cell_type": "code",
   "execution_count": 74,
   "metadata": {},
   "outputs": [
    {
     "data": {
      "text/plain": [
       "array([[0.95515574, 0.45555325, 0.0591839 ],\n",
       "       [0.49187314, 0.34902139, 0.7120596 ],\n",
       "       [0.86788513, 0.36493768, 0.60733686],\n",
       "       [0.8891843 , 0.66633005, 0.81471584],\n",
       "       [0.83802862, 0.96883697, 0.85722615],\n",
       "       [0.21420896, 0.71690079, 0.72196591],\n",
       "       [0.62102805, 0.19158329, 0.0365729 ],\n",
       "       [0.10456387, 0.90478402, 0.65708623],\n",
       "       [0.29692751, 0.94980647, 0.17770021],\n",
       "       [0.99378133, 0.25524394, 0.60822624]])"
      ]
     },
     "execution_count": 74,
     "metadata": {},
     "output_type": "execute_result"
    }
   ],
   "source": [
    "\n",
    "X"
   ]
  },
  {
   "cell_type": "code",
   "execution_count": 103,
   "metadata": {},
   "outputs": [],
   "source": [
    "frt = FullRankTransformer(eps = 0.1)"
   ]
  },
  {
   "cell_type": "code",
   "execution_count": 97,
   "metadata": {},
   "outputs": [
    {
     "data": {
      "text/plain": [
       "<__main__.FullRankTransformer at 0x7fd4209abf70>"
      ]
     },
     "execution_count": 97,
     "metadata": {},
     "output_type": "execute_result"
    }
   ],
   "source": [
    "frt.fit(X)"
   ]
  },
  {
   "cell_type": "code",
   "execution_count": 104,
   "metadata": {},
   "outputs": [],
   "source": [
    "X_trans = frt.fit_transform(X)"
   ]
  },
  {
   "cell_type": "code",
   "execution_count": 105,
   "metadata": {},
   "outputs": [
    {
     "data": {
      "text/plain": [
       "array([[ 0.46614617],\n",
       "       [-0.00805462],\n",
       "       [ 0.27668192],\n",
       "       [ 0.02792672],\n",
       "       [-0.21516258],\n",
       "       [-0.43788782],\n",
       "       [ 0.41228367],\n",
       "       [-0.61135748],\n",
       "       [-0.34381764],\n",
       "       [ 0.43324165]])"
      ]
     },
     "execution_count": 105,
     "metadata": {},
     "output_type": "execute_result"
    }
   ],
   "source": [
    "X_trans"
   ]
  },
  {
   "cell_type": "code",
   "execution_count": 109,
   "metadata": {},
   "outputs": [
    {
     "data": {
      "text/plain": [
       "array([[ 0.07295326, -0.06764608, -0.03615592],\n",
       "       [-0.06764608,  0.06272497,  0.03352566],\n",
       "       [-0.03615592,  0.03352566,  0.01791902]])"
      ]
     },
     "execution_count": 109,
     "metadata": {},
     "output_type": "execute_result"
    }
   ],
   "source": [
    "np.cov(frt.inverse_transform(X_trans), rowvar=False)"
   ]
  },
  {
   "cell_type": "code",
   "execution_count": 110,
   "metadata": {},
   "outputs": [
    {
     "data": {
      "text/plain": [
       "array([[ 0.10934357, -0.04686621, -0.00160792],\n",
       "       [-0.04686621,  0.08788905,  0.0283732 ],\n",
       "       [-0.00160792,  0.0283732 ,  0.09726794]])"
      ]
     },
     "execution_count": 110,
     "metadata": {},
     "output_type": "execute_result"
    }
   ],
   "source": [
    "np.cov(X, rowvar=False)"
   ]
  },
  {
   "cell_type": "code",
   "execution_count": 107,
   "metadata": {},
   "outputs": [
    {
     "data": {
      "text/plain": [
       "array(0.15359725)"
      ]
     },
     "execution_count": 107,
     "metadata": {},
     "output_type": "execute_result"
    }
   ],
   "source": [
    "np.cov(X_trans, rowvar=False)"
   ]
  },
  {
   "cell_type": "code",
   "execution_count": null,
   "metadata": {},
   "outputs": [],
   "source": []
  },
  {
   "cell_type": "code",
   "execution_count": 32,
   "metadata": {},
   "outputs": [],
   "source": [
    "cov = np.cov(X, rowvar=False)"
   ]
  },
  {
   "cell_type": "code",
   "execution_count": 33,
   "metadata": {},
   "outputs": [
    {
     "data": {
      "text/plain": [
       "array([[ 0.10934357, -0.04686621, -0.00160792],\n",
       "       [-0.04686621,  0.08788905,  0.0283732 ],\n",
       "       [-0.00160792,  0.0283732 ,  0.09726794]])"
      ]
     },
     "execution_count": 33,
     "metadata": {},
     "output_type": "execute_result"
    }
   ],
   "source": [
    "cov"
   ]
  },
  {
   "cell_type": "code",
   "execution_count": 34,
   "metadata": {},
   "outputs": [],
   "source": [
    "eigw, eigv = np.linalg.eig(cov)"
   ]
  },
  {
   "cell_type": "code",
   "execution_count": 35,
   "metadata": {},
   "outputs": [],
   "source": [
    "eigw = np.real(eigw)"
   ]
  },
  {
   "cell_type": "code",
   "execution_count": 36,
   "metadata": {},
   "outputs": [],
   "source": [
    "eigv = np.real(eigv)"
   ]
  },
  {
   "cell_type": "code",
   "execution_count": 38,
   "metadata": {},
   "outputs": [
    {
     "data": {
      "text/plain": [
       "array([0.04189734, 0.15359725, 0.09900596])"
      ]
     },
     "execution_count": 38,
     "metadata": {},
     "output_type": "execute_result"
    }
   ],
   "source": [
    "eigw"
   ]
  },
  {
   "cell_type": "code",
   "execution_count": 52,
   "metadata": {},
   "outputs": [],
   "source": [
    "transformation = eigv.T[eigw > eps]"
   ]
  },
  {
   "cell_type": "code",
   "execution_count": 57,
   "metadata": {},
   "outputs": [
    {
     "data": {
      "text/plain": [
       "array([[ 0.52250532,  0.68917678,  0.50201948],\n",
       "       [ 0.7648756 , -0.6390407 ,  0.08119295],\n",
       "       [-0.37676717, -0.34155871,  0.86103667]])"
      ]
     },
     "execution_count": 57,
     "metadata": {},
     "output_type": "execute_result"
    }
   ],
   "source": [
    "eigv"
   ]
  },
  {
   "cell_type": "code",
   "execution_count": 53,
   "metadata": {},
   "outputs": [
    {
     "data": {
      "text/plain": [
       "array([[ 0.68917678, -0.6390407 , -0.34155871],\n",
       "       [ 0.50201948,  0.08119295,  0.86103667]])"
      ]
     },
     "execution_count": 53,
     "metadata": {},
     "output_type": "execute_result"
    }
   ],
   "source": [
    "transformation"
   ]
  },
  {
   "cell_type": "code",
   "execution_count": 54,
   "metadata": {},
   "outputs": [
    {
     "data": {
      "text/plain": [
       "array([[ 0.10934357, -0.04686621, -0.00160792],\n",
       "       [-0.04686621,  0.08788905,  0.0283732 ],\n",
       "       [-0.00160792,  0.0283732 ,  0.09726794]])"
      ]
     },
     "execution_count": 54,
     "metadata": {},
     "output_type": "execute_result"
    }
   ],
   "source": [
    "np.dot(np.dot(eigv, np.diag(eigw)), eigv.T)"
   ]
  },
  {
   "cell_type": "code",
   "execution_count": 62,
   "metadata": {},
   "outputs": [],
   "source": [
    "eigv_f = eigv[:, eigw > eps]\n",
    "eigw_f = eigw[eigw > eps]"
   ]
  },
  {
   "cell_type": "code",
   "execution_count": 63,
   "metadata": {},
   "outputs": [
    {
     "data": {
      "text/plain": [
       "array([[ 0.0979051 , -0.06361055,  0.00664012],\n",
       "       [-0.06361055,  0.06337765,  0.04044718],\n",
       "       [ 0.00664012,  0.04044718,  0.09132047]])"
      ]
     },
     "execution_count": 63,
     "metadata": {},
     "output_type": "execute_result"
    }
   ],
   "source": [
    "np.dot(np.dot(eigv_f, np.diag(eigw_f)), eigv_f.T)"
   ]
  },
  {
   "cell_type": "code",
   "execution_count": 84,
   "metadata": {},
   "outputs": [],
   "source": [
    "X_trans = np.dot(X - np.mean(X, axis=0), eigv_f)"
   ]
  },
  {
   "cell_type": "code",
   "execution_count": 85,
   "metadata": {},
   "outputs": [
    {
     "data": {
      "text/plain": [
       "array([[ 0.46614617, -0.24694603],\n",
       "       [-0.00805462,  0.07397737],\n",
       "       [ 0.27668192,  0.17386488],\n",
       "       [ 0.02792672,  0.38758932],\n",
       "       [-0.21516258,  0.42307254],\n",
       "       [-0.43788782, -0.02701655],\n",
       "       [ 0.41228367, -0.45558603],\n",
       "       [-0.61135748, -0.12266951],\n",
       "       [-0.34381764, -0.43521266],\n",
       "       [ 0.43324165,  0.22892666]])"
      ]
     },
     "execution_count": 85,
     "metadata": {},
     "output_type": "execute_result"
    }
   ],
   "source": [
    "X_trans"
   ]
  },
  {
   "cell_type": "code",
   "execution_count": 86,
   "metadata": {},
   "outputs": [
    {
     "data": {
      "text/plain": [
       "array([[1.53597254e-01, 6.81601423e-18],\n",
       "       [6.81601423e-18, 9.90059616e-02]])"
      ]
     },
     "execution_count": 86,
     "metadata": {},
     "output_type": "execute_result"
    }
   ],
   "source": [
    "np.cov(X_trans, rowvar=False)"
   ]
  },
  {
   "cell_type": "code",
   "execution_count": 89,
   "metadata": {},
   "outputs": [
    {
     "data": {
      "text/plain": [
       "array([[ 0.82454907,  0.26436313,  0.15336152],\n",
       "       [ 0.65885069,  0.59345345,  0.59165573],\n",
       "       [ 0.90522998,  0.41960538,  0.58040831],\n",
       "       [ 0.8410875 ,  0.59592299,  0.84939739],\n",
       "       [ 0.69136927,  0.75414794,  0.96297901],\n",
       "       [ 0.31191871,  0.85993437,  0.65150954],\n",
       "       [ 0.68268693,  0.28184337, -0.00788797],\n",
       "       [ 0.1443478 ,  0.9630222 ,  0.62839891],\n",
       "       [ 0.1718273 ,  0.76667705,  0.26790723],\n",
       "       [ 1.04076939,  0.32402797,  0.57434418]])"
      ]
     },
     "execution_count": 89,
     "metadata": {},
     "output_type": "execute_result"
    }
   ],
   "source": [
    "np.dot(X_trans, eigv_f.T) + np.mean(X, axis=0)"
   ]
  },
  {
   "cell_type": "code",
   "execution_count": 76,
   "metadata": {},
   "outputs": [
    {
     "data": {
      "text/plain": [
       "array([[ 1.00000000e+00, -6.24504298e-17],\n",
       "       [-6.24504298e-17,  1.00000000e+00]])"
      ]
     },
     "execution_count": 76,
     "metadata": {},
     "output_type": "execute_result"
    }
   ],
   "source": [
    "np.dot(eigv_f.T, eigv_f)"
   ]
  },
  {
   "cell_type": "code",
   "execution_count": null,
   "metadata": {},
   "outputs": [],
   "source": []
  }
 ],
 "metadata": {
  "kernelspec": {
   "display_name": "Python 3.10.4 ('smote_variants')",
   "language": "python",
   "name": "python3"
  },
  "language_info": {
   "codemirror_mode": {
    "name": "ipython",
    "version": 3
   },
   "file_extension": ".py",
   "mimetype": "text/x-python",
   "name": "python",
   "nbconvert_exporter": "python",
   "pygments_lexer": "ipython3",
   "version": "3.10.4"
  },
  "orig_nbformat": 4,
  "vscode": {
   "interpreter": {
    "hash": "04ee80b1cee16018cf8dd56bf8f0a10a10cf53a2e8478a33e897f29ae53ad00d"
   }
  }
 },
 "nbformat": 4,
 "nbformat_minor": 2
}
