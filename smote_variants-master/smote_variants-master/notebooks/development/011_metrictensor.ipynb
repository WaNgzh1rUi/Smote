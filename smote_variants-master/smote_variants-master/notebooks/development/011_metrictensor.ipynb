{
 "cells": [
  {
   "cell_type": "code",
   "execution_count": 1,
   "metadata": {},
   "outputs": [],
   "source": [
    "import numpy as np\n",
    "\n",
    "from smote_variants import (construct_tensor, ClassifierImpliedDissimilarityMatrix,\n",
    "                            estimate_mutual_information, NearestNeighborsWithMetricTensor,\n",
    "                            n_neighbors_func)\n",
    "from sklearn.linear_model import LinearRegression"
   ]
  },
  {
   "cell_type": "code",
   "execution_count": 2,
   "metadata": {},
   "outputs": [],
   "source": [
    "X = np.array([[1.0, 0.0], [0.0, 1.0], [1.0, 1.0]])\n",
    "dissim_matrix = np.array([[0.0, np.sqrt(2.0), 1.0],\n",
    "                            [np.sqrt(2.0), 0.0, 1.0],\n",
    "                            [1.0, 1.0, 0.0]])"
   ]
  },
  {
   "cell_type": "code",
   "execution_count": 3,
   "metadata": {},
   "outputs": [
    {
     "data": {
      "text/plain": [
       "(array([[1., 0.],\n",
       "        [0., 1.]]),\n",
       " 1.0)"
      ]
     },
     "execution_count": 3,
     "metadata": {},
     "output_type": "execute_result"
    }
   ],
   "source": [
    "construct_tensor(X, dissim_matrix)"
   ]
  },
  {
   "cell_type": "code",
   "execution_count": 4,
   "metadata": {},
   "outputs": [],
   "source": [
    "# pre-calculating some triangle indices\n",
    "X_tu_indices= np.triu_indices(X.shape[0], k=0)\n",
    "d_tu_indices_0= np.triu_indices(X.shape[1], k=0)\n",
    "d_tu_indices_1= np.triu_indices(X.shape[1], k=1)\n",
    "\n",
    "n_upper, n_d= len(X_tu_indices[0]), len(d_tu_indices_0[0])"
   ]
  },
  {
   "cell_type": "code",
   "execution_count": 5,
   "metadata": {},
   "outputs": [],
   "source": [
    "cross_diff_all= (X[:,None] - X)[X_tu_indices]\n"
   ]
  },
  {
   "cell_type": "code",
   "execution_count": 6,
   "metadata": {},
   "outputs": [],
   "source": [
    "y_target= dissim_matrix[(X_tu_indices[0], X_tu_indices[1])]**2"
   ]
  },
  {
   "cell_type": "code",
   "execution_count": 7,
   "metadata": {},
   "outputs": [
    {
     "data": {
      "text/plain": [
       "array([0., 2., 1., 0., 1., 0.])"
      ]
     },
     "execution_count": 7,
     "metadata": {},
     "output_type": "execute_result"
    }
   ],
   "source": [
    "y_target"
   ]
  },
  {
   "cell_type": "code",
   "execution_count": 8,
   "metadata": {},
   "outputs": [
    {
     "data": {
      "text/plain": [
       "array([[ 0.,  0.],\n",
       "       [ 1., -1.],\n",
       "       [ 0., -1.],\n",
       "       [ 0.,  0.],\n",
       "       [-1.,  0.],\n",
       "       [ 0.,  0.]])"
      ]
     },
     "execution_count": 8,
     "metadata": {},
     "output_type": "execute_result"
    }
   ],
   "source": [
    "cross_diff_all"
   ]
  },
  {
   "cell_type": "code",
   "execution_count": 9,
   "metadata": {},
   "outputs": [],
   "source": [
    "cross_diff_cross_products= np.einsum('...i,...j->...ij',\n",
    "                                        cross_diff_all,\n",
    "                                        cross_diff_all)"
   ]
  },
  {
   "cell_type": "code",
   "execution_count": 10,
   "metadata": {},
   "outputs": [
    {
     "data": {
      "text/plain": [
       "array([[[ 0.,  0.],\n",
       "        [ 0.,  0.]],\n",
       "\n",
       "       [[ 1., -1.],\n",
       "        [-1.,  1.]],\n",
       "\n",
       "       [[ 0.,  0.],\n",
       "        [ 0.,  1.]],\n",
       "\n",
       "       [[ 0.,  0.],\n",
       "        [ 0.,  0.]],\n",
       "\n",
       "       [[ 1.,  0.],\n",
       "        [ 0.,  0.]],\n",
       "\n",
       "       [[ 0.,  0.],\n",
       "        [ 0.,  0.]]])"
      ]
     },
     "execution_count": 10,
     "metadata": {},
     "output_type": "execute_result"
    }
   ],
   "source": [
    "cross_diff_cross_products"
   ]
  },
  {
   "cell_type": "code",
   "execution_count": 11,
   "metadata": {},
   "outputs": [],
   "source": [
    "cross_diff_cross_products[:, d_tu_indices_1[0], d_tu_indices_1[1]]*= 2"
   ]
  },
  {
   "cell_type": "code",
   "execution_count": 12,
   "metadata": {},
   "outputs": [
    {
     "data": {
      "text/plain": [
       "array([[[ 0.,  0.],\n",
       "        [ 0.,  0.]],\n",
       "\n",
       "       [[ 1., -2.],\n",
       "        [-1.,  1.]],\n",
       "\n",
       "       [[ 0.,  0.],\n",
       "        [ 0.,  1.]],\n",
       "\n",
       "       [[ 0.,  0.],\n",
       "        [ 0.,  0.]],\n",
       "\n",
       "       [[ 1.,  0.],\n",
       "        [ 0.,  0.]],\n",
       "\n",
       "       [[ 0.,  0.],\n",
       "        [ 0.,  0.]]])"
      ]
     },
     "execution_count": 12,
     "metadata": {},
     "output_type": "execute_result"
    }
   ],
   "source": [
    "cross_diff_cross_products"
   ]
  },
  {
   "cell_type": "code",
   "execution_count": 13,
   "metadata": {},
   "outputs": [],
   "source": [
    "X_target= cross_diff_cross_products[:, d_tu_indices_0[0], d_tu_indices_0[1]]"
   ]
  },
  {
   "cell_type": "code",
   "execution_count": 14,
   "metadata": {},
   "outputs": [],
   "source": [
    "#X_target[1, 1] = 2"
   ]
  },
  {
   "cell_type": "code",
   "execution_count": 15,
   "metadata": {},
   "outputs": [
    {
     "data": {
      "text/plain": [
       "array([[ 0.,  0.,  0.],\n",
       "       [ 1., -2.,  1.],\n",
       "       [ 0.,  0.,  1.],\n",
       "       [ 0.,  0.,  0.],\n",
       "       [ 1.,  0.,  0.],\n",
       "       [ 0.,  0.,  0.]])"
      ]
     },
     "execution_count": 15,
     "metadata": {},
     "output_type": "execute_result"
    }
   ],
   "source": [
    "X_target"
   ]
  },
  {
   "cell_type": "code",
   "execution_count": 16,
   "metadata": {},
   "outputs": [],
   "source": [
    "linearr= LinearRegression(fit_intercept=False).fit(X_target, y_target)"
   ]
  },
  {
   "cell_type": "code",
   "execution_count": 17,
   "metadata": {},
   "outputs": [
    {
     "data": {
      "text/plain": [
       "array([ 1.00000000e+00, -1.11022302e-16,  1.00000000e+00])"
      ]
     },
     "execution_count": 17,
     "metadata": {},
     "output_type": "execute_result"
    }
   ],
   "source": [
    "linearr.coef_"
   ]
  },
  {
   "cell_type": "code",
   "execution_count": 18,
   "metadata": {},
   "outputs": [
    {
     "name": "stderr",
     "output_type": "stream",
     "text": [
      "2022-07-24 14:48:59,458:INFO:ClassifierImpliedDissimilarityMatrix: fitting\n"
     ]
    }
   ],
   "source": [
    "cidm = ClassifierImpliedDissimilarityMatrix(classifier=('sklearn.ensemble',\n",
    "                                                        'RandomForestClassifier'),\n",
    "                                            classifier_params = {'n_estimators': 100,\n",
    "                                                                'min_samples_leaf': 2,\n",
    "                                                                'random_state': 5})\n",
    "X = np.array([[1.0, 0.0], [0.0, 1.0], [1.0, 1.0],\n",
    "                [1.0, 0.0], [0.0, 1.0], [1.0, 1.0]])\n",
    "y = np.array([0, 0, 1, 0, 0, 1])\n",
    "cidm.fit(X, y)\n",
    "\n",
    "dissim = cidm.dissimilarity_matrix(X[:3])"
   ]
  },
  {
   "cell_type": "code",
   "execution_count": 19,
   "metadata": {},
   "outputs": [],
   "source": [
    "X = np.array([[1.0, 0.0], [0.0, 1.0], [1.0, 1.0], [2.0, 2.0]])\n",
    "y = np.array([0, 0, 1, 1])"
   ]
  },
  {
   "cell_type": "code",
   "execution_count": 20,
   "metadata": {},
   "outputs": [],
   "source": [
    "from sklearn.neighbors import NearestNeighbors"
   ]
  },
  {
   "cell_type": "code",
   "execution_count": 21,
   "metadata": {},
   "outputs": [
    {
     "data": {
      "text/plain": [
       "array([], dtype=int64)"
      ]
     },
     "execution_count": 21,
     "metadata": {},
     "output_type": "execute_result"
    }
   ],
   "source": [
    "np.repeat(0, 0)"
   ]
  },
  {
   "cell_type": "code",
   "execution_count": 22,
   "metadata": {},
   "outputs": [],
   "source": [
    "X_min= X[y == 1]\n",
    "X_maj= X[y == 0]\n",
    "\n",
    "nearestn= NearestNeighbors(n_neighbors=2).fit(X)\n",
    "_, ind_min= nearestn.kneighbors(X_min)\n",
    "_, ind_maj= nearestn.kneighbors(X_maj)\n",
    "\n",
    "label_min= np.all((y[ind_min] == 1), axis=1)\n",
    "label_maj= np.all((y[ind_maj] == 0), axis=1)\n",
    "\n",
    "X_final = np.vstack([X_maj[~label_maj], X_min[~label_min]])\n",
    "y_final = np.hstack([np.repeat(0, int(np.sum(label_maj))),\n",
    "                        np.repeat(1, int(np.sum(label_min)))])"
   ]
  },
  {
   "cell_type": "code",
   "execution_count": 23,
   "metadata": {},
   "outputs": [],
   "source": [
    "X = np.array([[0.0, 1.0], [1.0, 2.0], [0.0, 1.0], [0.0, 2.0], [1.0, 0.0],\n",
    "                [1.0, 2.0], [0.0, 1.0], [1.0, 0.0]])\n",
    "y = np.array([0, 1, 0, 0, 1, 1, 0, 1])"
   ]
  },
  {
   "cell_type": "code",
   "execution_count": 24,
   "metadata": {},
   "outputs": [
    {
     "data": {
      "text/plain": [
       "array([1.15744048, 0.48452381])"
      ]
     },
     "execution_count": 24,
     "metadata": {},
     "output_type": "execute_result"
    }
   ],
   "source": [
    "estimate_mutual_information(X, y, normalize=False)"
   ]
  },
  {
   "cell_type": "code",
   "execution_count": 30,
   "metadata": {},
   "outputs": [
    {
     "name": "stderr",
     "output_type": "stream",
     "text": [
      "2022-07-24 14:50:26,315:INFO:NearestNeighborsWithMetricTensor: NN fitting with metric minkowski\n",
      "2022-07-24 14:50:26,317:INFO:NearestNeighborsWithMetricTensor: kneighbors query minkowski\n"
     ]
    }
   ],
   "source": [
    "X_base = np.array([[1.0, 0.0], [0.0, 1.0]])\n",
    "X_neighbors = np.array([[2.0, 0.0], [0.0, 2.0]])\n",
    "\n",
    "metric_params = {'metric_tensor': None}\n",
    "\n",
    "nearestn = NearestNeighborsWithMetricTensor(metric='minkowski',\n",
    "                                            metric_params=metric_params,\n",
    "                                            n_neighbors=2)\n",
    "\n",
    "nearestn.fit(X_neighbors)\n",
    "\n",
    "ind = nearestn.kneighbors(X_base)"
   ]
  },
  {
   "cell_type": "code",
   "execution_count": 31,
   "metadata": {},
   "outputs": [
    {
     "data": {
      "text/plain": [
       "(array([[1.        , 2.23606798],\n",
       "        [1.        , 2.23606798]]),\n",
       " array([[0, 1],\n",
       "        [1, 0]]))"
      ]
     },
     "execution_count": 31,
     "metadata": {},
     "output_type": "execute_result"
    }
   ],
   "source": [
    "ind"
   ]
  },
  {
   "cell_type": "code",
   "execution_count": 32,
   "metadata": {},
   "outputs": [
    {
     "data": {
      "text/plain": [
       "(array([[1.        , 2.23606798],\n",
       "        [1.        , 2.23606798]]),\n",
       " array([[0, 1],\n",
       "        [1, 0]]))"
      ]
     },
     "execution_count": 32,
     "metadata": {},
     "output_type": "execute_result"
    }
   ],
   "source": [
    "n_neighbors_func(X_base, X_neighbors, n_neighbors=2, return_distance=True)"
   ]
  },
  {
   "cell_type": "code",
   "execution_count": null,
   "metadata": {},
   "outputs": [],
   "source": []
  }
 ],
 "metadata": {
  "kernelspec": {
   "display_name": "Python 3.10.4 ('smote_variants')",
   "language": "python",
   "name": "python3"
  },
  "language_info": {
   "codemirror_mode": {
    "name": "ipython",
    "version": 3
   },
   "file_extension": ".py",
   "mimetype": "text/x-python",
   "name": "python",
   "nbconvert_exporter": "python",
   "pygments_lexer": "ipython3",
   "version": "3.10.4"
  },
  "orig_nbformat": 4,
  "vscode": {
   "interpreter": {
    "hash": "04ee80b1cee16018cf8dd56bf8f0a10a10cf53a2e8478a33e897f29ae53ad00d"
   }
  }
 },
 "nbformat": 4,
 "nbformat_minor": 2
}
