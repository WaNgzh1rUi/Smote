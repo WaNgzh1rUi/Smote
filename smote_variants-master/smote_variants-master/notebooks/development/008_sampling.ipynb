{
 "cells": [
  {
   "cell_type": "code",
   "execution_count": 1,
   "metadata": {},
   "outputs": [],
   "source": [
    "from smote_variants import Folding, SamplingJob\n",
    "from sklearn import datasets"
   ]
  },
  {
   "cell_type": "code",
   "execution_count": 2,
   "metadata": {},
   "outputs": [],
   "source": [
    "dataset = datasets.load_breast_cancer()\n",
    "dataset['name'] = 'breast_cancer'"
   ]
  },
  {
   "cell_type": "code",
   "execution_count": 3,
   "metadata": {},
   "outputs": [],
   "source": [
    "folding = Folding(dataset,\n",
    "                    cache_path='/home/gykovacs/smote_cache/',\n",
    "                    reset=True)"
   ]
  },
  {
   "cell_type": "code",
   "execution_count": 4,
   "metadata": {},
   "outputs": [],
   "source": [
    "oversampler = 'SMOTE'\n",
    "oversampler_params = {}"
   ]
  },
  {
   "cell_type": "code",
   "execution_count": 5,
   "metadata": {},
   "outputs": [
    {
     "name": "stderr",
     "output_type": "stream",
     "text": [
      "2022-07-22 21:46:02,127:INFO:{SMOTE}: Running sampling via {('SMOTE', \"{'proportion': 1.0, 'n_neighbors': 5, 'nn_params': {}, 'n_jobs': 1, 'sampling_params': {'n_dim': 2, 'simplex_sampling': 'uniform', 'within_simplex_sampling': 'random', 'gaussian_component': {}}, 'random_state': None, 'class_name': 'SMOTE'}\")}\n",
      "2022-07-22 21:46:02,131:INFO:NearestNeighborsWithMetricTensor: NN fitting with metric minkowski\n",
      "2022-07-22 21:46:02,137:INFO:NearestNeighborsWithMetricTensor: kneighbors query minkowski\n"
     ]
    },
    {
     "name": "stdout",
     "output_type": "stream",
     "text": [
      "{'db_n': 569, 'db_n_attr': 30, 'imbalance_ratio': 1.6839622641509433, 'name': 'breast_cancer', 'label_stats': {'min_label': 212, 'maj_label': 357}, 'n_repeats': 2, 'n_splits': 5, 'split_idx': 0, 'repeat_idx': 0, 'fold_idx': 0}\n"
     ]
    },
    {
     "name": "stderr",
     "output_type": "stream",
     "text": [
      "2022-07-22 21:46:02,655:INFO:{SMOTE}: Running sampling via {('SMOTE', \"{'proportion': 1.0, 'n_neighbors': 5, 'nn_params': {}, 'n_jobs': 1, 'sampling_params': {'n_dim': 2, 'simplex_sampling': 'uniform', 'within_simplex_sampling': 'random', 'gaussian_component': {}}, 'random_state': None, 'class_name': 'SMOTE'}\")}\n",
      "2022-07-22 21:46:02,657:INFO:NearestNeighborsWithMetricTensor: NN fitting with metric minkowski\n",
      "2022-07-22 21:46:02,660:INFO:NearestNeighborsWithMetricTensor: kneighbors query minkowski\n"
     ]
    },
    {
     "name": "stdout",
     "output_type": "stream",
     "text": [
      "res /home/gykovacs/smote_cache/breast_cancer/oversampling_0000_0000_0b07709a668d47d1bf5256420c7f75eb.json\n",
      "{'db_n': 569, 'db_n_attr': 30, 'imbalance_ratio': 1.6839622641509433, 'name': 'breast_cancer', 'label_stats': {'min_label': 212, 'maj_label': 357}, 'n_repeats': 2, 'n_splits': 5, 'split_idx': 1, 'repeat_idx': 0, 'fold_idx': 1}\n"
     ]
    },
    {
     "name": "stderr",
     "output_type": "stream",
     "text": [
      "2022-07-22 21:46:02,962:INFO:{SMOTE}: Running sampling via {('SMOTE', \"{'proportion': 1.0, 'n_neighbors': 5, 'nn_params': {}, 'n_jobs': 1, 'sampling_params': {'n_dim': 2, 'simplex_sampling': 'uniform', 'within_simplex_sampling': 'random', 'gaussian_component': {}}, 'random_state': None, 'class_name': 'SMOTE'}\")}\n",
      "2022-07-22 21:46:02,963:INFO:NearestNeighborsWithMetricTensor: NN fitting with metric minkowski\n",
      "2022-07-22 21:46:02,967:INFO:NearestNeighborsWithMetricTensor: kneighbors query minkowski\n"
     ]
    },
    {
     "name": "stdout",
     "output_type": "stream",
     "text": [
      "res /home/gykovacs/smote_cache/breast_cancer/oversampling_0000_0001_0b07709a668d47d1bf5256420c7f75eb.json\n",
      "{'db_n': 569, 'db_n_attr': 30, 'imbalance_ratio': 1.6839622641509433, 'name': 'breast_cancer', 'label_stats': {'min_label': 212, 'maj_label': 357}, 'n_repeats': 2, 'n_splits': 5, 'split_idx': 2, 'repeat_idx': 0, 'fold_idx': 2}\n"
     ]
    },
    {
     "name": "stderr",
     "output_type": "stream",
     "text": [
      "2022-07-22 21:46:03,216:INFO:{SMOTE}: Running sampling via {('SMOTE', \"{'proportion': 1.0, 'n_neighbors': 5, 'nn_params': {}, 'n_jobs': 1, 'sampling_params': {'n_dim': 2, 'simplex_sampling': 'uniform', 'within_simplex_sampling': 'random', 'gaussian_component': {}}, 'random_state': None, 'class_name': 'SMOTE'}\")}\n",
      "2022-07-22 21:46:03,219:INFO:NearestNeighborsWithMetricTensor: NN fitting with metric minkowski\n",
      "2022-07-22 21:46:03,223:INFO:NearestNeighborsWithMetricTensor: kneighbors query minkowski\n",
      "2022-07-22 21:46:03,362:INFO:{SMOTE}: Running sampling via {('SMOTE', \"{'proportion': 1.0, 'n_neighbors': 5, 'nn_params': {}, 'n_jobs': 1, 'sampling_params': {'n_dim': 2, 'simplex_sampling': 'uniform', 'within_simplex_sampling': 'random', 'gaussian_component': {}}, 'random_state': None, 'class_name': 'SMOTE'}\")}\n",
      "2022-07-22 21:46:03,364:INFO:NearestNeighborsWithMetricTensor: NN fitting with metric minkowski\n",
      "2022-07-22 21:46:03,366:INFO:NearestNeighborsWithMetricTensor: kneighbors query minkowski\n"
     ]
    },
    {
     "name": "stdout",
     "output_type": "stream",
     "text": [
      "res /home/gykovacs/smote_cache/breast_cancer/oversampling_0000_0002_0b07709a668d47d1bf5256420c7f75eb.json\n",
      "{'db_n': 569, 'db_n_attr': 30, 'imbalance_ratio': 1.6839622641509433, 'name': 'breast_cancer', 'label_stats': {'min_label': 212, 'maj_label': 357}, 'n_repeats': 2, 'n_splits': 5, 'split_idx': 3, 'repeat_idx': 0, 'fold_idx': 3}\n",
      "res /home/gykovacs/smote_cache/breast_cancer/oversampling_0000_0003_0b07709a668d47d1bf5256420c7f75eb.json\n",
      "{'db_n': 569, 'db_n_attr': 30, 'imbalance_ratio': 1.6839622641509433, 'name': 'breast_cancer', 'label_stats': {'min_label': 212, 'maj_label': 357}, 'n_repeats': 2, 'n_splits': 5, 'split_idx': 4, 'repeat_idx': 0, 'fold_idx': 4}\n"
     ]
    },
    {
     "name": "stderr",
     "output_type": "stream",
     "text": [
      "2022-07-22 21:46:03,607:INFO:{SMOTE}: Running sampling via {('SMOTE', \"{'proportion': 1.0, 'n_neighbors': 5, 'nn_params': {}, 'n_jobs': 1, 'sampling_params': {'n_dim': 2, 'simplex_sampling': 'uniform', 'within_simplex_sampling': 'random', 'gaussian_component': {}}, 'random_state': None, 'class_name': 'SMOTE'}\")}\n",
      "2022-07-22 21:46:03,609:INFO:NearestNeighborsWithMetricTensor: NN fitting with metric minkowski\n",
      "2022-07-22 21:46:03,611:INFO:NearestNeighborsWithMetricTensor: kneighbors query minkowski\n"
     ]
    },
    {
     "name": "stdout",
     "output_type": "stream",
     "text": [
      "res /home/gykovacs/smote_cache/breast_cancer/oversampling_0000_0004_0b07709a668d47d1bf5256420c7f75eb.json\n",
      "{'db_n': 569, 'db_n_attr': 30, 'imbalance_ratio': 1.6839622641509433, 'name': 'breast_cancer', 'label_stats': {'min_label': 212, 'maj_label': 357}, 'n_repeats': 2, 'n_splits': 5, 'split_idx': 5, 'repeat_idx': 1, 'fold_idx': 0}\n"
     ]
    },
    {
     "name": "stderr",
     "output_type": "stream",
     "text": [
      "2022-07-22 21:46:03,859:INFO:{SMOTE}: Running sampling via {('SMOTE', \"{'proportion': 1.0, 'n_neighbors': 5, 'nn_params': {}, 'n_jobs': 1, 'sampling_params': {'n_dim': 2, 'simplex_sampling': 'uniform', 'within_simplex_sampling': 'random', 'gaussian_component': {}}, 'random_state': None, 'class_name': 'SMOTE'}\")}\n",
      "2022-07-22 21:46:03,861:INFO:NearestNeighborsWithMetricTensor: NN fitting with metric minkowski\n",
      "2022-07-22 21:46:03,863:INFO:NearestNeighborsWithMetricTensor: kneighbors query minkowski\n"
     ]
    },
    {
     "name": "stdout",
     "output_type": "stream",
     "text": [
      "res /home/gykovacs/smote_cache/breast_cancer/oversampling_0001_0000_0b07709a668d47d1bf5256420c7f75eb.json\n",
      "{'db_n': 569, 'db_n_attr': 30, 'imbalance_ratio': 1.6839622641509433, 'name': 'breast_cancer', 'label_stats': {'min_label': 212, 'maj_label': 357}, 'n_repeats': 2, 'n_splits': 5, 'split_idx': 6, 'repeat_idx': 1, 'fold_idx': 1}\n"
     ]
    },
    {
     "name": "stderr",
     "output_type": "stream",
     "text": [
      "2022-07-22 21:46:04,129:INFO:{SMOTE}: Running sampling via {('SMOTE', \"{'proportion': 1.0, 'n_neighbors': 5, 'nn_params': {}, 'n_jobs': 1, 'sampling_params': {'n_dim': 2, 'simplex_sampling': 'uniform', 'within_simplex_sampling': 'random', 'gaussian_component': {}}, 'random_state': None, 'class_name': 'SMOTE'}\")}\n",
      "2022-07-22 21:46:04,130:INFO:NearestNeighborsWithMetricTensor: NN fitting with metric minkowski\n",
      "2022-07-22 21:46:04,131:INFO:NearestNeighborsWithMetricTensor: kneighbors query minkowski\n",
      "2022-07-22 21:46:04,289:INFO:{SMOTE}: Running sampling via {('SMOTE', \"{'proportion': 1.0, 'n_neighbors': 5, 'nn_params': {}, 'n_jobs': 1, 'sampling_params': {'n_dim': 2, 'simplex_sampling': 'uniform', 'within_simplex_sampling': 'random', 'gaussian_component': {}}, 'random_state': None, 'class_name': 'SMOTE'}\")}\n",
      "2022-07-22 21:46:04,291:INFO:NearestNeighborsWithMetricTensor: NN fitting with metric minkowski\n",
      "2022-07-22 21:46:04,293:INFO:NearestNeighborsWithMetricTensor: kneighbors query minkowski\n"
     ]
    },
    {
     "name": "stdout",
     "output_type": "stream",
     "text": [
      "res /home/gykovacs/smote_cache/breast_cancer/oversampling_0001_0001_0b07709a668d47d1bf5256420c7f75eb.json\n",
      "{'db_n': 569, 'db_n_attr': 30, 'imbalance_ratio': 1.6839622641509433, 'name': 'breast_cancer', 'label_stats': {'min_label': 212, 'maj_label': 357}, 'n_repeats': 2, 'n_splits': 5, 'split_idx': 7, 'repeat_idx': 1, 'fold_idx': 2}\n",
      "res /home/gykovacs/smote_cache/breast_cancer/oversampling_0001_0002_0b07709a668d47d1bf5256420c7f75eb.json\n",
      "{'db_n': 569, 'db_n_attr': 30, 'imbalance_ratio': 1.6839622641509433, 'name': 'breast_cancer', 'label_stats': {'min_label': 212, 'maj_label': 357}, 'n_repeats': 2, 'n_splits': 5, 'split_idx': 8, 'repeat_idx': 1, 'fold_idx': 3}\n"
     ]
    },
    {
     "name": "stderr",
     "output_type": "stream",
     "text": [
      "2022-07-22 21:46:04,522:INFO:{SMOTE}: Running sampling via {('SMOTE', \"{'proportion': 1.0, 'n_neighbors': 5, 'nn_params': {}, 'n_jobs': 1, 'sampling_params': {'n_dim': 2, 'simplex_sampling': 'uniform', 'within_simplex_sampling': 'random', 'gaussian_component': {}}, 'random_state': None, 'class_name': 'SMOTE'}\")}\n",
      "2022-07-22 21:46:04,523:INFO:NearestNeighborsWithMetricTensor: NN fitting with metric minkowski\n",
      "2022-07-22 21:46:04,524:INFO:NearestNeighborsWithMetricTensor: kneighbors query minkowski\n"
     ]
    },
    {
     "name": "stdout",
     "output_type": "stream",
     "text": [
      "res /home/gykovacs/smote_cache/breast_cancer/oversampling_0001_0003_0b07709a668d47d1bf5256420c7f75eb.json\n",
      "{'db_n': 569, 'db_n_attr': 30, 'imbalance_ratio': 1.6839622641509433, 'name': 'breast_cancer', 'label_stats': {'min_label': 212, 'maj_label': 357}, 'n_repeats': 2, 'n_splits': 5, 'split_idx': 9, 'repeat_idx': 1, 'fold_idx': 4}\n",
      "res /home/gykovacs/smote_cache/breast_cancer/oversampling_0001_0004_0b07709a668d47d1bf5256420c7f75eb.json\n"
     ]
    }
   ],
   "source": [
    "for fold in folding.fold():\n",
    "    sj = SamplingJob(fold, oversampler, oversampler_params, cache_path='/home/gykovacs/smote_cache/breast_cancer/')\n",
    "    result = sj.do_oversampling()\n",
    "    if isinstance(result, dict):\n",
    "        print(len(result['X_test']))\n",
    "    else:\n",
    "        print('res', result)"
   ]
  },
  {
   "cell_type": "code",
   "execution_count": null,
   "metadata": {},
   "outputs": [],
   "source": []
  }
 ],
 "metadata": {
  "kernelspec": {
   "display_name": "Python 3.10.4 ('smote_variants')",
   "language": "python",
   "name": "python3"
  },
  "language_info": {
   "codemirror_mode": {
    "name": "ipython",
    "version": 3
   },
   "file_extension": ".py",
   "mimetype": "text/x-python",
   "name": "python",
   "nbconvert_exporter": "python",
   "pygments_lexer": "ipython3",
   "version": "3.10.4"
  },
  "orig_nbformat": 4,
  "vscode": {
   "interpreter": {
    "hash": "04ee80b1cee16018cf8dd56bf8f0a10a10cf53a2e8478a33e897f29ae53ad00d"
   }
  }
 },
 "nbformat": 4,
 "nbformat_minor": 2
}
