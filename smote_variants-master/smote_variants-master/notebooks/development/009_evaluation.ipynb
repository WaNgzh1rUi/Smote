{
 "cells": [
  {
   "cell_type": "code",
   "execution_count": 1,
   "metadata": {},
   "outputs": [],
   "source": [
    "from smote_variants import Folding, SamplingJob, EvaluationJob\n",
    "from sklearn import datasets"
   ]
  },
  {
   "cell_type": "code",
   "execution_count": 2,
   "metadata": {},
   "outputs": [],
   "source": [
    "dataset = datasets.load_breast_cancer()\n",
    "dataset['name'] = 'breast_cancer'"
   ]
  },
  {
   "cell_type": "code",
   "execution_count": 3,
   "metadata": {},
   "outputs": [],
   "source": [
    "folding = Folding(dataset,\n",
    "                    cache_path='/home/gykovacs/smote_cache/',\n",
    "                    reset=True)"
   ]
  },
  {
   "cell_type": "code",
   "execution_count": 4,
   "metadata": {},
   "outputs": [],
   "source": [
    "oversampler = 'SMOTE'\n",
    "oversampler_params = {}"
   ]
  },
  {
   "cell_type": "code",
   "execution_count": 5,
   "metadata": {},
   "outputs": [],
   "source": [
    "classifiers = [('sklearn.tree', 'DecisionTreeClassifier', {})]"
   ]
  },
  {
   "cell_type": "code",
   "execution_count": 6,
   "metadata": {},
   "outputs": [
    {
     "name": "stderr",
     "output_type": "stream",
     "text": [
      "2022-07-23 12:39:25,149:INFO:{SMOTE}: Running sampling via {('SMOTE', \"{'proportion': 1.0, 'n_neighbors': 5, 'nn_params': {}, 'n_jobs': 1, 'sampling_params': {'n_dim': 2, 'simplex_sampling': 'uniform', 'within_simplex_sampling': 'random', 'gaussian_component': {}}, 'random_state': None, 'class_name': 'SMOTE'}\")}\n",
      "2022-07-23 12:39:25,150:INFO:NearestNeighborsWithMetricTensor: NN fitting with metric minkowski\n",
      "2022-07-23 12:39:25,151:INFO:NearestNeighborsWithMetricTensor: kneighbors query minkowski\n",
      "2022-07-23 12:39:25,230:INFO:{SMOTE}: Running sampling via {('SMOTE', \"{'proportion': 1.0, 'n_neighbors': 5, 'nn_params': {}, 'n_jobs': 1, 'sampling_params': {'n_dim': 2, 'simplex_sampling': 'uniform', 'within_simplex_sampling': 'random', 'gaussian_component': {}}, 'random_state': None, 'class_name': 'SMOTE'}\")}\n",
      "2022-07-23 12:39:25,231:INFO:NearestNeighborsWithMetricTensor: NN fitting with metric minkowski\n",
      "2022-07-23 12:39:25,231:INFO:NearestNeighborsWithMetricTensor: kneighbors query minkowski\n",
      "2022-07-23 12:39:25,291:INFO:{SMOTE}: Running sampling via {('SMOTE', \"{'proportion': 1.0, 'n_neighbors': 5, 'nn_params': {}, 'n_jobs': 1, 'sampling_params': {'n_dim': 2, 'simplex_sampling': 'uniform', 'within_simplex_sampling': 'random', 'gaussian_component': {}}, 'random_state': None, 'class_name': 'SMOTE'}\")}\n",
      "2022-07-23 12:39:25,293:INFO:NearestNeighborsWithMetricTensor: NN fitting with metric minkowski\n",
      "2022-07-23 12:39:25,294:INFO:NearestNeighborsWithMetricTensor: kneighbors query minkowski\n",
      "2022-07-23 12:39:25,373:INFO:{SMOTE}: Running sampling via {('SMOTE', \"{'proportion': 1.0, 'n_neighbors': 5, 'nn_params': {}, 'n_jobs': 1, 'sampling_params': {'n_dim': 2, 'simplex_sampling': 'uniform', 'within_simplex_sampling': 'random', 'gaussian_component': {}}, 'random_state': None, 'class_name': 'SMOTE'}\")}\n",
      "2022-07-23 12:39:25,374:INFO:NearestNeighborsWithMetricTensor: NN fitting with metric minkowski\n",
      "2022-07-23 12:39:25,375:INFO:NearestNeighborsWithMetricTensor: kneighbors query minkowski\n"
     ]
    },
    {
     "name": "stdout",
     "output_type": "stream",
     "text": [
      "/home/gykovacs/smote_cache/breast_cancer/evaluation_0000_0000_71cfbcb805cb51b8cc07237f77cc452a.json\n",
      "/home/gykovacs/smote_cache/breast_cancer/evaluation_0000_0001_71cfbcb805cb51b8cc07237f77cc452a.json\n",
      "/home/gykovacs/smote_cache/breast_cancer/evaluation_0000_0002_71cfbcb805cb51b8cc07237f77cc452a.json\n"
     ]
    },
    {
     "name": "stderr",
     "output_type": "stream",
     "text": [
      "2022-07-23 12:39:25,451:INFO:{SMOTE}: Running sampling via {('SMOTE', \"{'proportion': 1.0, 'n_neighbors': 5, 'nn_params': {}, 'n_jobs': 1, 'sampling_params': {'n_dim': 2, 'simplex_sampling': 'uniform', 'within_simplex_sampling': 'random', 'gaussian_component': {}}, 'random_state': None, 'class_name': 'SMOTE'}\")}\n",
      "2022-07-23 12:39:25,452:INFO:NearestNeighborsWithMetricTensor: NN fitting with metric minkowski\n",
      "2022-07-23 12:39:25,453:INFO:NearestNeighborsWithMetricTensor: kneighbors query minkowski\n",
      "2022-07-23 12:39:25,541:INFO:{SMOTE}: Running sampling via {('SMOTE', \"{'proportion': 1.0, 'n_neighbors': 5, 'nn_params': {}, 'n_jobs': 1, 'sampling_params': {'n_dim': 2, 'simplex_sampling': 'uniform', 'within_simplex_sampling': 'random', 'gaussian_component': {}}, 'random_state': None, 'class_name': 'SMOTE'}\")}\n",
      "2022-07-23 12:39:25,542:INFO:NearestNeighborsWithMetricTensor: NN fitting with metric minkowski\n",
      "2022-07-23 12:39:25,543:INFO:NearestNeighborsWithMetricTensor: kneighbors query minkowski\n",
      "2022-07-23 12:39:25,592:INFO:{SMOTE}: Running sampling via {('SMOTE', \"{'proportion': 1.0, 'n_neighbors': 5, 'nn_params': {}, 'n_jobs': 1, 'sampling_params': {'n_dim': 2, 'simplex_sampling': 'uniform', 'within_simplex_sampling': 'random', 'gaussian_component': {}}, 'random_state': None, 'class_name': 'SMOTE'}\")}\n",
      "2022-07-23 12:39:25,593:INFO:NearestNeighborsWithMetricTensor: NN fitting with metric minkowski\n",
      "2022-07-23 12:39:25,594:INFO:NearestNeighborsWithMetricTensor: kneighbors query minkowski\n",
      "2022-07-23 12:39:25,643:INFO:{SMOTE}: Running sampling via {('SMOTE', \"{'proportion': 1.0, 'n_neighbors': 5, 'nn_params': {}, 'n_jobs': 1, 'sampling_params': {'n_dim': 2, 'simplex_sampling': 'uniform', 'within_simplex_sampling': 'random', 'gaussian_component': {}}, 'random_state': None, 'class_name': 'SMOTE'}\")}\n",
      "2022-07-23 12:39:25,644:INFO:NearestNeighborsWithMetricTensor: NN fitting with metric minkowski\n",
      "2022-07-23 12:39:25,644:INFO:NearestNeighborsWithMetricTensor: kneighbors query minkowski\n"
     ]
    },
    {
     "name": "stdout",
     "output_type": "stream",
     "text": [
      "/home/gykovacs/smote_cache/breast_cancer/evaluation_0000_0003_71cfbcb805cb51b8cc07237f77cc452a.json\n",
      "/home/gykovacs/smote_cache/breast_cancer/evaluation_0000_0004_71cfbcb805cb51b8cc07237f77cc452a.json\n",
      "/home/gykovacs/smote_cache/breast_cancer/evaluation_0001_0000_71cfbcb805cb51b8cc07237f77cc452a.json\n",
      "/home/gykovacs/smote_cache/breast_cancer/evaluation_0001_0001_71cfbcb805cb51b8cc07237f77cc452a.json\n"
     ]
    },
    {
     "name": "stderr",
     "output_type": "stream",
     "text": [
      "2022-07-23 12:39:25,697:INFO:{SMOTE}: Running sampling via {('SMOTE', \"{'proportion': 1.0, 'n_neighbors': 5, 'nn_params': {}, 'n_jobs': 1, 'sampling_params': {'n_dim': 2, 'simplex_sampling': 'uniform', 'within_simplex_sampling': 'random', 'gaussian_component': {}}, 'random_state': None, 'class_name': 'SMOTE'}\")}\n",
      "2022-07-23 12:39:25,698:INFO:NearestNeighborsWithMetricTensor: NN fitting with metric minkowski\n",
      "2022-07-23 12:39:25,699:INFO:NearestNeighborsWithMetricTensor: kneighbors query minkowski\n",
      "2022-07-23 12:39:25,748:INFO:{SMOTE}: Running sampling via {('SMOTE', \"{'proportion': 1.0, 'n_neighbors': 5, 'nn_params': {}, 'n_jobs': 1, 'sampling_params': {'n_dim': 2, 'simplex_sampling': 'uniform', 'within_simplex_sampling': 'random', 'gaussian_component': {}}, 'random_state': None, 'class_name': 'SMOTE'}\")}\n",
      "2022-07-23 12:39:25,749:INFO:NearestNeighborsWithMetricTensor: NN fitting with metric minkowski\n",
      "2022-07-23 12:39:25,750:INFO:NearestNeighborsWithMetricTensor: kneighbors query minkowski\n"
     ]
    },
    {
     "name": "stdout",
     "output_type": "stream",
     "text": [
      "/home/gykovacs/smote_cache/breast_cancer/evaluation_0001_0002_71cfbcb805cb51b8cc07237f77cc452a.json\n",
      "/home/gykovacs/smote_cache/breast_cancer/evaluation_0001_0003_71cfbcb805cb51b8cc07237f77cc452a.json\n",
      "/home/gykovacs/smote_cache/breast_cancer/evaluation_0001_0004_71cfbcb805cb51b8cc07237f77cc452a.json\n"
     ]
    }
   ],
   "source": [
    "for fold in folding.fold():\n",
    "    sj = SamplingJob(fold, oversampler, oversampler_params, cache_path='/home/gykovacs/smote_cache/breast_cancer/')\n",
    "    result = sj.do_oversampling()\n",
    "    ej = EvaluationJob(result, classifiers, cache_path='/home/gykovacs/smote_cache/breast_cancer/')\n",
    "    result_eval = ej.do_evaluation()\n",
    "    \n",
    "    if isinstance(result_eval, dict):\n",
    "        print(len(result_eval['y_pred']))\n",
    "    else:\n",
    "        print(result_eval)"
   ]
  },
  {
   "cell_type": "code",
   "execution_count": null,
   "metadata": {},
   "outputs": [],
   "source": []
  }
 ],
 "metadata": {
  "kernelspec": {
   "display_name": "Python 3.10.4 ('smote_variants')",
   "language": "python",
   "name": "python3"
  },
  "language_info": {
   "codemirror_mode": {
    "name": "ipython",
    "version": 3
   },
   "file_extension": ".py",
   "mimetype": "text/x-python",
   "name": "python",
   "nbconvert_exporter": "python",
   "pygments_lexer": "ipython3",
   "version": "3.10.4"
  },
  "orig_nbformat": 4,
  "vscode": {
   "interpreter": {
    "hash": "04ee80b1cee16018cf8dd56bf8f0a10a10cf53a2e8478a33e897f29ae53ad00d"
   }
  }
 },
 "nbformat": 4,
 "nbformat_minor": 2
}
