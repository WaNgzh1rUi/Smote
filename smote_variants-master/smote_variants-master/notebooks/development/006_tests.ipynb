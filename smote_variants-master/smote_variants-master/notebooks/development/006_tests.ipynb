{
 "cells": [
  {
   "cell_type": "code",
   "execution_count": 3,
   "metadata": {},
   "outputs": [],
   "source": [
    "import numpy as np\n",
    "\n",
    "import logging\n",
    "import pytest\n",
    "\n",
    "import smote_variants as sv"
   ]
  },
  {
   "cell_type": "code",
   "execution_count": 14,
   "metadata": {},
   "outputs": [],
   "source": [
    "X_1_min_some_maj = np.array([[1.0, 1.1],\n",
    "                      [1.1, 1.2],\n",
    "                      [1.05, 1.1],\n",
    "                      [1.08, 1.05],\n",
    "                      [1.1, 1.08],\n",
    "                      [1.55, 1.55]])\n",
    "\n",
    "y_1_min_some_maj = np.array([0, 0, 0, 0, 1, 1])"
   ]
  },
  {
   "cell_type": "code",
   "execution_count": 15,
   "metadata": {},
   "outputs": [
    {
     "name": "stderr",
     "output_type": "stream",
     "text": [
      "2022-07-21 17:53:19,200:INFO:NearestNeighborsWithMetricTensor: NN fitting with metric minkowski\n",
      "2022-07-21 17:53:19,202:INFO:NearestNeighborsWithMetricTensor: kneighbors query minkowski\n"
     ]
    }
   ],
   "source": [
    "from smote_variants import NearestNeighborsWithMetricTensor\n",
    "\n",
    "X = X_1_min_some_maj\n",
    "y = y_1_min_some_maj\n",
    "\n",
    "min_label = 1\n",
    "n_neighbors = 5\n",
    "nn_params = {}\n",
    "\n",
    "X_min = X[y == min_label]\n",
    "\n",
    "# fitting the model\n",
    "n_neighbors = min([len(X_min), n_neighbors+1])\n",
    "\n",
    "nn_mt= NearestNeighborsWithMetricTensor(n_neighbors=n_neighbors,\n",
    "                                        n_jobs=1,\n",
    "                                        **nn_params)\n",
    "nn_mt.fit(X_min)\n",
    "_, ind_min = nn_mt.kneighbors(X_min, return_distance=True)"
   ]
  },
  {
   "cell_type": "code",
   "execution_count": 16,
   "metadata": {},
   "outputs": [
    {
     "name": "stderr",
     "output_type": "stream",
     "text": [
      "2022-07-21 17:53:19,526:INFO:SMOTE_TomekLinks: Running sampling via ('SMOTE_TomekLinks', \"{'proportion': 1.0, 'n_neighbors': 5, 'nn_params': {}, 'sampling_params': {}, 'n_jobs': 1, 'random_state': None}\")\n",
      "2022-07-21 17:53:19,528:INFO:{SMOTE}: Running sampling via {('SMOTE', \"{'proportion': 1.0, 'n_neighbors': 5, 'nn_params': {'metric_tensor': None}, 'n_jobs': 1, 'sampling_params': {'n_dim': 2, 'simplex_sampling': 'uniform', 'within_simplex_sampling': 'random', 'gaussian_component': {}}, 'random_state': None}\")}\n",
      "2022-07-21 17:53:19,529:INFO:NearestNeighborsWithMetricTensor: NN fitting with metric minkowski\n",
      "2022-07-21 17:53:19,530:INFO:NearestNeighborsWithMetricTensor: kneighbors query minkowski\n",
      "2022-07-21 17:53:19,640:INFO:TomekLinkRemoval: Running noise removal via TomekLinkRemoval\n",
      "2022-07-21 17:53:19,643:INFO:NearestNeighborsWithMetricTensor: NN fitting with metric minkowski\n",
      "2022-07-21 17:53:19,647:INFO:NearestNeighborsWithMetricTensor: kneighbors query minkowski\n"
     ]
    },
    {
     "data": {
      "text/plain": [
       "(array([[1.        , 1.1       ],\n",
       "        [1.1       , 1.2       ],\n",
       "        [1.05      , 1.1       ],\n",
       "        [1.55      , 1.55      ],\n",
       "        [1.22332086, 1.20880178],\n",
       "        [1.43372516, 1.42855739]]),\n",
       " array([0, 0, 0, 1, 1, 1]))"
      ]
     },
     "execution_count": 16,
     "metadata": {},
     "output_type": "execute_result"
    }
   ],
   "source": [
    "sv.SMOTE_TomekLinks().sample(X_1_min_some_maj, y_1_min_some_maj)"
   ]
  },
  {
   "cell_type": "code",
   "execution_count": 17,
   "metadata": {},
   "outputs": [
    {
     "data": {
      "text/plain": [
       "array([[1.16428571, 1.14714286],\n",
       "       [1.22857143, 1.21428571],\n",
       "       [1.29285714, 1.28142857],\n",
       "       [1.35714286, 1.34857143],\n",
       "       [1.42142857, 1.41571429],\n",
       "       [1.48571429, 1.48285714]])"
      ]
     },
     "execution_count": 17,
     "metadata": {},
     "output_type": "execute_result"
    }
   ],
   "source": [
    "sv.SimplexSamplingMixin().sample_simplex(X_min, indices=ind_min, n_to_sample=6)"
   ]
  },
  {
   "cell_type": "code",
   "execution_count": 20,
   "metadata": {},
   "outputs": [],
   "source": [
    "parameters = sv.SMOTE_TomekLinks.parameter_combinations()"
   ]
  },
  {
   "cell_type": "code",
   "execution_count": 21,
   "metadata": {},
   "outputs": [],
   "source": [
    "params = np.random.choice(parameters)"
   ]
  },
  {
   "cell_type": "code",
   "execution_count": 23,
   "metadata": {},
   "outputs": [],
   "source": [
    "params2 = sv.SMOTE_TomekLinks(**params).get_params()"
   ]
  },
  {
   "cell_type": "code",
   "execution_count": 24,
   "metadata": {},
   "outputs": [
    {
     "data": {
      "text/plain": [
       "{'n_neighbors': 7, 'proportion': 0.75}"
      ]
     },
     "execution_count": 24,
     "metadata": {},
     "output_type": "execute_result"
    }
   ],
   "source": [
    "params"
   ]
  },
  {
   "cell_type": "code",
   "execution_count": 25,
   "metadata": {},
   "outputs": [
    {
     "data": {
      "text/plain": [
       "{'proportion': 0.75,\n",
       " 'n_neighbors': 7,\n",
       " 'nn_params': {},\n",
       " 'sampling_params': {},\n",
       " 'n_jobs': 1,\n",
       " 'random_state': None}"
      ]
     },
     "execution_count": 25,
     "metadata": {},
     "output_type": "execute_result"
    }
   ],
   "source": [
    "params2"
   ]
  },
  {
   "cell_type": "code",
   "execution_count": 3,
   "metadata": {},
   "outputs": [
    {
     "name": "stdout",
     "output_type": "stream",
     "text": [
      "{'a': 2, 'b': array([1, 2])}\n",
      "{'a': 2, 'b': array([1, 2])}\n"
     ]
    }
   ],
   "source": [
    "import numpy as np\n",
    "import os\n",
    "import shutil\n",
    "from smote_variants import dump_dict, load_dict\n",
    "\n",
    "test_dir = 'test_base_dir'\n",
    "os.makedirs(test_dir, exist_ok=True)\n",
    "\n",
    "filename = os.path.join(test_dir, 'dump.pickle')\n",
    "\n",
    "obj = {'a': 2,\n",
    "        'b': np.array([1, 2])}\n",
    "dump_dict(obj, filename, 'pickle', ['b'])\n",
    "obj_loaded = load_dict(filename, 'pickle', ['b'])\n",
    "\n",
    "print(obj)\n",
    "print(obj_loaded)\n",
    "\n",
    "np.testing.assert_array_equal(obj['b'], obj_loaded['b'])"
   ]
  },
  {
   "cell_type": "code",
   "execution_count": 1,
   "metadata": {},
   "outputs": [],
   "source": [
    "from smote_variants import instantiate_obj"
   ]
  },
  {
   "cell_type": "code",
   "execution_count": 2,
   "metadata": {},
   "outputs": [
    {
     "name": "stdout",
     "output_type": "stream",
     "text": [
      "21 µs ± 4.02 µs per loop (mean ± std. dev. of 7 runs, 10,000 loops each)\n"
     ]
    }
   ],
   "source": [
    "%%timeit\n",
    "instantiate_obj(('sklearn.tree', 'DecisionTreeClassifier', {}))"
   ]
  },
  {
   "cell_type": "code",
   "execution_count": 3,
   "metadata": {},
   "outputs": [],
   "source": [
    "from smote_variants import AMSCO"
   ]
  },
  {
   "cell_type": "code",
   "execution_count": 5,
   "metadata": {},
   "outputs": [
    {
     "data": {
      "text/plain": [
       "{'n_pop': 5,\n",
       " 'n_iter': 15,\n",
       " 'omega': 0.1,\n",
       " 'r1': 0.1,\n",
       " 'r2': 0.1,\n",
       " 'nn_params': {},\n",
       " 'n_jobs': 1,\n",
       " 'classifier': ('sklearn.tree', 'DecisionTreeClassifier', {'random_state': 2}),\n",
       " 'sampling_params': {'n_dim': 2,\n",
       "  'simplex_sampling': 'uniform',\n",
       "  'within_simplex_sampling': 'random',\n",
       "  'gaussian_component': {}},\n",
       " 'random_state': None,\n",
       " 'class_name': 'AMSCO'}"
      ]
     },
     "execution_count": 5,
     "metadata": {},
     "output_type": "execute_result"
    }
   ],
   "source": [
    "AMSCO().get_params()"
   ]
  },
  {
   "cell_type": "code",
   "execution_count": 6,
   "metadata": {},
   "outputs": [],
   "source": [
    "import numpy as np"
   ]
  },
  {
   "cell_type": "code",
   "execution_count": 8,
   "metadata": {},
   "outputs": [
    {
     "data": {
      "text/plain": [
       "array([ True,  True])"
      ]
     },
     "execution_count": 8,
     "metadata": {},
     "output_type": "execute_result"
    }
   ],
   "source": [
    "np.min(np.array([[1, 2], [2, 3], [3, 4]]), axis=0) < np.array([2, 3])"
   ]
  },
  {
   "cell_type": "code",
   "execution_count": null,
   "metadata": {},
   "outputs": [],
   "source": []
  }
 ],
 "metadata": {
  "kernelspec": {
   "display_name": "Python 3.10.4 ('smote_variants')",
   "language": "python",
   "name": "python3"
  },
  "language_info": {
   "codemirror_mode": {
    "name": "ipython",
    "version": 3
   },
   "file_extension": ".py",
   "mimetype": "text/x-python",
   "name": "python",
   "nbconvert_exporter": "python",
   "pygments_lexer": "ipython3",
   "version": "3.10.4"
  },
  "orig_nbformat": 4,
  "vscode": {
   "interpreter": {
    "hash": "04ee80b1cee16018cf8dd56bf8f0a10a10cf53a2e8478a33e897f29ae53ad00d"
   }
  }
 },
 "nbformat": 4,
 "nbformat_minor": 2
}
