{
 "cells": [
  {
   "cell_type": "code",
   "execution_count": 1,
   "metadata": {},
   "outputs": [],
   "source": [
    "import numpy as np\n",
    "\n",
    "from smote_variants import ADG"
   ]
  },
  {
   "cell_type": "code",
   "execution_count": 2,
   "metadata": {},
   "outputs": [],
   "source": [
    "data_min = np.array([[5.7996138, -0.25574582],\n",
    "                     [3.0637093,  2.11750874],\n",
    "                     [4.91444087, -0.72380123],\n",
    "                     [1.06414164,  0.08694243],\n",
    "                     [2.59071708,  0.75283568],\n",
    "                     [3.44834937,  1.46118085],\n",
    "                     [2.8036378,  0.69553702],\n",
    "                     [3.57901791,  0.71870743],\n",
    "                     [3.81529064,  0.62580927],\n",
    "                     [3.05005506,  0.33290343],\n",
    "                     [1.83674689,  1.06998465],\n",
    "                     [2.08574889, -0.32686821],\n",
    "                     [3.49417022, -0.92155623],\n",
    "                     [2.33920982, -1.59057568],\n",
    "                     [1.95332431, -0.84533309],\n",
    "                     [3.35453368, -1.10178101],\n",
    "                     [4.20791149, -1.41874985],\n",
    "                     [2.25371221, -1.45181929],\n",
    "                     [2.87401694, -0.74746037],\n",
    "                     [1.84435381,  0.15715329]])\n",
    "\n",
    "data_maj = np.array([[-1.40972752,  0.07111486],\n",
    "                     [-1.1873495, -0.20838002],\n",
    "                     [0.51978825,  2.1631319],\n",
    "                     [-0.61995016, -0.45111475],\n",
    "                     [2.6093289, -0.40993063],\n",
    "                     [-0.06624482, -0.45882838],\n",
    "                     [-0.28836659, -0.59493865],\n",
    "                     [0.345051,  0.05188811],\n",
    "                     [1.75694985,  0.16685025],\n",
    "                     [0.52901288, -0.62341735],\n",
    "                     [0.09694047, -0.15811278],\n",
    "                     [-0.37490451, -0.46290818],\n",
    "                     [-0.32855088, -0.20893795],\n",
    "                     [-0.98508364, -0.32003935],\n",
    "                     [0.07579831,  1.36455355],\n",
    "                     [-1.44496689, -0.44792395],\n",
    "                     [1.17083343, -0.15804265],\n",
    "                     [1.73361443, -0.06018163],\n",
    "                     [-0.05139342,  0.44876765],\n",
    "                     [0.33731075, -0.06547923],\n",
    "                     [-0.02803696,  0.5802353],\n",
    "                     [0.20885408,  0.39232885],\n",
    "                     [0.22819482,  2.47835768],\n",
    "                     [1.48216063,  0.81341279],\n",
    "                     [-0.6240829, -0.90154291],\n",
    "                     [0.54349668,  1.4313319],\n",
    "                     [-0.65925018,  0.78058634],\n",
    "                     [-1.65006105, -0.88327625],\n",
    "                     [-1.49996313, -0.99378106],\n",
    "                     [0.31628974, -0.41951526],\n",
    "                     [0.64402186,  1.10456105],\n",
    "                     [-0.17725369, -0.67939216],\n",
    "                     [0.12000555, -1.18672234],\n",
    "                     [2.09793313,  1.82636262],\n",
    "                     [-0.11711376,  0.49655609],\n",
    "                     [1.40513236,  0.74970305],\n",
    "                     [2.40025472, -0.5971392],\n",
    "                     [-1.04860983,  2.05691699],\n",
    "                     [0.74057019, -1.48622202],\n",
    "                     [1.32230881, -2.36226588],\n",
    "                     [-1.00093975, -0.44426212],\n",
    "                     [-2.25927766, -0.55860504],\n",
    "                     [-1.12592836, -0.13399132],\n",
    "                     [0.14500925, -0.89070934],\n",
    "                     [0.90572513,  1.23923502],\n",
    "                     [-1.25416346, -1.49100593],\n",
    "                     [0.51229813,  1.54563048],\n",
    "                     [-1.36854287,  0.0151081],\n",
    "                     [0.08169257, -0.69722099],\n",
    "                     [-0.73737846,  0.42595479],\n",
    "                     [0.02465411, -0.36742946],\n",
    "                     [-1.14532211, -1.23217124],\n",
    "                     [0.98038343,  0.59259824],\n",
    "                     [-0.20721222,  0.68062552],\n",
    "                     [-2.21596433, -1.96045872],\n",
    "                     [-1.20519292, -1.8900018],\n",
    "                     [0.47189299, -0.4737293],\n",
    "                     [1.18196143,  0.85320018],\n",
    "                     [0.03255894, -0.77687178],\n",
    "                     [0.32485141, -0.34609381]])\n"
   ]
  },
  {
   "cell_type": "code",
   "execution_count": 3,
   "metadata": {},
   "outputs": [],
   "source": [
    "X = np.vstack([data_min, data_maj])\n",
    "y = np.hstack([np.repeat(1, len(data_min)),\n",
    "                np.repeat(0, len(data_maj))])"
   ]
  },
  {
   "cell_type": "code",
   "execution_count": 4,
   "metadata": {},
   "outputs": [],
   "source": [
    "smote_obj = ADG(kernel=\"rbf_1\", random_state=5)"
   ]
  },
  {
   "cell_type": "code",
   "execution_count": 5,
   "metadata": {},
   "outputs": [
    {
     "name": "stderr",
     "output_type": "stream",
     "text": [
      "2022-07-25 13:52:46,297:INFO:ADG: Running sampling via ('ADG', \"{'proportion': 1.0, 'kernel': 'rbf_1', 'lam': 1.0, 'mu': 1.0, 'k': 12, 'gamma': 1.0, 'n_jobs': 1, 'random_state': 5, 'class_name': 'ADG'}\")\n",
      "2022-07-25 13:52:46,321:INFO:ADG: Starging iteration with q=40\n",
      "2022-07-25 13:52:47,316:INFO:ADG: number of vectors added: 16/40\n",
      "2022-07-25 13:52:47,320:INFO:ADG: Starging iteration with q=20\n",
      "2022-07-25 13:52:48,144:INFO:ADG: number of vectors added: 8/20\n",
      "2022-07-25 13:52:48,146:INFO:ADG: Starging iteration with q=10\n",
      "2022-07-25 13:52:54,902:INFO:ADG: number of vectors added: 7/10\n",
      "2022-07-25 13:52:54,907:INFO:ADG: Starging iteration with q=5\n",
      "2022-07-25 13:53:00,418:INFO:ADG: number of vectors added: 4/5\n",
      "2022-07-25 13:53:00,430:INFO:ADG: Starging iteration with q=2\n",
      "2022-07-25 13:53:09,497:INFO:ADG: number of vectors added: 1/2\n",
      "2022-07-25 13:53:09,503:INFO:ADG: Running sampling via ('ADG', \"{'proportion': 1.0, 'kernel': 'rbf_1', 'lam': 1.0, 'mu': 1.0, 'k': 12, 'gamma': 1.0, 'n_jobs': 1, 'random_state': 5, 'class_name': 'ADG'}\")\n",
      "2022-07-25 13:53:09,561:INFO:ADG: Starging iteration with q=40\n",
      "2022-07-25 13:53:16,971:INFO:ADG: number of vectors added: 16/40\n",
      "2022-07-25 13:53:16,976:INFO:ADG: Starging iteration with q=20\n",
      "2022-07-25 13:53:18,939:INFO:ADG: number of vectors added: 8/20\n",
      "2022-07-25 13:53:18,943:INFO:ADG: Starging iteration with q=10\n",
      "2022-07-25 13:53:20,947:INFO:ADG: number of vectors added: 7/10\n",
      "2022-07-25 13:53:20,950:INFO:ADG: Starging iteration with q=5\n",
      "2022-07-25 13:53:22,142:INFO:ADG: number of vectors added: 4/5\n",
      "2022-07-25 13:53:22,145:INFO:ADG: Starging iteration with q=2\n",
      "2022-07-25 13:53:22,877:INFO:ADG: number of vectors added: 1/2\n"
     ]
    }
   ],
   "source": [
    "X_orig = X.copy()\n",
    "y_orig = y.copy()\n",
    "\n",
    "X_a, y_a = smote_obj.sample(X, y)\n",
    "X_c, y_c = smote_obj.__class__(**smote_obj.get_params()).sample(X, y)\n"
   ]
  },
  {
   "cell_type": "code",
   "execution_count": 6,
   "metadata": {},
   "outputs": [
    {
     "data": {
      "text/plain": [
       "True"
      ]
     },
     "execution_count": 6,
     "metadata": {},
     "output_type": "execute_result"
    }
   ],
   "source": [
    "np.array_equal(X_a, X_c)"
   ]
  },
  {
   "cell_type": "code",
   "execution_count": 7,
   "metadata": {},
   "outputs": [
    {
     "data": {
      "text/plain": [
       "True"
      ]
     },
     "execution_count": 7,
     "metadata": {},
     "output_type": "execute_result"
    }
   ],
   "source": [
    "np.array_equal(y_a, y_c)"
   ]
  },
  {
   "cell_type": "code",
   "execution_count": 8,
   "metadata": {},
   "outputs": [
    {
     "data": {
      "text/plain": [
       "True"
      ]
     },
     "execution_count": 8,
     "metadata": {},
     "output_type": "execute_result"
    }
   ],
   "source": [
    "np.array_equal(X_orig, X)"
   ]
  },
  {
   "cell_type": "code",
   "execution_count": 9,
   "metadata": {},
   "outputs": [
    {
     "data": {
      "text/plain": [
       "True"
      ]
     },
     "execution_count": 9,
     "metadata": {},
     "output_type": "execute_result"
    }
   ],
   "source": [
    "np.array_equal(y_orig, y)"
   ]
  },
  {
   "cell_type": "code",
   "execution_count": 10,
   "metadata": {},
   "outputs": [
    {
     "data": {
      "text/plain": [
       "array([[-1.40972752,  0.07111486],\n",
       "       [-1.1873495 , -0.20838002],\n",
       "       [ 0.51978825,  2.1631319 ],\n",
       "       [-0.61995016, -0.45111475],\n",
       "       [ 2.6093289 , -0.40993063],\n",
       "       [-0.06624482, -0.45882838],\n",
       "       [-0.28836659, -0.59493865],\n",
       "       [ 0.345051  ,  0.05188811],\n",
       "       [ 1.75694985,  0.16685025],\n",
       "       [ 0.52901288, -0.62341735],\n",
       "       [ 0.09694047, -0.15811278],\n",
       "       [-0.37490451, -0.46290818],\n",
       "       [-0.32855088, -0.20893795],\n",
       "       [-0.98508364, -0.32003935],\n",
       "       [ 0.07579831,  1.36455355],\n",
       "       [-1.44496689, -0.44792395],\n",
       "       [ 1.17083343, -0.15804265],\n",
       "       [ 1.73361443, -0.06018163],\n",
       "       [-0.05139342,  0.44876765],\n",
       "       [ 0.33731075, -0.06547923],\n",
       "       [-0.02803696,  0.5802353 ],\n",
       "       [ 0.20885408,  0.39232885],\n",
       "       [ 0.22819482,  2.47835768],\n",
       "       [ 1.48216063,  0.81341279],\n",
       "       [-0.6240829 , -0.90154291],\n",
       "       [ 0.54349668,  1.4313319 ],\n",
       "       [-0.65925018,  0.78058634],\n",
       "       [-1.65006105, -0.88327625],\n",
       "       [-1.49996313, -0.99378106],\n",
       "       [ 0.31628974, -0.41951526],\n",
       "       [ 0.64402186,  1.10456105],\n",
       "       [-0.17725369, -0.67939216],\n",
       "       [ 0.12000555, -1.18672234],\n",
       "       [ 2.09793313,  1.82636262],\n",
       "       [-0.11711376,  0.49655609],\n",
       "       [ 1.40513236,  0.74970305],\n",
       "       [ 2.40025472, -0.5971392 ],\n",
       "       [-1.04860983,  2.05691699],\n",
       "       [ 0.74057019, -1.48622202],\n",
       "       [ 1.32230881, -2.36226588],\n",
       "       [-1.00093975, -0.44426212],\n",
       "       [-2.25927766, -0.55860504],\n",
       "       [-1.12592836, -0.13399132],\n",
       "       [ 0.14500925, -0.89070934],\n",
       "       [ 0.90572513,  1.23923502],\n",
       "       [-1.25416346, -1.49100593],\n",
       "       [ 0.51229813,  1.54563048],\n",
       "       [-1.36854287,  0.0151081 ],\n",
       "       [ 0.08169257, -0.69722099],\n",
       "       [-0.73737846,  0.42595479],\n",
       "       [ 0.02465411, -0.36742946],\n",
       "       [-1.14532211, -1.23217124],\n",
       "       [ 0.98038343,  0.59259824],\n",
       "       [-0.20721222,  0.68062552],\n",
       "       [-2.21596433, -1.96045872],\n",
       "       [-1.20519292, -1.8900018 ],\n",
       "       [ 0.47189299, -0.4737293 ],\n",
       "       [ 1.18196143,  0.85320018],\n",
       "       [ 0.03255894, -0.77687178],\n",
       "       [ 0.32485141, -0.34609381],\n",
       "       [ 5.7996138 , -0.25574582],\n",
       "       [ 3.0637093 ,  2.11750874],\n",
       "       [ 4.91444087, -0.72380123],\n",
       "       [ 1.06414164,  0.08694243],\n",
       "       [ 2.59071708,  0.75283568],\n",
       "       [ 3.44834937,  1.46118085],\n",
       "       [ 2.8036378 ,  0.69553702],\n",
       "       [ 3.57901791,  0.71870743],\n",
       "       [ 3.81529064,  0.62580927],\n",
       "       [ 3.05005506,  0.33290343],\n",
       "       [ 1.83674689,  1.06998465],\n",
       "       [ 2.08574889, -0.32686821],\n",
       "       [ 3.49417022, -0.92155623],\n",
       "       [ 2.33920982, -1.59057568],\n",
       "       [ 1.95332431, -0.84533309],\n",
       "       [ 3.35453368, -1.10178101],\n",
       "       [ 4.20791149, -1.41874985],\n",
       "       [ 2.25371221, -1.45181929],\n",
       "       [ 2.87401694, -0.74746037],\n",
       "       [ 1.84435381,  0.15715329],\n",
       "       [ 1.06505087,  0.08635079],\n",
       "       [ 3.5469699 , -1.08210641],\n",
       "       [ 3.35782113, -0.91625678],\n",
       "       [ 3.652622  , -1.17910496],\n",
       "       [ 3.66243834, -1.04958751],\n",
       "       [ 3.4668306 , -1.11087371],\n",
       "       [ 3.45445067, -1.06203253],\n",
       "       [ 5.80092457, -0.25643539],\n",
       "       [ 5.80019131, -0.25459362],\n",
       "       [ 3.1298555 ,  2.00488748],\n",
       "       [ 4.36047149, -1.26867257],\n",
       "       [ 4.14117966, -1.48449111],\n",
       "       [ 5.57085738, -0.07703686],\n",
       "       [ 5.22344394, -0.41770468],\n",
       "       [ 2.36792024, -1.67628394],\n",
       "       [ 2.27986951, -1.49014213],\n",
       "       [ 3.652622  , -1.17910496],\n",
       "       [ 2.11914886,  1.12809903],\n",
       "       [ 3.10296387,  2.04927787],\n",
       "       [ 3.25713355,  1.78726074],\n",
       "       [ 4.57948597, -1.05291629],\n",
       "       [ 4.49041955, -1.13900004],\n",
       "       [ 2.20407012, -1.32012778],\n",
       "       [ 2.23034276, -1.39607292],\n",
       "       [ 3.45796034, -1.08045917],\n",
       "       [ 3.1792615 , -0.92863449],\n",
       "       [ 3.5469699 , -1.08210641],\n",
       "       [ 2.75506005,  0.66233759],\n",
       "       [ 3.89357624,  0.59427643],\n",
       "       [ 3.56180853,  0.72746959],\n",
       "       [ 2.32423874, -1.57909794],\n",
       "       [ 3.7432613 , -1.13325331],\n",
       "       [ 3.40807269, -0.83594325],\n",
       "       [ 3.76808076,  0.64265811],\n",
       "       [ 3.91564833, -1.70417794],\n",
       "       [ 3.68478402,  0.67882252]])"
      ]
     },
     "execution_count": 10,
     "metadata": {},
     "output_type": "execute_result"
    }
   ],
   "source": [
    "X_a"
   ]
  },
  {
   "cell_type": "code",
   "execution_count": 11,
   "metadata": {},
   "outputs": [
    {
     "data": {
      "text/plain": [
       "array([[-1.40972752,  0.07111486],\n",
       "       [-1.1873495 , -0.20838002],\n",
       "       [ 0.51978825,  2.1631319 ],\n",
       "       [-0.61995016, -0.45111475],\n",
       "       [ 2.6093289 , -0.40993063],\n",
       "       [-0.06624482, -0.45882838],\n",
       "       [-0.28836659, -0.59493865],\n",
       "       [ 0.345051  ,  0.05188811],\n",
       "       [ 1.75694985,  0.16685025],\n",
       "       [ 0.52901288, -0.62341735],\n",
       "       [ 0.09694047, -0.15811278],\n",
       "       [-0.37490451, -0.46290818],\n",
       "       [-0.32855088, -0.20893795],\n",
       "       [-0.98508364, -0.32003935],\n",
       "       [ 0.07579831,  1.36455355],\n",
       "       [-1.44496689, -0.44792395],\n",
       "       [ 1.17083343, -0.15804265],\n",
       "       [ 1.73361443, -0.06018163],\n",
       "       [-0.05139342,  0.44876765],\n",
       "       [ 0.33731075, -0.06547923],\n",
       "       [-0.02803696,  0.5802353 ],\n",
       "       [ 0.20885408,  0.39232885],\n",
       "       [ 0.22819482,  2.47835768],\n",
       "       [ 1.48216063,  0.81341279],\n",
       "       [-0.6240829 , -0.90154291],\n",
       "       [ 0.54349668,  1.4313319 ],\n",
       "       [-0.65925018,  0.78058634],\n",
       "       [-1.65006105, -0.88327625],\n",
       "       [-1.49996313, -0.99378106],\n",
       "       [ 0.31628974, -0.41951526],\n",
       "       [ 0.64402186,  1.10456105],\n",
       "       [-0.17725369, -0.67939216],\n",
       "       [ 0.12000555, -1.18672234],\n",
       "       [ 2.09793313,  1.82636262],\n",
       "       [-0.11711376,  0.49655609],\n",
       "       [ 1.40513236,  0.74970305],\n",
       "       [ 2.40025472, -0.5971392 ],\n",
       "       [-1.04860983,  2.05691699],\n",
       "       [ 0.74057019, -1.48622202],\n",
       "       [ 1.32230881, -2.36226588],\n",
       "       [-1.00093975, -0.44426212],\n",
       "       [-2.25927766, -0.55860504],\n",
       "       [-1.12592836, -0.13399132],\n",
       "       [ 0.14500925, -0.89070934],\n",
       "       [ 0.90572513,  1.23923502],\n",
       "       [-1.25416346, -1.49100593],\n",
       "       [ 0.51229813,  1.54563048],\n",
       "       [-1.36854287,  0.0151081 ],\n",
       "       [ 0.08169257, -0.69722099],\n",
       "       [-0.73737846,  0.42595479],\n",
       "       [ 0.02465411, -0.36742946],\n",
       "       [-1.14532211, -1.23217124],\n",
       "       [ 0.98038343,  0.59259824],\n",
       "       [-0.20721222,  0.68062552],\n",
       "       [-2.21596433, -1.96045872],\n",
       "       [-1.20519292, -1.8900018 ],\n",
       "       [ 0.47189299, -0.4737293 ],\n",
       "       [ 1.18196143,  0.85320018],\n",
       "       [ 0.03255894, -0.77687178],\n",
       "       [ 0.32485141, -0.34609381],\n",
       "       [ 5.7996138 , -0.25574582],\n",
       "       [ 3.0637093 ,  2.11750874],\n",
       "       [ 4.91444087, -0.72380123],\n",
       "       [ 1.06414164,  0.08694243],\n",
       "       [ 2.59071708,  0.75283568],\n",
       "       [ 3.44834937,  1.46118085],\n",
       "       [ 2.8036378 ,  0.69553702],\n",
       "       [ 3.57901791,  0.71870743],\n",
       "       [ 3.81529064,  0.62580927],\n",
       "       [ 3.05005506,  0.33290343],\n",
       "       [ 1.83674689,  1.06998465],\n",
       "       [ 2.08574889, -0.32686821],\n",
       "       [ 3.49417022, -0.92155623],\n",
       "       [ 2.33920982, -1.59057568],\n",
       "       [ 1.95332431, -0.84533309],\n",
       "       [ 3.35453368, -1.10178101],\n",
       "       [ 4.20791149, -1.41874985],\n",
       "       [ 2.25371221, -1.45181929],\n",
       "       [ 2.87401694, -0.74746037],\n",
       "       [ 1.84435381,  0.15715329],\n",
       "       [ 1.06505087,  0.08635079],\n",
       "       [ 3.5469699 , -1.08210641],\n",
       "       [ 3.35782113, -0.91625678],\n",
       "       [ 3.652622  , -1.17910496],\n",
       "       [ 3.66243834, -1.04958751],\n",
       "       [ 3.4668306 , -1.11087371],\n",
       "       [ 3.45445067, -1.06203253],\n",
       "       [ 5.80092457, -0.25643539],\n",
       "       [ 5.80019131, -0.25459362],\n",
       "       [ 3.1298555 ,  2.00488748],\n",
       "       [ 4.36047149, -1.26867257],\n",
       "       [ 4.14117966, -1.48449111],\n",
       "       [ 5.57085738, -0.07703686],\n",
       "       [ 5.22344394, -0.41770468],\n",
       "       [ 2.36792024, -1.67628394],\n",
       "       [ 2.27986951, -1.49014213],\n",
       "       [ 3.652622  , -1.17910496],\n",
       "       [ 2.11914886,  1.12809903],\n",
       "       [ 3.10296387,  2.04927787],\n",
       "       [ 3.25713355,  1.78726074],\n",
       "       [ 4.57948597, -1.05291629],\n",
       "       [ 4.49041955, -1.13900004],\n",
       "       [ 2.20407012, -1.32012778],\n",
       "       [ 2.23034276, -1.39607292],\n",
       "       [ 3.45796034, -1.08045917],\n",
       "       [ 3.1792615 , -0.92863449],\n",
       "       [ 3.5469699 , -1.08210641],\n",
       "       [ 2.75506005,  0.66233759],\n",
       "       [ 3.89357624,  0.59427643],\n",
       "       [ 3.56180853,  0.72746959],\n",
       "       [ 2.32423874, -1.57909794],\n",
       "       [ 3.7432613 , -1.13325331],\n",
       "       [ 3.40807269, -0.83594325],\n",
       "       [ 3.76808076,  0.64265811],\n",
       "       [ 3.91564833, -1.70417794],\n",
       "       [ 3.68478402,  0.67882252]])"
      ]
     },
     "execution_count": 11,
     "metadata": {},
     "output_type": "execute_result"
    }
   ],
   "source": [
    "X_c"
   ]
  },
  {
   "cell_type": "code",
   "execution_count": 12,
   "metadata": {},
   "outputs": [],
   "source": [
    "from sklearn.neighbors import NearestNeighbors\n",
    "import numpy as np\n",
    "\n",
    "nn = NearestNeighbors()"
   ]
  },
  {
   "cell_type": "code",
   "execution_count": 13,
   "metadata": {},
   "outputs": [],
   "source": [
    "X = np.array([[1.0, 0.0], [0.0, 1.0], [0.0, 2.0]])"
   ]
  },
  {
   "cell_type": "code",
   "execution_count": 14,
   "metadata": {},
   "outputs": [
    {
     "data": {
      "text/html": [
       "<style>#sk-container-id-1 {color: black;background-color: white;}#sk-container-id-1 pre{padding: 0;}#sk-container-id-1 div.sk-toggleable {background-color: white;}#sk-container-id-1 label.sk-toggleable__label {cursor: pointer;display: block;width: 100%;margin-bottom: 0;padding: 0.3em;box-sizing: border-box;text-align: center;}#sk-container-id-1 label.sk-toggleable__label-arrow:before {content: \"▸\";float: left;margin-right: 0.25em;color: #696969;}#sk-container-id-1 label.sk-toggleable__label-arrow:hover:before {color: black;}#sk-container-id-1 div.sk-estimator:hover label.sk-toggleable__label-arrow:before {color: black;}#sk-container-id-1 div.sk-toggleable__content {max-height: 0;max-width: 0;overflow: hidden;text-align: left;background-color: #f0f8ff;}#sk-container-id-1 div.sk-toggleable__content pre {margin: 0.2em;color: black;border-radius: 0.25em;background-color: #f0f8ff;}#sk-container-id-1 input.sk-toggleable__control:checked~div.sk-toggleable__content {max-height: 200px;max-width: 100%;overflow: auto;}#sk-container-id-1 input.sk-toggleable__control:checked~label.sk-toggleable__label-arrow:before {content: \"▾\";}#sk-container-id-1 div.sk-estimator input.sk-toggleable__control:checked~label.sk-toggleable__label {background-color: #d4ebff;}#sk-container-id-1 div.sk-label input.sk-toggleable__control:checked~label.sk-toggleable__label {background-color: #d4ebff;}#sk-container-id-1 input.sk-hidden--visually {border: 0;clip: rect(1px 1px 1px 1px);clip: rect(1px, 1px, 1px, 1px);height: 1px;margin: -1px;overflow: hidden;padding: 0;position: absolute;width: 1px;}#sk-container-id-1 div.sk-estimator {font-family: monospace;background-color: #f0f8ff;border: 1px dotted black;border-radius: 0.25em;box-sizing: border-box;margin-bottom: 0.5em;}#sk-container-id-1 div.sk-estimator:hover {background-color: #d4ebff;}#sk-container-id-1 div.sk-parallel-item::after {content: \"\";width: 100%;border-bottom: 1px solid gray;flex-grow: 1;}#sk-container-id-1 div.sk-label:hover label.sk-toggleable__label {background-color: #d4ebff;}#sk-container-id-1 div.sk-serial::before {content: \"\";position: absolute;border-left: 1px solid gray;box-sizing: border-box;top: 0;bottom: 0;left: 50%;z-index: 0;}#sk-container-id-1 div.sk-serial {display: flex;flex-direction: column;align-items: center;background-color: white;padding-right: 0.2em;padding-left: 0.2em;position: relative;}#sk-container-id-1 div.sk-item {position: relative;z-index: 1;}#sk-container-id-1 div.sk-parallel {display: flex;align-items: stretch;justify-content: center;background-color: white;position: relative;}#sk-container-id-1 div.sk-item::before, #sk-container-id-1 div.sk-parallel-item::before {content: \"\";position: absolute;border-left: 1px solid gray;box-sizing: border-box;top: 0;bottom: 0;left: 50%;z-index: -1;}#sk-container-id-1 div.sk-parallel-item {display: flex;flex-direction: column;z-index: 1;position: relative;background-color: white;}#sk-container-id-1 div.sk-parallel-item:first-child::after {align-self: flex-end;width: 50%;}#sk-container-id-1 div.sk-parallel-item:last-child::after {align-self: flex-start;width: 50%;}#sk-container-id-1 div.sk-parallel-item:only-child::after {width: 0;}#sk-container-id-1 div.sk-dashed-wrapped {border: 1px dashed gray;margin: 0 0.4em 0.5em 0.4em;box-sizing: border-box;padding-bottom: 0.4em;background-color: white;}#sk-container-id-1 div.sk-label label {font-family: monospace;font-weight: bold;display: inline-block;line-height: 1.2em;}#sk-container-id-1 div.sk-label-container {text-align: center;}#sk-container-id-1 div.sk-container {/* jupyter's `normalize.less` sets `[hidden] { display: none; }` but bootstrap.min.css set `[hidden] { display: none !important; }` so we also need the `!important` here to be able to override the default hidden behavior on the sphinx rendered scikit-learn.org. See: https://github.com/scikit-learn/scikit-learn/issues/21755 */display: inline-block !important;position: relative;}#sk-container-id-1 div.sk-text-repr-fallback {display: none;}</style><div id=\"sk-container-id-1\" class=\"sk-top-container\"><div class=\"sk-text-repr-fallback\"><pre>NearestNeighbors()</pre><b>In a Jupyter environment, please rerun this cell to show the HTML representation or trust the notebook. <br />On GitHub, the HTML representation is unable to render, please try loading this page with nbviewer.org.</b></div><div class=\"sk-container\" hidden><div class=\"sk-item\"><div class=\"sk-estimator sk-toggleable\"><input class=\"sk-toggleable__control sk-hidden--visually\" id=\"sk-estimator-id-1\" type=\"checkbox\" checked><label for=\"sk-estimator-id-1\" class=\"sk-toggleable__label sk-toggleable__label-arrow\">NearestNeighbors</label><div class=\"sk-toggleable__content\"><pre>NearestNeighbors()</pre></div></div></div></div></div>"
      ],
      "text/plain": [
       "NearestNeighbors()"
      ]
     },
     "execution_count": 14,
     "metadata": {},
     "output_type": "execute_result"
    }
   ],
   "source": [
    "nn.fit(X)"
   ]
  },
  {
   "cell_type": "code",
   "execution_count": 15,
   "metadata": {},
   "outputs": [
    {
     "data": {
      "text/plain": [
       "(array([array([1., 1.])], dtype=object), array([array([0, 1])], dtype=object))"
      ]
     },
     "execution_count": 15,
     "metadata": {},
     "output_type": "execute_result"
    }
   ],
   "source": [
    "nn.radius_neighbors(np.array([[0.0, 0.0]]), radius=1.0)"
   ]
  },
  {
   "cell_type": "code",
   "execution_count": null,
   "metadata": {},
   "outputs": [],
   "source": []
  }
 ],
 "metadata": {
  "kernelspec": {
   "display_name": "Python 3.10.4 ('smote_variants')",
   "language": "python",
   "name": "python3"
  },
  "language_info": {
   "codemirror_mode": {
    "name": "ipython",
    "version": 3
   },
   "file_extension": ".py",
   "mimetype": "text/x-python",
   "name": "python",
   "nbconvert_exporter": "python",
   "pygments_lexer": "ipython3",
   "version": "3.10.4"
  },
  "orig_nbformat": 4,
  "vscode": {
   "interpreter": {
    "hash": "04ee80b1cee16018cf8dd56bf8f0a10a10cf53a2e8478a33e897f29ae53ad00d"
   }
  }
 },
 "nbformat": 4,
 "nbformat_minor": 2
}
