{
 "cells": [
  {
   "cell_type": "markdown",
   "metadata": {},
   "source": [
    "# Test a new oversampler"
   ]
  },
  {
   "cell_type": "markdown",
   "metadata": {},
   "source": [
    "Edit the occurances of ```SMOTE_template``` according to your naming and execute the notebook. If the oversampling technique handles all edge cases properly, all tests should pass."
   ]
  },
  {
   "cell_type": "code",
   "execution_count": 1,
   "metadata": {},
   "outputs": [],
   "source": [
    "import numpy as np\n",
    "\n",
    "import smote_variants as sv\n",
    "\n",
    "from _SMOTE_template import SMOTE_template"
   ]
  },
  {
   "cell_type": "code",
   "execution_count": null,
   "metadata": {},
   "outputs": [],
   "source": [
    "oversampler = SMOTE_template"
   ]
  },
  {
   "cell_type": "code",
   "execution_count": 2,
   "metadata": {},
   "outputs": [],
   "source": [
    "loaders = [sv.datasets.load_1_dim,\n",
    "            sv.datasets.load_illustration_2_class,\n",
    "            sv.datasets.load_normal,\n",
    "            sv.datasets.load_same_num,\n",
    "            sv.datasets.load_some_min_some_maj,\n",
    "            sv.datasets.load_1_min_1_maj,\n",
    "            sv.datasets.load_1_min_some_maj,\n",
    "            sv.datasets.load_2_min_some_maj,\n",
    "            sv.datasets.load_3_min_some_maj,\n",
    "            sv.datasets.load_4_min_some_maj,\n",
    "            sv.datasets.load_5_min_some_maj,\n",
    "            sv.datasets.load_repeated,\n",
    "            sv.datasets.load_all_min_noise,\n",
    "            sv.datasets.load_separable,\n",
    "            sv.datasets.load_linearly_dependent,\n",
    "            sv.datasets.load_alternating,\n",
    "            sv.datasets.load_high_dim]"
   ]
  },
  {
   "cell_type": "code",
   "execution_count": 4,
   "metadata": {},
   "outputs": [
    {
     "name": "stdout",
     "output_type": "stream",
     "text": [
      "testing  load_1_dim\n",
      "testing  load_illustration_2_class\n",
      "testing  load_normal\n",
      "testing  load_same_num\n",
      "testing  load_some_min_some_maj\n",
      "testing  load_1_min_1_maj\n",
      "testing  load_1_min_some_maj\n",
      "testing  load_2_min_some_maj\n",
      "testing  load_3_min_some_maj\n",
      "testing  load_4_min_some_maj\n",
      "testing  load_5_min_some_maj\n",
      "testing  load_repeated\n",
      "testing  load_all_min_noise\n",
      "testing  load_separable\n",
      "testing  load_linearly_dependent\n",
      "testing  load_alternating\n",
      "testing  load_high_dim\n"
     ]
    }
   ],
   "source": [
    "for loader in loaders:\n",
    "    print('testing ', loader.__name__)\n",
    "    \n",
    "    dataset = loader()\n",
    "    X = dataset['data']\n",
    "    y = dataset['target']\n",
    "    \n",
    "    oversampler_obj = oversampler()\n",
    "    \n",
    "    X_samp, y_samp = oversampler_obj.sample(X, y)\n",
    "    \n",
    "    assert np.unique(y_samp).shape[0] == 2\n",
    "    assert X_samp.shape[0] > 0\n",
    "    assert X_samp.shape[1] == oversampler_obj.preprocessing_transform(X).shape[1]\n",
    "    "
   ]
  },
  {
   "cell_type": "code",
   "execution_count": 5,
   "metadata": {},
   "outputs": [],
   "source": [
    "def test_reproducibility(oversampler):\n",
    "    \"\"\"\n",
    "    Tests the reproducibility of oversampling.\n",
    "\n",
    "    Args:\n",
    "        smote_obj (obj): an oversampling obj\n",
    "    \"\"\"\n",
    "    \n",
    "    dataset = sv.datasets.load_normal()\n",
    "    X_normal = dataset['data']\n",
    "    y_normal = dataset['target']\n",
    "    \n",
    "    smote_obj = oversampler()\n",
    "    \n",
    "    X_orig = X_normal.copy()\n",
    "    y_orig = y_normal.copy()\n",
    "\n",
    "    X_a, y_a = smote_obj.__class__(random_state=5).sample(X_normal, y_normal)\n",
    "    oversampler = smote_obj.__class__(random_state=5)\n",
    "    X_b, y_b = oversampler.sample(X_normal, y_normal)\n",
    "    X_c, y_c = smote_obj.__class__(**oversampler.get_params()).sample(X_normal, y_normal)\n",
    "\n",
    "    assert np.array_equal(X_a, X_b)\n",
    "    assert np.array_equal(X_b, X_c)\n",
    "    assert np.array_equal(X_orig, X_normal)\n",
    "\n",
    "    assert np.array_equal(y_a, y_b)\n",
    "    assert np.array_equal(y_b, y_c)\n",
    "    assert np.array_equal(y_orig, y_normal)"
   ]
  },
  {
   "cell_type": "code",
   "execution_count": 6,
   "metadata": {},
   "outputs": [],
   "source": [
    "test_reproducibility(oversampler)"
   ]
  },
  {
   "cell_type": "code",
   "execution_count": 7,
   "metadata": {},
   "outputs": [],
   "source": [
    "def test_parameters(oversampler):\n",
    "    \"\"\"\n",
    "    Test the parameterization.\n",
    "\n",
    "    Args:\n",
    "        smote_obj (obj): an oversampling object\n",
    "    \"\"\"\n",
    "    smote_obj = oversampler()\n",
    "    \n",
    "    random_state = np.random.RandomState(5)\n",
    "\n",
    "    par_comb = smote_obj.__class__.parameter_combinations()\n",
    "\n",
    "    original_parameters = random_state.choice(par_comb)\n",
    "    oversampler = smote_obj.__class__(**original_parameters)\n",
    "    parameters = oversampler.get_params()\n",
    "\n",
    "    assert all(v == parameters[k] for k, v in original_parameters.items())\n"
   ]
  },
  {
   "cell_type": "code",
   "execution_count": 8,
   "metadata": {},
   "outputs": [],
   "source": [
    "test_parameters(oversampler)"
   ]
  }
 ],
 "metadata": {
  "kernelspec": {
   "display_name": "Python 3.10.4 ('smote_variants')",
   "language": "python",
   "name": "python3"
  },
  "language_info": {
   "codemirror_mode": {
    "name": "ipython",
    "version": 3
   },
   "file_extension": ".py",
   "mimetype": "text/x-python",
   "name": "python",
   "nbconvert_exporter": "python",
   "pygments_lexer": "ipython3",
   "version": "3.10.4"
  },
  "orig_nbformat": 4,
  "vscode": {
   "interpreter": {
    "hash": "04ee80b1cee16018cf8dd56bf8f0a10a10cf53a2e8478a33e897f29ae53ad00d"
   }
  }
 },
 "nbformat": 4,
 "nbformat_minor": 2
}
